{
 "cells": [
  {
   "cell_type": "code",
   "execution_count": 1,
   "id": "3a25caef",
   "metadata": {},
   "outputs": [],
   "source": [
    "# # Instalacion de otras librerias\n",
    "# !pip install colour-science\n",
    "# !pip install xgboost\n",
    "# !pip install scikeras\n",
    "# !pip install yellowbrick"
   ]
  },
  {
   "cell_type": "code",
   "execution_count": 1,
   "id": "3b6e737a",
   "metadata": {
    "colab": {
     "base_uri": "https://localhost:8080/"
    },
    "id": "0W-d9Q5Uzxy2",
    "outputId": "aa0e5ecb-a8f6-42d4-c7c6-747404ff2b46"
   },
   "outputs": [],
   "source": [
    "# Manejo de datos\n",
    "import pandas as pd\n",
    "import numpy as np\n",
    "from sklearn.model_selection import train_test_split\n",
    "from sklearn.model_selection import KFold, cross_val_score\n",
    "from sklearn import utils\n",
    "\n",
    "# Ploting\n",
    "import matplotlib.pyplot as plt\n",
    "import colour\n",
    "\n",
    "# Algoritmos de ML\n",
    "# Scikit learn\n",
    "from sklearn.model_selection import GridSearchCV\n",
    "from sklearn.neighbors import KNeighborsRegressor\n",
    "from sklearn.svm import SVR\n",
    "from sklearn.gaussian_process import GaussianProcessRegressor\n",
    "from sklearn.tree import DecisionTreeRegressor\n",
    "from sklearn.linear_model import (LinearRegression, Ridge, Lasso, ElasticNet,\n",
    "                                 BayesianRidge)\n",
    "from sklearn.ensemble import (RandomForestRegressor, GradientBoostingRegressor, \n",
    "                              AdaBoostRegressor)\n",
    "# Redes Neuronales\n",
    "import tensorflow as tf\n",
    "from tensorflow import keras\n",
    "import scikeras\n",
    "\n",
    "# Metricas \n",
    "from sklearn.metrics import (mean_squared_error, mean_absolute_error)\n",
    "\n",
    "# Otros \n",
    "import datetime\n",
    "import optuna\n",
    "\n",
    "# Implementacion de tensorboard\n",
    "# Load the TensorBoard notebook extension\n",
    "# %load_ext tensorboard\n",
    "\n"
   ]
  },
  {
   "cell_type": "markdown",
   "id": "4c2c03e9",
   "metadata": {
    "id": "Tr3g4O05z6Df"
   },
   "source": [
    "## Lectura del CSV"
   ]
  },
  {
   "cell_type": "code",
   "execution_count": 3,
   "id": "b68cc49c",
   "metadata": {
    "colab": {
     "base_uri": "https://localhost:8080/",
     "height": 206
    },
    "id": "0cSKDve40AGo",
    "outputId": "89eb66c9-7478-45d6-a814-c79725b56af9"
   },
   "outputs": [],
   "source": [
    "# df = pd.read_csv('/content/drive/MyDrive/DataSets/Practicas Profesionales/rgb.csv')\n",
    "# df_xyz = pd.read_csv('/content/drive/MyDrive/DataSets/Practicas Profesionales/xyz.csv')\n",
    "# df = df.merge(df_xyz,how='outer')\n",
    "# df.to_csv('/content/drive/MyDrive/DataSets/Practicas Profesionales/df_rgb_xyz.csv')\n",
    "# df.head()"
   ]
  },
  {
   "cell_type": "code",
   "execution_count": 2,
   "id": "e54dedd9",
   "metadata": {
    "colab": {
     "base_uri": "https://localhost:8080/",
     "height": 206
    },
    "id": "DoeuEADVn35y",
    "outputId": "e402483e-1fcf-47f1-ffc3-eed000a3e81e",
    "scrolled": true
   },
   "outputs": [
    {
     "data": {
      "text/html": [
       "<div>\n",
       "<style scoped>\n",
       "    .dataframe tbody tr th:only-of-type {\n",
       "        vertical-align: middle;\n",
       "    }\n",
       "\n",
       "    .dataframe tbody tr th {\n",
       "        vertical-align: top;\n",
       "    }\n",
       "\n",
       "    .dataframe thead th {\n",
       "        text-align: right;\n",
       "    }\n",
       "</style>\n",
       "<table border=\"1\" class=\"dataframe\">\n",
       "  <thead>\n",
       "    <tr style=\"text-align: right;\">\n",
       "      <th></th>\n",
       "      <th>R</th>\n",
       "      <th>DEE</th>\n",
       "      <th>Remb</th>\n",
       "      <th>r</th>\n",
       "      <th>g</th>\n",
       "      <th>b</th>\n",
       "      <th>x</th>\n",
       "      <th>y</th>\n",
       "      <th>z</th>\n",
       "    </tr>\n",
       "  </thead>\n",
       "  <tbody>\n",
       "    <tr>\n",
       "      <th>0</th>\n",
       "      <td>0.101691</td>\n",
       "      <td>0.891269</td>\n",
       "      <td>0.5481</td>\n",
       "      <td>0.607739</td>\n",
       "      <td>0.607748</td>\n",
       "      <td>0.610636</td>\n",
       "      <td>0.312052</td>\n",
       "      <td>0.327911</td>\n",
       "      <td>0.360038</td>\n",
       "    </tr>\n",
       "    <tr>\n",
       "      <th>1</th>\n",
       "      <td>0.249168</td>\n",
       "      <td>0.539952</td>\n",
       "      <td>0.3979</td>\n",
       "      <td>0.614463</td>\n",
       "      <td>0.662313</td>\n",
       "      <td>0.545797</td>\n",
       "      <td>0.326839</td>\n",
       "      <td>0.373410</td>\n",
       "      <td>0.299751</td>\n",
       "    </tr>\n",
       "    <tr>\n",
       "      <th>2</th>\n",
       "      <td>0.914374</td>\n",
       "      <td>0.211320</td>\n",
       "      <td>0.6341</td>\n",
       "      <td>0.643678</td>\n",
       "      <td>0.632023</td>\n",
       "      <td>0.563976</td>\n",
       "      <td>0.331315</td>\n",
       "      <td>0.354632</td>\n",
       "      <td>0.314053</td>\n",
       "    </tr>\n",
       "    <tr>\n",
       "      <th>3</th>\n",
       "      <td>0.859463</td>\n",
       "      <td>0.568773</td>\n",
       "      <td>0.8010</td>\n",
       "      <td>0.667089</td>\n",
       "      <td>0.649641</td>\n",
       "      <td>0.526636</td>\n",
       "      <td>0.344984</td>\n",
       "      <td>0.374364</td>\n",
       "      <td>0.280652</td>\n",
       "    </tr>\n",
       "    <tr>\n",
       "      <th>4</th>\n",
       "      <td>0.311980</td>\n",
       "      <td>0.182830</td>\n",
       "      <td>0.3469</td>\n",
       "      <td>0.752189</td>\n",
       "      <td>0.582688</td>\n",
       "      <td>0.540596</td>\n",
       "      <td>0.369491</td>\n",
       "      <td>0.343779</td>\n",
       "      <td>0.286731</td>\n",
       "    </tr>\n",
       "  </tbody>\n",
       "</table>\n",
       "</div>"
      ],
      "text/plain": [
       "          R       DEE    Remb         r         g         b         x  \\\n",
       "0  0.101691  0.891269  0.5481  0.607739  0.607748  0.610636  0.312052   \n",
       "1  0.249168  0.539952  0.3979  0.614463  0.662313  0.545797  0.326839   \n",
       "2  0.914374  0.211320  0.6341  0.643678  0.632023  0.563976  0.331315   \n",
       "3  0.859463  0.568773  0.8010  0.667089  0.649641  0.526636  0.344984   \n",
       "4  0.311980  0.182830  0.3469  0.752189  0.582688  0.540596  0.369491   \n",
       "\n",
       "          y         z  \n",
       "0  0.327911  0.360038  \n",
       "1  0.373410  0.299751  \n",
       "2  0.354632  0.314053  \n",
       "3  0.374364  0.280652  \n",
       "4  0.343779  0.286731  "
      ]
     },
     "execution_count": 2,
     "metadata": {},
     "output_type": "execute_result"
    }
   ],
   "source": [
    "df = pd.read_csv('df_rgb_xyz.csv').drop('Unnamed: 0',axis=1)\n",
    "df['R'] = df['R'] / 100\n",
    "df['DEE'] = df['DEE'] / 80\n",
    "df.head()"
   ]
  },
  {
   "cell_type": "markdown",
   "id": "4c401a7f",
   "metadata": {
    "id": "Ub2zcFt20oPv"
   },
   "source": [
    "Parametros esperados de salida\n",
    "\n",
    "---\n",
    "* **R:** Radio de Nanoparticula (Dimensiones: nm, Rango: [5, 100])\n",
    "* **DEE:** Distancia entre Nanoparticulas (Dimensiones: nm, Rango: [5, 80])\n",
    "* **Remb:** Radio de incrustado (Dimensiones: porcentual, Rango: [0.3, 1])\n",
    "\n",
    "Parametros esperados de entrada\n",
    "\n",
    "---\n",
    "* **r:** Rojo del Espacio de color sRGB (valor de 0 a 1)\n",
    "* **g:** Verde del Espacio de color sRGB (valor de 0 a 1)\n",
    "* **b:** Azul del espacio de color sRGB (valor de 0 a 1)"
   ]
  },
  {
   "cell_type": "code",
   "execution_count": 3,
   "id": "f23c9e45",
   "metadata": {
    "id": "BS9h9Y5I4kDK",
    "scrolled": false
   },
   "outputs": [
    {
     "name": "stdout",
     "output_type": "stream",
     "text": [
      "<class 'pandas.core.frame.DataFrame'>\n",
      "RangeIndex: 24635 entries, 0 to 24634\n",
      "Data columns (total 9 columns):\n",
      " #   Column  Non-Null Count  Dtype  \n",
      "---  ------  --------------  -----  \n",
      " 0   R       24635 non-null  float64\n",
      " 1   DEE     24635 non-null  float64\n",
      " 2   Remb    24635 non-null  float64\n",
      " 3   r       24635 non-null  float64\n",
      " 4   g       24635 non-null  float64\n",
      " 5   b       24635 non-null  float64\n",
      " 6   x       24635 non-null  float64\n",
      " 7   y       24635 non-null  float64\n",
      " 8   z       24635 non-null  float64\n",
      "dtypes: float64(9)\n",
      "memory usage: 1.7 MB\n"
     ]
    }
   ],
   "source": [
    "df.info()"
   ]
  },
  {
   "cell_type": "markdown",
   "id": "6e78d9bc",
   "metadata": {
    "id": "KUoHheQE6hS6"
   },
   "source": [
    "Se determina la precencia de datos faltantes (NaN), lo cual resulta negativo para este caso"
   ]
  },
  {
   "cell_type": "markdown",
   "id": "db81ed7c",
   "metadata": {
    "id": "EBgZMpzT-0Yi"
   },
   "source": [
    "## Identificacion y tratado de valores atipicos"
   ]
  },
  {
   "cell_type": "code",
   "execution_count": 4,
   "id": "2c6102e5",
   "metadata": {
    "colab": {
     "base_uri": "https://localhost:8080/"
    },
    "id": "4hLpCfAG0QPa",
    "outputId": "50d95486-0ed2-4d10-92f7-f5d0fb10688c"
   },
   "outputs": [
    {
     "data": {
      "text/html": [
       "<div>\n",
       "<style scoped>\n",
       "    .dataframe tbody tr th:only-of-type {\n",
       "        vertical-align: middle;\n",
       "    }\n",
       "\n",
       "    .dataframe tbody tr th {\n",
       "        vertical-align: top;\n",
       "    }\n",
       "\n",
       "    .dataframe thead th {\n",
       "        text-align: right;\n",
       "    }\n",
       "</style>\n",
       "<table border=\"1\" class=\"dataframe\">\n",
       "  <thead>\n",
       "    <tr style=\"text-align: right;\">\n",
       "      <th></th>\n",
       "      <th>count</th>\n",
       "      <th>mean</th>\n",
       "      <th>std</th>\n",
       "      <th>min</th>\n",
       "      <th>25%</th>\n",
       "      <th>50%</th>\n",
       "      <th>75%</th>\n",
       "      <th>max</th>\n",
       "    </tr>\n",
       "  </thead>\n",
       "  <tbody>\n",
       "    <tr>\n",
       "      <th>R</th>\n",
       "      <td>24635.0</td>\n",
       "      <td>0.565423</td>\n",
       "      <td>0.284399</td>\n",
       "      <td>0.050000</td>\n",
       "      <td>0.345113</td>\n",
       "      <td>0.560209</td>\n",
       "      <td>0.805104</td>\n",
       "      <td>1.000000</td>\n",
       "    </tr>\n",
       "    <tr>\n",
       "      <th>DEE</th>\n",
       "      <td>24635.0</td>\n",
       "      <td>0.474598</td>\n",
       "      <td>0.277197</td>\n",
       "      <td>0.062500</td>\n",
       "      <td>0.233058</td>\n",
       "      <td>0.481660</td>\n",
       "      <td>0.674836</td>\n",
       "      <td>1.000000</td>\n",
       "    </tr>\n",
       "    <tr>\n",
       "      <th>Remb</th>\n",
       "      <td>24635.0</td>\n",
       "      <td>0.657977</td>\n",
       "      <td>0.188672</td>\n",
       "      <td>0.300000</td>\n",
       "      <td>0.519609</td>\n",
       "      <td>0.690612</td>\n",
       "      <td>0.775595</td>\n",
       "      <td>1.000000</td>\n",
       "    </tr>\n",
       "    <tr>\n",
       "      <th>r</th>\n",
       "      <td>24635.0</td>\n",
       "      <td>0.627914</td>\n",
       "      <td>0.080999</td>\n",
       "      <td>-0.181064</td>\n",
       "      <td>0.574962</td>\n",
       "      <td>0.630622</td>\n",
       "      <td>0.685156</td>\n",
       "      <td>0.880922</td>\n",
       "    </tr>\n",
       "    <tr>\n",
       "      <th>g</th>\n",
       "      <td>24635.0</td>\n",
       "      <td>0.601236</td>\n",
       "      <td>0.049293</td>\n",
       "      <td>0.363591</td>\n",
       "      <td>0.575145</td>\n",
       "      <td>0.607490</td>\n",
       "      <td>0.629795</td>\n",
       "      <td>0.740896</td>\n",
       "    </tr>\n",
       "    <tr>\n",
       "      <th>b</th>\n",
       "      <td>24635.0</td>\n",
       "      <td>0.595498</td>\n",
       "      <td>0.063144</td>\n",
       "      <td>0.280018</td>\n",
       "      <td>0.565935</td>\n",
       "      <td>0.606192</td>\n",
       "      <td>0.632683</td>\n",
       "      <td>0.756195</td>\n",
       "    </tr>\n",
       "    <tr>\n",
       "      <th>x</th>\n",
       "      <td>24635.0</td>\n",
       "      <td>0.321553</td>\n",
       "      <td>0.030290</td>\n",
       "      <td>0.204156</td>\n",
       "      <td>0.300711</td>\n",
       "      <td>0.321979</td>\n",
       "      <td>0.343659</td>\n",
       "      <td>0.438084</td>\n",
       "    </tr>\n",
       "    <tr>\n",
       "      <th>y</th>\n",
       "      <td>24635.0</td>\n",
       "      <td>0.330612</td>\n",
       "      <td>0.036470</td>\n",
       "      <td>0.221430</td>\n",
       "      <td>0.301435</td>\n",
       "      <td>0.328984</td>\n",
       "      <td>0.351444</td>\n",
       "      <td>0.464530</td>\n",
       "    </tr>\n",
       "    <tr>\n",
       "      <th>z</th>\n",
       "      <td>24635.0</td>\n",
       "      <td>0.347835</td>\n",
       "      <td>0.058343</td>\n",
       "      <td>0.127415</td>\n",
       "      <td>0.314741</td>\n",
       "      <td>0.352387</td>\n",
       "      <td>0.383018</td>\n",
       "      <td>0.533591</td>\n",
       "    </tr>\n",
       "  </tbody>\n",
       "</table>\n",
       "</div>"
      ],
      "text/plain": [
       "        count      mean       std       min       25%       50%       75%  \\\n",
       "R     24635.0  0.565423  0.284399  0.050000  0.345113  0.560209  0.805104   \n",
       "DEE   24635.0  0.474598  0.277197  0.062500  0.233058  0.481660  0.674836   \n",
       "Remb  24635.0  0.657977  0.188672  0.300000  0.519609  0.690612  0.775595   \n",
       "r     24635.0  0.627914  0.080999 -0.181064  0.574962  0.630622  0.685156   \n",
       "g     24635.0  0.601236  0.049293  0.363591  0.575145  0.607490  0.629795   \n",
       "b     24635.0  0.595498  0.063144  0.280018  0.565935  0.606192  0.632683   \n",
       "x     24635.0  0.321553  0.030290  0.204156  0.300711  0.321979  0.343659   \n",
       "y     24635.0  0.330612  0.036470  0.221430  0.301435  0.328984  0.351444   \n",
       "z     24635.0  0.347835  0.058343  0.127415  0.314741  0.352387  0.383018   \n",
       "\n",
       "           max  \n",
       "R     1.000000  \n",
       "DEE   1.000000  \n",
       "Remb  1.000000  \n",
       "r     0.880922  \n",
       "g     0.740896  \n",
       "b     0.756195  \n",
       "x     0.438084  \n",
       "y     0.464530  \n",
       "z     0.533591  "
      ]
     },
     "execution_count": 4,
     "metadata": {},
     "output_type": "execute_result"
    }
   ],
   "source": [
    "df.describe().T"
   ]
  },
  {
   "cell_type": "markdown",
   "id": "d0d2afb2",
   "metadata": {
    "id": "rcAlIBDM2Ss_"
   },
   "source": [
    "Aparentenemnte se encontro un detalle en la columna `r`, el valor minimo no entra dentro del rango especificado anteriormente"
   ]
  },
  {
   "cell_type": "code",
   "execution_count": 5,
   "id": "e29d02d5",
   "metadata": {
    "colab": {
     "base_uri": "https://localhost:8080/"
    },
    "id": "MHauirsp3IyJ",
    "outputId": "458173cf-5c84-4fcb-f89d-fd79a2b0af81"
   },
   "outputs": [
    {
     "name": "stdout",
     "output_type": "stream",
     "text": [
      "Numero de outlayers: 2, Los cuales son: [-0.07122901 -0.18106433]\n"
     ]
    },
    {
     "data": {
      "image/png": "[encoded data removed]",
      "text/plain": [
       "<Figure size 640x480 with 1 Axes>"
      ]
     },
     "metadata": {},
     "output_type": "display_data"
    }
   ],
   "source": [
    "plt.violinplot(df.r,vert=False)\n",
    "outlayers = df['r'] < 0\n",
    "outlayers = df[outlayers]\n",
    "print(f'Numero de outlayers: {outlayers.shape[0]}, Los cuales son: {outlayers[\"r\"].unique()}')"
   ]
  },
  {
   "cell_type": "markdown",
   "id": "c43ab7be",
   "metadata": {
    "id": "-Ji2nq7v59zO"
   },
   "source": [
    "Se corrobora lo anteriormente observado con un diagrama de violin (KDE) y en efecto se cuenta con un valor que sobrepasa el minimo establecido, por lo cual se procede a sustraer la fila donde se encuentra el outlayer."
   ]
  },
  {
   "cell_type": "code",
   "execution_count": 6,
   "id": "a77ebf12",
   "metadata": {
    "colab": {
     "base_uri": "https://localhost:8080/"
    },
    "id": "pDw9Xigo50T7",
    "outputId": "58ba4199-22fb-408f-c94c-0870887f2af2"
   },
   "outputs": [
    {
     "data": {
      "text/html": [
       "<div>\n",
       "<style scoped>\n",
       "    .dataframe tbody tr th:only-of-type {\n",
       "        vertical-align: middle;\n",
       "    }\n",
       "\n",
       "    .dataframe tbody tr th {\n",
       "        vertical-align: top;\n",
       "    }\n",
       "\n",
       "    .dataframe thead th {\n",
       "        text-align: right;\n",
       "    }\n",
       "</style>\n",
       "<table border=\"1\" class=\"dataframe\">\n",
       "  <thead>\n",
       "    <tr style=\"text-align: right;\">\n",
       "      <th></th>\n",
       "      <th>count</th>\n",
       "      <th>mean</th>\n",
       "      <th>std</th>\n",
       "      <th>min</th>\n",
       "      <th>25%</th>\n",
       "      <th>50%</th>\n",
       "      <th>75%</th>\n",
       "      <th>max</th>\n",
       "    </tr>\n",
       "  </thead>\n",
       "  <tbody>\n",
       "    <tr>\n",
       "      <th>R</th>\n",
       "      <td>24633.0</td>\n",
       "      <td>0.565397</td>\n",
       "      <td>0.284395</td>\n",
       "      <td>0.050000</td>\n",
       "      <td>0.345107</td>\n",
       "      <td>0.560076</td>\n",
       "      <td>0.805031</td>\n",
       "      <td>1.000000</td>\n",
       "    </tr>\n",
       "    <tr>\n",
       "      <th>DEE</th>\n",
       "      <td>24633.0</td>\n",
       "      <td>0.474586</td>\n",
       "      <td>0.277204</td>\n",
       "      <td>0.062500</td>\n",
       "      <td>0.233053</td>\n",
       "      <td>0.481493</td>\n",
       "      <td>0.674823</td>\n",
       "      <td>1.000000</td>\n",
       "    </tr>\n",
       "    <tr>\n",
       "      <th>Remb</th>\n",
       "      <td>24633.0</td>\n",
       "      <td>0.657976</td>\n",
       "      <td>0.188673</td>\n",
       "      <td>0.300000</td>\n",
       "      <td>0.519618</td>\n",
       "      <td>0.690612</td>\n",
       "      <td>0.775590</td>\n",
       "      <td>1.000000</td>\n",
       "    </tr>\n",
       "    <tr>\n",
       "      <th>r</th>\n",
       "      <td>24633.0</td>\n",
       "      <td>0.627975</td>\n",
       "      <td>0.080715</td>\n",
       "      <td>0.237164</td>\n",
       "      <td>0.575010</td>\n",
       "      <td>0.630646</td>\n",
       "      <td>0.685163</td>\n",
       "      <td>0.880922</td>\n",
       "    </tr>\n",
       "    <tr>\n",
       "      <th>g</th>\n",
       "      <td>24633.0</td>\n",
       "      <td>0.601234</td>\n",
       "      <td>0.049294</td>\n",
       "      <td>0.363591</td>\n",
       "      <td>0.575145</td>\n",
       "      <td>0.607489</td>\n",
       "      <td>0.629795</td>\n",
       "      <td>0.740896</td>\n",
       "    </tr>\n",
       "    <tr>\n",
       "      <th>b</th>\n",
       "      <td>24633.0</td>\n",
       "      <td>0.595487</td>\n",
       "      <td>0.063135</td>\n",
       "      <td>0.280018</td>\n",
       "      <td>0.565934</td>\n",
       "      <td>0.606191</td>\n",
       "      <td>0.632676</td>\n",
       "      <td>0.756195</td>\n",
       "    </tr>\n",
       "    <tr>\n",
       "      <th>x</th>\n",
       "      <td>24633.0</td>\n",
       "      <td>0.321563</td>\n",
       "      <td>0.030274</td>\n",
       "      <td>0.238820</td>\n",
       "      <td>0.300717</td>\n",
       "      <td>0.321979</td>\n",
       "      <td>0.343663</td>\n",
       "      <td>0.438084</td>\n",
       "    </tr>\n",
       "    <tr>\n",
       "      <th>y</th>\n",
       "      <td>24633.0</td>\n",
       "      <td>0.330615</td>\n",
       "      <td>0.036469</td>\n",
       "      <td>0.221430</td>\n",
       "      <td>0.301439</td>\n",
       "      <td>0.328984</td>\n",
       "      <td>0.351448</td>\n",
       "      <td>0.464530</td>\n",
       "    </tr>\n",
       "    <tr>\n",
       "      <th>z</th>\n",
       "      <td>24633.0</td>\n",
       "      <td>0.347822</td>\n",
       "      <td>0.058328</td>\n",
       "      <td>0.127415</td>\n",
       "      <td>0.314735</td>\n",
       "      <td>0.352387</td>\n",
       "      <td>0.382998</td>\n",
       "      <td>0.533591</td>\n",
       "    </tr>\n",
       "  </tbody>\n",
       "</table>\n",
       "</div>"
      ],
      "text/plain": [
       "        count      mean       std       min       25%       50%       75%  \\\n",
       "R     24633.0  0.565397  0.284395  0.050000  0.345107  0.560076  0.805031   \n",
       "DEE   24633.0  0.474586  0.277204  0.062500  0.233053  0.481493  0.674823   \n",
       "Remb  24633.0  0.657976  0.188673  0.300000  0.519618  0.690612  0.775590   \n",
       "r     24633.0  0.627975  0.080715  0.237164  0.575010  0.630646  0.685163   \n",
       "g     24633.0  0.601234  0.049294  0.363591  0.575145  0.607489  0.629795   \n",
       "b     24633.0  0.595487  0.063135  0.280018  0.565934  0.606191  0.632676   \n",
       "x     24633.0  0.321563  0.030274  0.238820  0.300717  0.321979  0.343663   \n",
       "y     24633.0  0.330615  0.036469  0.221430  0.301439  0.328984  0.351448   \n",
       "z     24633.0  0.347822  0.058328  0.127415  0.314735  0.352387  0.382998   \n",
       "\n",
       "           max  \n",
       "R     1.000000  \n",
       "DEE   1.000000  \n",
       "Remb  1.000000  \n",
       "r     0.880922  \n",
       "g     0.740896  \n",
       "b     0.756195  \n",
       "x     0.438084  \n",
       "y     0.464530  \n",
       "z     0.533591  "
      ]
     },
     "execution_count": 6,
     "metadata": {},
     "output_type": "execute_result"
    },
    {
     "data": {
      "image/png": "[encoded data removed]",
      "text/plain": [
       "<Figure size 640x480 with 1 Axes>"
      ]
     },
     "metadata": {},
     "output_type": "display_data"
    }
   ],
   "source": [
    "df = df.drop(df[df['r']==df.r.min()].index[0],axis=0)\n",
    "df = df.drop(df[df['r']==df.r.min()].index[0],axis=0)\n",
    "plt.violinplot(df.r,vert=False)\n",
    "df.describe().T"
   ]
  },
  {
   "cell_type": "markdown",
   "id": "544748d4",
   "metadata": {
    "id": "Sa32Ed485jMh"
   },
   "source": [
    "## Creacion de nuevas dataframes con su respectiva variable objetivo"
   ]
  },
  {
   "cell_type": "code",
   "execution_count": 7,
   "id": "62448f09",
   "metadata": {
    "colab": {
     "base_uri": "https://localhost:8080/"
    },
    "id": "mJjUXcBI22QO",
    "outputId": "aa5c9155-94aa-486f-d784-405110167c92",
    "scrolled": true
   },
   "outputs": [
    {
     "data": {
      "text/html": [
       "<div>\n",
       "<style scoped>\n",
       "    .dataframe tbody tr th:only-of-type {\n",
       "        vertical-align: middle;\n",
       "    }\n",
       "\n",
       "    .dataframe tbody tr th {\n",
       "        vertical-align: top;\n",
       "    }\n",
       "\n",
       "    .dataframe thead th {\n",
       "        text-align: right;\n",
       "    }\n",
       "</style>\n",
       "<table border=\"1\" class=\"dataframe\">\n",
       "  <thead>\n",
       "    <tr style=\"text-align: right;\">\n",
       "      <th></th>\n",
       "      <th>R</th>\n",
       "      <th>r</th>\n",
       "      <th>g</th>\n",
       "      <th>b</th>\n",
       "    </tr>\n",
       "  </thead>\n",
       "  <tbody>\n",
       "    <tr>\n",
       "      <th>0</th>\n",
       "      <td>0.101691</td>\n",
       "      <td>0.607739</td>\n",
       "      <td>0.607748</td>\n",
       "      <td>0.610636</td>\n",
       "    </tr>\n",
       "    <tr>\n",
       "      <th>1</th>\n",
       "      <td>0.249168</td>\n",
       "      <td>0.614463</td>\n",
       "      <td>0.662313</td>\n",
       "      <td>0.545797</td>\n",
       "    </tr>\n",
       "    <tr>\n",
       "      <th>2</th>\n",
       "      <td>0.914374</td>\n",
       "      <td>0.643678</td>\n",
       "      <td>0.632023</td>\n",
       "      <td>0.563976</td>\n",
       "    </tr>\n",
       "    <tr>\n",
       "      <th>3</th>\n",
       "      <td>0.859463</td>\n",
       "      <td>0.667089</td>\n",
       "      <td>0.649641</td>\n",
       "      <td>0.526636</td>\n",
       "    </tr>\n",
       "    <tr>\n",
       "      <th>4</th>\n",
       "      <td>0.311980</td>\n",
       "      <td>0.752189</td>\n",
       "      <td>0.582688</td>\n",
       "      <td>0.540596</td>\n",
       "    </tr>\n",
       "  </tbody>\n",
       "</table>\n",
       "</div>"
      ],
      "text/plain": [
       "          R         r         g         b\n",
       "0  0.101691  0.607739  0.607748  0.610636\n",
       "1  0.249168  0.614463  0.662313  0.545797\n",
       "2  0.914374  0.643678  0.632023  0.563976\n",
       "3  0.859463  0.667089  0.649641  0.526636\n",
       "4  0.311980  0.752189  0.582688  0.540596"
      ]
     },
     "execution_count": 7,
     "metadata": {},
     "output_type": "execute_result"
    }
   ],
   "source": [
    "df_R = df.drop(['DEE','Remb','x','y','z'],axis=1)\n",
    "df_R.head()"
   ]
  },
  {
   "cell_type": "code",
   "execution_count": 8,
   "id": "6f77d1ef",
   "metadata": {
    "colab": {
     "base_uri": "https://localhost:8080/"
    },
    "id": "At1s1jmg22eP",
    "outputId": "24bcb05a-bbf2-4e97-b59d-8000aa2125f2",
    "scrolled": true
   },
   "outputs": [
    {
     "data": {
      "text/html": [
       "<div>\n",
       "<style scoped>\n",
       "    .dataframe tbody tr th:only-of-type {\n",
       "        vertical-align: middle;\n",
       "    }\n",
       "\n",
       "    .dataframe tbody tr th {\n",
       "        vertical-align: top;\n",
       "    }\n",
       "\n",
       "    .dataframe thead th {\n",
       "        text-align: right;\n",
       "    }\n",
       "</style>\n",
       "<table border=\"1\" class=\"dataframe\">\n",
       "  <thead>\n",
       "    <tr style=\"text-align: right;\">\n",
       "      <th></th>\n",
       "      <th>DEE</th>\n",
       "      <th>r</th>\n",
       "      <th>g</th>\n",
       "      <th>b</th>\n",
       "    </tr>\n",
       "  </thead>\n",
       "  <tbody>\n",
       "    <tr>\n",
       "      <th>0</th>\n",
       "      <td>0.891269</td>\n",
       "      <td>0.607739</td>\n",
       "      <td>0.607748</td>\n",
       "      <td>0.610636</td>\n",
       "    </tr>\n",
       "    <tr>\n",
       "      <th>1</th>\n",
       "      <td>0.539952</td>\n",
       "      <td>0.614463</td>\n",
       "      <td>0.662313</td>\n",
       "      <td>0.545797</td>\n",
       "    </tr>\n",
       "    <tr>\n",
       "      <th>2</th>\n",
       "      <td>0.211320</td>\n",
       "      <td>0.643678</td>\n",
       "      <td>0.632023</td>\n",
       "      <td>0.563976</td>\n",
       "    </tr>\n",
       "    <tr>\n",
       "      <th>3</th>\n",
       "      <td>0.568773</td>\n",
       "      <td>0.667089</td>\n",
       "      <td>0.649641</td>\n",
       "      <td>0.526636</td>\n",
       "    </tr>\n",
       "    <tr>\n",
       "      <th>4</th>\n",
       "      <td>0.182830</td>\n",
       "      <td>0.752189</td>\n",
       "      <td>0.582688</td>\n",
       "      <td>0.540596</td>\n",
       "    </tr>\n",
       "  </tbody>\n",
       "</table>\n",
       "</div>"
      ],
      "text/plain": [
       "        DEE         r         g         b\n",
       "0  0.891269  0.607739  0.607748  0.610636\n",
       "1  0.539952  0.614463  0.662313  0.545797\n",
       "2  0.211320  0.643678  0.632023  0.563976\n",
       "3  0.568773  0.667089  0.649641  0.526636\n",
       "4  0.182830  0.752189  0.582688  0.540596"
      ]
     },
     "execution_count": 8,
     "metadata": {},
     "output_type": "execute_result"
    }
   ],
   "source": [
    "df_DEE = df.drop(['R','Remb','x','y','z'],axis=1)\n",
    "df_DEE.head()"
   ]
  },
  {
   "cell_type": "code",
   "execution_count": 9,
   "id": "5612ac3b",
   "metadata": {
    "colab": {
     "base_uri": "https://localhost:8080/"
    },
    "id": "vfUdZrM822kg",
    "outputId": "ae106e4e-2f2c-4768-d854-277f77c6d9d6",
    "scrolled": true
   },
   "outputs": [
    {
     "data": {
      "text/html": [
       "<div>\n",
       "<style scoped>\n",
       "    .dataframe tbody tr th:only-of-type {\n",
       "        vertical-align: middle;\n",
       "    }\n",
       "\n",
       "    .dataframe tbody tr th {\n",
       "        vertical-align: top;\n",
       "    }\n",
       "\n",
       "    .dataframe thead th {\n",
       "        text-align: right;\n",
       "    }\n",
       "</style>\n",
       "<table border=\"1\" class=\"dataframe\">\n",
       "  <thead>\n",
       "    <tr style=\"text-align: right;\">\n",
       "      <th></th>\n",
       "      <th>Remb</th>\n",
       "      <th>r</th>\n",
       "      <th>g</th>\n",
       "      <th>b</th>\n",
       "    </tr>\n",
       "  </thead>\n",
       "  <tbody>\n",
       "    <tr>\n",
       "      <th>0</th>\n",
       "      <td>0.5481</td>\n",
       "      <td>0.607739</td>\n",
       "      <td>0.607748</td>\n",
       "      <td>0.610636</td>\n",
       "    </tr>\n",
       "    <tr>\n",
       "      <th>1</th>\n",
       "      <td>0.3979</td>\n",
       "      <td>0.614463</td>\n",
       "      <td>0.662313</td>\n",
       "      <td>0.545797</td>\n",
       "    </tr>\n",
       "    <tr>\n",
       "      <th>2</th>\n",
       "      <td>0.6341</td>\n",
       "      <td>0.643678</td>\n",
       "      <td>0.632023</td>\n",
       "      <td>0.563976</td>\n",
       "    </tr>\n",
       "    <tr>\n",
       "      <th>3</th>\n",
       "      <td>0.8010</td>\n",
       "      <td>0.667089</td>\n",
       "      <td>0.649641</td>\n",
       "      <td>0.526636</td>\n",
       "    </tr>\n",
       "    <tr>\n",
       "      <th>4</th>\n",
       "      <td>0.3469</td>\n",
       "      <td>0.752189</td>\n",
       "      <td>0.582688</td>\n",
       "      <td>0.540596</td>\n",
       "    </tr>\n",
       "  </tbody>\n",
       "</table>\n",
       "</div>"
      ],
      "text/plain": [
       "     Remb         r         g         b\n",
       "0  0.5481  0.607739  0.607748  0.610636\n",
       "1  0.3979  0.614463  0.662313  0.545797\n",
       "2  0.6341  0.643678  0.632023  0.563976\n",
       "3  0.8010  0.667089  0.649641  0.526636\n",
       "4  0.3469  0.752189  0.582688  0.540596"
      ]
     },
     "execution_count": 9,
     "metadata": {},
     "output_type": "execute_result"
    }
   ],
   "source": [
    "df_Remb = df.drop(['DEE','R','x','y','z'],axis=1)\n",
    "df_Remb.head()"
   ]
  },
  {
   "cell_type": "markdown",
   "id": "dc64e17c",
   "metadata": {
    "id": "o7xDz4BFq0aO"
   },
   "source": [
    "## Analisis del las observaciones respecto al espacio de colores CIE"
   ]
  },
  {
   "cell_type": "code",
   "execution_count": 10,
   "id": "249cbc81",
   "metadata": {
    "colab": {
     "base_uri": "https://localhost:8080/",
     "height": 472
    },
    "id": "H0eOFRA5sjH9",
    "outputId": "b6d47fa4-8bcc-43a8-de05-2f02e66d19d0"
   },
   "outputs": [
    {
     "data": {
      "image/png": "[encoded data removed]",
      "text/plain": [
       "<Figure size 640x480 with 1 Axes>"
      ]
     },
     "metadata": {},
     "output_type": "display_data"
    }
   ],
   "source": [
    "import matplotlib.patches as patches\n",
    "from matplotlib.path import Path\n",
    "\n",
    "# Define las coordenadas de cromaticidad de los colores primarios y el blanco\n",
    "x_red, y_red = 0.64, 0.33\n",
    "x_green, y_green = 0.30, 0.60\n",
    "x_blue, y_blue = 0.15, 0.06\n",
    "x_white, y_white = 0.3127, 0.3290  # Blanco D65\n",
    "\n",
    "# Define el diagrama de cromaticidad\n",
    "chromaticity_diagram = Path([\n",
    "    (x_red, y_red),\n",
    "    (x_green, y_green),\n",
    "    (x_blue, y_blue),\n",
    "    (x_red, y_red)\n",
    "])\n",
    "\n",
    "# Crea un gráfico\n",
    "fig, ax = plt.subplots()\n",
    "\n",
    "# Añade el diagrama de cromaticidad al gráfico\n",
    "patch = patches.PathPatch(chromaticity_diagram, facecolor='none', lw=2)\n",
    "ax.add_patch(patch)\n",
    "\n",
    "# Añade los puntos de los colores primarios y el blanco\n",
    "ax.plot(x_red, y_red, 'ro', label='Rojo')\n",
    "ax.plot(x_green, y_green, 'go', label='Verde')\n",
    "ax.plot(x_blue, y_blue, 'bo', label='Azul')\n",
    "ax.plot(x_white, y_white, 'wo', markeredgecolor='k', label='Blanco D65')\n",
    "\n",
    "# Configura los límites y etiquetas del gráfico\n",
    "ax.set_xlim(0, 0.8)\n",
    "ax.set_ylim(0, 0.9)\n",
    "ax.set_xlabel('x')\n",
    "ax.set_ylabel('y')\n",
    "ax.set_title('Espacio de Colores CIE 1931')\n",
    "ax.legend()\n",
    "\n",
    "ax.scatter(x = df['x'], y = df['y'])\n",
    "# Muestra el gráfico\n",
    "plt.show()\n"
   ]
  },
  {
   "cell_type": "code",
   "execution_count": 11,
   "id": "9c905a3c",
   "metadata": {
    "colab": {
     "base_uri": "https://localhost:8080/",
     "height": 746
    },
    "id": "JFMoqbP4wxhu",
    "outputId": "145a946b-d3ea-4700-9b15-4fe6d22f63b5"
   },
   "outputs": [
    {
     "name": "stderr",
     "output_type": "stream",
     "text": [
      "C:\\Users\\DiAl_\\anaconda3\\envs\\DL\\Lib\\site-packages\\colour\\utilities\\verbose.py:262: ColourUsageWarning: The \"CIE 2012 2 Degree Standard Observer\" has been renamed to \"CIE 2015 2 Degree Standard Observer\" for consistency with the official CIE name which was adopted in 2015.\n",
      "  warn(*args, **kwargs)  # noqa: B028\n",
      "C:\\Users\\DiAl_\\anaconda3\\envs\\DL\\Lib\\site-packages\\colour\\utilities\\verbose.py:262: ColourUsageWarning: The \"CIE 2012 10 Degree Standard Observer\" has been renamed to \"CIE 2015 10 Degree Standard Observer\" for consistency with the official CIE name which was adopted in 2015.\n",
      "  warn(*args, **kwargs)  # noqa: B028\n",
      "C:\\Users\\DiAl_\\anaconda3\\envs\\DL\\Lib\\site-packages\\colour\\utilities\\verbose.py:262: ColourUsageWarning: \"standalone\" argument has been renamed to \"show\".\n",
      "  warn(*args, **kwargs)  # noqa: B028\n",
      "C:\\Users\\DiAl_\\anaconda3\\envs\\DL\\Lib\\site-packages\\colour\\utilities\\verbose.py:262: ColourUsageWarning: \"standalone\" argument has been renamed to \"show\".\n",
      "  warn(*args, **kwargs)  # noqa: B028\n",
      "C:\\Users\\DiAl_\\anaconda3\\envs\\DL\\Lib\\site-packages\\colour\\plotting\\common.py:690: UserWarning: The figure layout has changed to tight\n",
      "  figure.tight_layout()\n"
     ]
    },
    {
     "data": {
      "image/png": "[encoded data removed]",
      "text/plain": [
       "<Figure size 640x640 with 1 Axes>"
      ]
     },
     "metadata": {
      "needs_background": "light"
     },
     "output_type": "display_data"
    }
   ],
   "source": [
    "import colour\n",
    "\n",
    "# Define your scatter plot points (CIE xy coordinates)\n",
    "x = df['x']\n",
    "y = df['y']\n",
    "\n",
    "# Plot the CIE 1931 Chromaticity Diagram\n",
    "colour.plotting.plot_chromaticity_diagram_CIE1931(standalone=False)\n",
    "\n",
    "# Scatter plot of your points\n",
    "plt.scatter(x, y, c='black')\n",
    "# Show the plot\n",
    "plt.show()"
   ]
  },
  {
   "cell_type": "markdown",
   "id": "f6274d60",
   "metadata": {
    "id": "ujMyki-s22qX"
   },
   "source": [
    "## Data Split en test y training"
   ]
  },
  {
   "cell_type": "code",
   "execution_count": 12,
   "id": "b3b873dd",
   "metadata": {
    "colab": {
     "base_uri": "https://localhost:8080/"
    },
    "id": "kb9Dx1_x9zzW",
    "outputId": "a23bf4a7-d6b3-4072-cc9d-d3327c51c185"
   },
   "outputs": [
    {
     "data": {
      "text/plain": [
       "((16504, 3), (8129, 3))"
      ]
     },
     "execution_count": 12,
     "metadata": {},
     "output_type": "execute_result"
    }
   ],
   "source": [
    "# R\n",
    "df_R = utils.shuffle(df_R, random_state = 10)\n",
    "R_x_train, R_x_test, R_y_train, R_y_test = train_test_split(df_R.drop(['R'],axis=1),df_R['R'],test_size=0.33,random_state=17)\n",
    "R_x_train.shape,R_x_test.shape"
   ]
  },
  {
   "cell_type": "code",
   "execution_count": 13,
   "id": "4f190b80",
   "metadata": {
    "colab": {
     "base_uri": "https://localhost:8080/"
    },
    "id": "n7SXlV8a22uw",
    "outputId": "c444ea21-41f0-4fef-de3a-f6f86361e32b"
   },
   "outputs": [
    {
     "data": {
      "text/plain": [
       "((16504, 3), (8129, 3))"
      ]
     },
     "execution_count": 13,
     "metadata": {},
     "output_type": "execute_result"
    }
   ],
   "source": [
    "# DEE\n",
    "df_DEE = utils.shuffle(df_DEE, random_state = 20)\n",
    "DEE_x_train, DEE_x_test, DEE_y_train, DEE_y_test = train_test_split(df_DEE.drop(['DEE'],axis=1),df_DEE['DEE'],test_size=0.33,random_state=17)\n",
    "DEE_x_train.shape,DEE_x_test.shape"
   ]
  },
  {
   "cell_type": "code",
   "execution_count": 14,
   "id": "ef687476",
   "metadata": {
    "colab": {
     "base_uri": "https://localhost:8080/"
    },
    "id": "f2xu9r6V_hK0",
    "outputId": "feb0d1b0-483f-4f12-9c93-60a38c6abd1e"
   },
   "outputs": [
    {
     "data": {
      "text/plain": [
       "((16504, 3), (8129, 3))"
      ]
     },
     "execution_count": 14,
     "metadata": {},
     "output_type": "execute_result"
    }
   ],
   "source": [
    "# Remb\n",
    "df_Remb = utils.shuffle(df_Remb, random_state = 30)\n",
    "Remb_x_train, Remb_x_test, Remb_y_train, Remb_y_test = train_test_split(df_Remb.drop(['Remb'],axis=1),df_Remb['Remb'],test_size=0.33,random_state=17)\n",
    "Remb_x_train.shape,Remb_x_test.shape"
   ]
  },
  {
   "cell_type": "markdown",
   "id": "b6c164de",
   "metadata": {
    "id": "a0_L9otkR_vI"
   },
   "source": [
    "## Obtencion de modelos para la prediccion de la variable R\n",
    "\n",
    "\n"
   ]
  },
  {
   "cell_type": "markdown",
   "id": "75cb0093",
   "metadata": {},
   "source": [
    "### **Mean Squared Error**\n",
    "$MSE = \\frac{1}{n} \\sum_{i=1}^{n} ({y}_{i}-\\hat{y}_{i})^{2}$  \n",
    "**Rango**: 0 ≤ MSE < ∞  \n",
    "**Ideal**: 0   \n",
    "### **Root Mean Squared Error**\n",
    "$RMSE = \\sqrt{MSE}$  \n",
    "**Rango**: 0 ≤ RMSE < ∞  \n",
    "**Ideal**: 0   \n",
    "### **Mean Absolute Error**\n",
    "$MAE = \\frac{1}{n} \\sum_{i=1}^{n} |{y}_{i}-{\\hat{y}}_{i}|$  \n",
    "**Rango**: 0 ≤ MAE <∞  \n",
    "**Ideal**: 0 \n",
    "### **R-square(Coefficient of Determination)**\n",
    "$R^{2} = 1-\\frac{\\sum_{i=1}^{n}(y_{i}-\\hat{y}_{i})^{2}}{\\sum_{i=1}^{n}(y_{i}-\\bar{y}_{i})^{2}}$  \n",
    "**Rango**: −∞ ≤ $R^{2}$ ≤1  \n",
    "**Ideal**: 1 \n",
    "### **Explained Variance Score**\n",
    "$EVS = 1 - \\frac{Var\\{y_{i}-\\hat{y}_{i}\\}}{Var\\{y_{i}\\}}$  \n",
    "**Rango**: −∞ ≤ EVS ≤ 1  \n",
    "**Ideal**: 1 "
   ]
  },
  {
   "cell_type": "markdown",
   "id": "088a9758",
   "metadata": {},
   "source": [
    "## Obtencion de un modelo para el parametro \"R\" utilizando Scikit-learn"
   ]
  },
  {
   "cell_type": "code",
   "execution_count": 16,
   "id": "3eb5dec9",
   "metadata": {},
   "outputs": [
    {
     "ename": "KeyboardInterrupt",
     "evalue": "",
     "output_type": "error",
     "traceback": [
      "\u001b[1;31m---------------------------------------------------------------------------\u001b[0m",
      "\u001b[1;31mKeyboardInterrupt\u001b[0m                         Traceback (most recent call last)",
      "Cell \u001b[1;32mIn[16], line 28\u001b[0m\n\u001b[0;32m     26\u001b[0m \u001b[38;5;66;03m# Entrenamiento de cada modelo de la lista \"models\" a lo fuerza bruta\u001b[39;00m\n\u001b[0;32m     27\u001b[0m \u001b[38;5;28;01mfor\u001b[39;00m name, model \u001b[38;5;129;01min\u001b[39;00m \u001b[38;5;28mzip\u001b[39m(names, models):\n\u001b[1;32m---> 28\u001b[0m     input_scores(name, model, R_x_train, np\u001b[38;5;241m.\u001b[39mravel(R_y_train))\n\u001b[0;32m     30\u001b[0m \u001b[38;5;66;03m# Creacion de una dataframe a partir de la informacion recolectada\u001b[39;00m\n\u001b[0;32m     31\u001b[0m evaluation \u001b[38;5;241m=\u001b[39m pd\u001b[38;5;241m.\u001b[39mDataFrame({\u001b[38;5;124m'\u001b[39m\u001b[38;5;124mModel\u001b[39m\u001b[38;5;124m'\u001b[39m: Model,\n\u001b[0;32m     32\u001b[0m                            \u001b[38;5;124m'\u001b[39m\u001b[38;5;124mMSE\u001b[39m\u001b[38;5;124m'\u001b[39m : NMSE,\n\u001b[0;32m     33\u001b[0m                            \u001b[38;5;124m'\u001b[39m\u001b[38;5;124mMAE\u001b[39m\u001b[38;5;124m'\u001b[39m : NMAE,})\n",
      "Cell \u001b[1;32mIn[16], line 10\u001b[0m, in \u001b[0;36minput_scores\u001b[1;34m(name, model, x, y)\u001b[0m\n\u001b[0;32m      8\u001b[0m \u001b[38;5;28;01mdef\u001b[39;00m \u001b[38;5;21minput_scores\u001b[39m(name, model, x, y):\n\u001b[0;32m      9\u001b[0m     Model\u001b[38;5;241m.\u001b[39mappend(name)\n\u001b[1;32m---> 10\u001b[0m     NMSE\u001b[38;5;241m.\u001b[39mappend(cross_val_score(model, x, y, cv\u001b[38;5;241m=\u001b[39mcv, scoring\u001b[38;5;241m=\u001b[39m\u001b[38;5;124m'\u001b[39m\u001b[38;5;124mneg_mean_squared_error\u001b[39m\u001b[38;5;124m'\u001b[39m)\u001b[38;5;241m.\u001b[39mmean())\n\u001b[0;32m     11\u001b[0m     NMAE\u001b[38;5;241m.\u001b[39mappend(cross_val_score(model, x, y, cv\u001b[38;5;241m=\u001b[39mcv, scoring\u001b[38;5;241m=\u001b[39m\u001b[38;5;124m'\u001b[39m\u001b[38;5;124mneg_mean_absolute_error\u001b[39m\u001b[38;5;124m'\u001b[39m)\u001b[38;5;241m.\u001b[39mmean())\n",
      "File \u001b[1;32m~\\anaconda3\\envs\\DL\\Lib\\site-packages\\sklearn\\model_selection\\_validation.py:562\u001b[0m, in \u001b[0;36mcross_val_score\u001b[1;34m(estimator, X, y, groups, scoring, cv, n_jobs, verbose, fit_params, pre_dispatch, error_score)\u001b[0m\n\u001b[0;32m    559\u001b[0m \u001b[38;5;66;03m# To ensure multimetric format is not supported\u001b[39;00m\n\u001b[0;32m    560\u001b[0m scorer \u001b[38;5;241m=\u001b[39m check_scoring(estimator, scoring\u001b[38;5;241m=\u001b[39mscoring)\n\u001b[1;32m--> 562\u001b[0m cv_results \u001b[38;5;241m=\u001b[39m cross_validate(\n\u001b[0;32m    563\u001b[0m     estimator\u001b[38;5;241m=\u001b[39mestimator,\n\u001b[0;32m    564\u001b[0m     X\u001b[38;5;241m=\u001b[39mX,\n\u001b[0;32m    565\u001b[0m     y\u001b[38;5;241m=\u001b[39my,\n\u001b[0;32m    566\u001b[0m     groups\u001b[38;5;241m=\u001b[39mgroups,\n\u001b[0;32m    567\u001b[0m     scoring\u001b[38;5;241m=\u001b[39m{\u001b[38;5;124m\"\u001b[39m\u001b[38;5;124mscore\u001b[39m\u001b[38;5;124m\"\u001b[39m: scorer},\n\u001b[0;32m    568\u001b[0m     cv\u001b[38;5;241m=\u001b[39mcv,\n\u001b[0;32m    569\u001b[0m     n_jobs\u001b[38;5;241m=\u001b[39mn_jobs,\n\u001b[0;32m    570\u001b[0m     verbose\u001b[38;5;241m=\u001b[39mverbose,\n\u001b[0;32m    571\u001b[0m     fit_params\u001b[38;5;241m=\u001b[39mfit_params,\n\u001b[0;32m    572\u001b[0m     pre_dispatch\u001b[38;5;241m=\u001b[39mpre_dispatch,\n\u001b[0;32m    573\u001b[0m     error_score\u001b[38;5;241m=\u001b[39merror_score,\n\u001b[0;32m    574\u001b[0m )\n\u001b[0;32m    575\u001b[0m \u001b[38;5;28;01mreturn\u001b[39;00m cv_results[\u001b[38;5;124m\"\u001b[39m\u001b[38;5;124mtest_score\u001b[39m\u001b[38;5;124m\"\u001b[39m]\n",
      "File \u001b[1;32m~\\anaconda3\\envs\\DL\\Lib\\site-packages\\sklearn\\utils\\_param_validation.py:211\u001b[0m, in \u001b[0;36mvalidate_params.<locals>.decorator.<locals>.wrapper\u001b[1;34m(*args, **kwargs)\u001b[0m\n\u001b[0;32m    205\u001b[0m \u001b[38;5;28;01mtry\u001b[39;00m:\n\u001b[0;32m    206\u001b[0m     \u001b[38;5;28;01mwith\u001b[39;00m config_context(\n\u001b[0;32m    207\u001b[0m         skip_parameter_validation\u001b[38;5;241m=\u001b[39m(\n\u001b[0;32m    208\u001b[0m             prefer_skip_nested_validation \u001b[38;5;129;01mor\u001b[39;00m global_skip_validation\n\u001b[0;32m    209\u001b[0m         )\n\u001b[0;32m    210\u001b[0m     ):\n\u001b[1;32m--> 211\u001b[0m         \u001b[38;5;28;01mreturn\u001b[39;00m func(\u001b[38;5;241m*\u001b[39margs, \u001b[38;5;241m*\u001b[39m\u001b[38;5;241m*\u001b[39mkwargs)\n\u001b[0;32m    212\u001b[0m \u001b[38;5;28;01mexcept\u001b[39;00m InvalidParameterError \u001b[38;5;28;01mas\u001b[39;00m e:\n\u001b[0;32m    213\u001b[0m     \u001b[38;5;66;03m# When the function is just a wrapper around an estimator, we allow\u001b[39;00m\n\u001b[0;32m    214\u001b[0m     \u001b[38;5;66;03m# the function to delegate validation to the estimator, but we replace\u001b[39;00m\n\u001b[0;32m    215\u001b[0m     \u001b[38;5;66;03m# the name of the estimator by the name of the function in the error\u001b[39;00m\n\u001b[0;32m    216\u001b[0m     \u001b[38;5;66;03m# message to avoid confusion.\u001b[39;00m\n\u001b[0;32m    217\u001b[0m     msg \u001b[38;5;241m=\u001b[39m re\u001b[38;5;241m.\u001b[39msub(\n\u001b[0;32m    218\u001b[0m         \u001b[38;5;124mr\u001b[39m\u001b[38;5;124m\"\u001b[39m\u001b[38;5;124mparameter of \u001b[39m\u001b[38;5;124m\\\u001b[39m\u001b[38;5;124mw+ must be\u001b[39m\u001b[38;5;124m\"\u001b[39m,\n\u001b[0;32m    219\u001b[0m         \u001b[38;5;124mf\u001b[39m\u001b[38;5;124m\"\u001b[39m\u001b[38;5;124mparameter of \u001b[39m\u001b[38;5;132;01m{\u001b[39;00mfunc\u001b[38;5;241m.\u001b[39m\u001b[38;5;18m__qualname__\u001b[39m\u001b[38;5;132;01m}\u001b[39;00m\u001b[38;5;124m must be\u001b[39m\u001b[38;5;124m\"\u001b[39m,\n\u001b[0;32m    220\u001b[0m         \u001b[38;5;28mstr\u001b[39m(e),\n\u001b[0;32m    221\u001b[0m     )\n",
      "File \u001b[1;32m~\\anaconda3\\envs\\DL\\Lib\\site-packages\\sklearn\\model_selection\\_validation.py:309\u001b[0m, in \u001b[0;36mcross_validate\u001b[1;34m(estimator, X, y, groups, scoring, cv, n_jobs, verbose, fit_params, pre_dispatch, return_train_score, return_estimator, return_indices, error_score)\u001b[0m\n\u001b[0;32m    306\u001b[0m \u001b[38;5;66;03m# We clone the estimator to make sure that all the folds are\u001b[39;00m\n\u001b[0;32m    307\u001b[0m \u001b[38;5;66;03m# independent, and that it is pickle-able.\u001b[39;00m\n\u001b[0;32m    308\u001b[0m parallel \u001b[38;5;241m=\u001b[39m Parallel(n_jobs\u001b[38;5;241m=\u001b[39mn_jobs, verbose\u001b[38;5;241m=\u001b[39mverbose, pre_dispatch\u001b[38;5;241m=\u001b[39mpre_dispatch)\n\u001b[1;32m--> 309\u001b[0m results \u001b[38;5;241m=\u001b[39m parallel(\n\u001b[0;32m    310\u001b[0m     delayed(_fit_and_score)(\n\u001b[0;32m    311\u001b[0m         clone(estimator),\n\u001b[0;32m    312\u001b[0m         X,\n\u001b[0;32m    313\u001b[0m         y,\n\u001b[0;32m    314\u001b[0m         scorers,\n\u001b[0;32m    315\u001b[0m         train,\n\u001b[0;32m    316\u001b[0m         test,\n\u001b[0;32m    317\u001b[0m         verbose,\n\u001b[0;32m    318\u001b[0m         \u001b[38;5;28;01mNone\u001b[39;00m,\n\u001b[0;32m    319\u001b[0m         fit_params,\n\u001b[0;32m    320\u001b[0m         return_train_score\u001b[38;5;241m=\u001b[39mreturn_train_score,\n\u001b[0;32m    321\u001b[0m         return_times\u001b[38;5;241m=\u001b[39m\u001b[38;5;28;01mTrue\u001b[39;00m,\n\u001b[0;32m    322\u001b[0m         return_estimator\u001b[38;5;241m=\u001b[39mreturn_estimator,\n\u001b[0;32m    323\u001b[0m         error_score\u001b[38;5;241m=\u001b[39merror_score,\n\u001b[0;32m    324\u001b[0m     )\n\u001b[0;32m    325\u001b[0m     \u001b[38;5;28;01mfor\u001b[39;00m train, test \u001b[38;5;129;01min\u001b[39;00m indices\n\u001b[0;32m    326\u001b[0m )\n\u001b[0;32m    328\u001b[0m _warn_or_raise_about_fit_failures(results, error_score)\n\u001b[0;32m    330\u001b[0m \u001b[38;5;66;03m# For callable scoring, the return type is only know after calling. If the\u001b[39;00m\n\u001b[0;32m    331\u001b[0m \u001b[38;5;66;03m# return type is a dictionary, the error scores can now be inserted with\u001b[39;00m\n\u001b[0;32m    332\u001b[0m \u001b[38;5;66;03m# the correct key.\u001b[39;00m\n",
      "File \u001b[1;32m~\\anaconda3\\envs\\DL\\Lib\\site-packages\\sklearn\\utils\\parallel.py:65\u001b[0m, in \u001b[0;36mParallel.__call__\u001b[1;34m(self, iterable)\u001b[0m\n\u001b[0;32m     60\u001b[0m config \u001b[38;5;241m=\u001b[39m get_config()\n\u001b[0;32m     61\u001b[0m iterable_with_config \u001b[38;5;241m=\u001b[39m (\n\u001b[0;32m     62\u001b[0m     (_with_config(delayed_func, config), args, kwargs)\n\u001b[0;32m     63\u001b[0m     \u001b[38;5;28;01mfor\u001b[39;00m delayed_func, args, kwargs \u001b[38;5;129;01min\u001b[39;00m iterable\n\u001b[0;32m     64\u001b[0m )\n\u001b[1;32m---> 65\u001b[0m \u001b[38;5;28;01mreturn\u001b[39;00m \u001b[38;5;28msuper\u001b[39m()\u001b[38;5;241m.\u001b[39m\u001b[38;5;21m__call__\u001b[39m(iterable_with_config)\n",
      "File \u001b[1;32m~\\anaconda3\\envs\\DL\\Lib\\site-packages\\joblib\\parallel.py:1088\u001b[0m, in \u001b[0;36mParallel.__call__\u001b[1;34m(self, iterable)\u001b[0m\n\u001b[0;32m   1085\u001b[0m \u001b[38;5;28;01mif\u001b[39;00m \u001b[38;5;28mself\u001b[39m\u001b[38;5;241m.\u001b[39mdispatch_one_batch(iterator):\n\u001b[0;32m   1086\u001b[0m     \u001b[38;5;28mself\u001b[39m\u001b[38;5;241m.\u001b[39m_iterating \u001b[38;5;241m=\u001b[39m \u001b[38;5;28mself\u001b[39m\u001b[38;5;241m.\u001b[39m_original_iterator \u001b[38;5;129;01mis\u001b[39;00m \u001b[38;5;129;01mnot\u001b[39;00m \u001b[38;5;28;01mNone\u001b[39;00m\n\u001b[1;32m-> 1088\u001b[0m \u001b[38;5;28;01mwhile\u001b[39;00m \u001b[38;5;28mself\u001b[39m\u001b[38;5;241m.\u001b[39mdispatch_one_batch(iterator):\n\u001b[0;32m   1089\u001b[0m     \u001b[38;5;28;01mpass\u001b[39;00m\n\u001b[0;32m   1091\u001b[0m \u001b[38;5;28;01mif\u001b[39;00m pre_dispatch \u001b[38;5;241m==\u001b[39m \u001b[38;5;124m\"\u001b[39m\u001b[38;5;124mall\u001b[39m\u001b[38;5;124m\"\u001b[39m \u001b[38;5;129;01mor\u001b[39;00m n_jobs \u001b[38;5;241m==\u001b[39m \u001b[38;5;241m1\u001b[39m:\n\u001b[0;32m   1092\u001b[0m     \u001b[38;5;66;03m# The iterable was consumed all at once by the above for loop.\u001b[39;00m\n\u001b[0;32m   1093\u001b[0m     \u001b[38;5;66;03m# No need to wait for async callbacks to trigger to\u001b[39;00m\n\u001b[0;32m   1094\u001b[0m     \u001b[38;5;66;03m# consumption.\u001b[39;00m\n",
      "File \u001b[1;32m~\\anaconda3\\envs\\DL\\Lib\\site-packages\\joblib\\parallel.py:901\u001b[0m, in \u001b[0;36mParallel.dispatch_one_batch\u001b[1;34m(self, iterator)\u001b[0m\n\u001b[0;32m    899\u001b[0m     \u001b[38;5;28;01mreturn\u001b[39;00m \u001b[38;5;28;01mFalse\u001b[39;00m\n\u001b[0;32m    900\u001b[0m \u001b[38;5;28;01melse\u001b[39;00m:\n\u001b[1;32m--> 901\u001b[0m     \u001b[38;5;28mself\u001b[39m\u001b[38;5;241m.\u001b[39m_dispatch(tasks)\n\u001b[0;32m    902\u001b[0m     \u001b[38;5;28;01mreturn\u001b[39;00m \u001b[38;5;28;01mTrue\u001b[39;00m\n",
      "File \u001b[1;32m~\\anaconda3\\envs\\DL\\Lib\\site-packages\\joblib\\parallel.py:819\u001b[0m, in \u001b[0;36mParallel._dispatch\u001b[1;34m(self, batch)\u001b[0m\n\u001b[0;32m    817\u001b[0m \u001b[38;5;28;01mwith\u001b[39;00m \u001b[38;5;28mself\u001b[39m\u001b[38;5;241m.\u001b[39m_lock:\n\u001b[0;32m    818\u001b[0m     job_idx \u001b[38;5;241m=\u001b[39m \u001b[38;5;28mlen\u001b[39m(\u001b[38;5;28mself\u001b[39m\u001b[38;5;241m.\u001b[39m_jobs)\n\u001b[1;32m--> 819\u001b[0m     job \u001b[38;5;241m=\u001b[39m \u001b[38;5;28mself\u001b[39m\u001b[38;5;241m.\u001b[39m_backend\u001b[38;5;241m.\u001b[39mapply_async(batch, callback\u001b[38;5;241m=\u001b[39mcb)\n\u001b[0;32m    820\u001b[0m     \u001b[38;5;66;03m# A job can complete so quickly than its callback is\u001b[39;00m\n\u001b[0;32m    821\u001b[0m     \u001b[38;5;66;03m# called before we get here, causing self._jobs to\u001b[39;00m\n\u001b[0;32m    822\u001b[0m     \u001b[38;5;66;03m# grow. To ensure correct results ordering, .insert is\u001b[39;00m\n\u001b[0;32m    823\u001b[0m     \u001b[38;5;66;03m# used (rather than .append) in the following line\u001b[39;00m\n\u001b[0;32m    824\u001b[0m     \u001b[38;5;28mself\u001b[39m\u001b[38;5;241m.\u001b[39m_jobs\u001b[38;5;241m.\u001b[39minsert(job_idx, job)\n",
      "File \u001b[1;32m~\\anaconda3\\envs\\DL\\Lib\\site-packages\\joblib\\_parallel_backends.py:208\u001b[0m, in \u001b[0;36mSequentialBackend.apply_async\u001b[1;34m(self, func, callback)\u001b[0m\n\u001b[0;32m    206\u001b[0m \u001b[38;5;28;01mdef\u001b[39;00m \u001b[38;5;21mapply_async\u001b[39m(\u001b[38;5;28mself\u001b[39m, func, callback\u001b[38;5;241m=\u001b[39m\u001b[38;5;28;01mNone\u001b[39;00m):\n\u001b[0;32m    207\u001b[0m \u001b[38;5;250m    \u001b[39m\u001b[38;5;124;03m\"\"\"Schedule a func to be run\"\"\"\u001b[39;00m\n\u001b[1;32m--> 208\u001b[0m     result \u001b[38;5;241m=\u001b[39m ImmediateResult(func)\n\u001b[0;32m    209\u001b[0m     \u001b[38;5;28;01mif\u001b[39;00m callback:\n\u001b[0;32m    210\u001b[0m         callback(result)\n",
      "File \u001b[1;32m~\\anaconda3\\envs\\DL\\Lib\\site-packages\\joblib\\_parallel_backends.py:597\u001b[0m, in \u001b[0;36mImmediateResult.__init__\u001b[1;34m(self, batch)\u001b[0m\n\u001b[0;32m    594\u001b[0m \u001b[38;5;28;01mdef\u001b[39;00m \u001b[38;5;21m__init__\u001b[39m(\u001b[38;5;28mself\u001b[39m, batch):\n\u001b[0;32m    595\u001b[0m     \u001b[38;5;66;03m# Don't delay the application, to avoid keeping the input\u001b[39;00m\n\u001b[0;32m    596\u001b[0m     \u001b[38;5;66;03m# arguments in memory\u001b[39;00m\n\u001b[1;32m--> 597\u001b[0m     \u001b[38;5;28mself\u001b[39m\u001b[38;5;241m.\u001b[39mresults \u001b[38;5;241m=\u001b[39m batch()\n",
      "File \u001b[1;32m~\\anaconda3\\envs\\DL\\Lib\\site-packages\\joblib\\parallel.py:288\u001b[0m, in \u001b[0;36mBatchedCalls.__call__\u001b[1;34m(self)\u001b[0m\n\u001b[0;32m    284\u001b[0m \u001b[38;5;28;01mdef\u001b[39;00m \u001b[38;5;21m__call__\u001b[39m(\u001b[38;5;28mself\u001b[39m):\n\u001b[0;32m    285\u001b[0m     \u001b[38;5;66;03m# Set the default nested backend to self._backend but do not set the\u001b[39;00m\n\u001b[0;32m    286\u001b[0m     \u001b[38;5;66;03m# change the default number of processes to -1\u001b[39;00m\n\u001b[0;32m    287\u001b[0m     \u001b[38;5;28;01mwith\u001b[39;00m parallel_backend(\u001b[38;5;28mself\u001b[39m\u001b[38;5;241m.\u001b[39m_backend, n_jobs\u001b[38;5;241m=\u001b[39m\u001b[38;5;28mself\u001b[39m\u001b[38;5;241m.\u001b[39m_n_jobs):\n\u001b[1;32m--> 288\u001b[0m         \u001b[38;5;28;01mreturn\u001b[39;00m [func(\u001b[38;5;241m*\u001b[39margs, \u001b[38;5;241m*\u001b[39m\u001b[38;5;241m*\u001b[39mkwargs)\n\u001b[0;32m    289\u001b[0m                 \u001b[38;5;28;01mfor\u001b[39;00m func, args, kwargs \u001b[38;5;129;01min\u001b[39;00m \u001b[38;5;28mself\u001b[39m\u001b[38;5;241m.\u001b[39mitems]\n",
      "File \u001b[1;32m~\\anaconda3\\envs\\DL\\Lib\\site-packages\\joblib\\parallel.py:288\u001b[0m, in \u001b[0;36m<listcomp>\u001b[1;34m(.0)\u001b[0m\n\u001b[0;32m    284\u001b[0m \u001b[38;5;28;01mdef\u001b[39;00m \u001b[38;5;21m__call__\u001b[39m(\u001b[38;5;28mself\u001b[39m):\n\u001b[0;32m    285\u001b[0m     \u001b[38;5;66;03m# Set the default nested backend to self._backend but do not set the\u001b[39;00m\n\u001b[0;32m    286\u001b[0m     \u001b[38;5;66;03m# change the default number of processes to -1\u001b[39;00m\n\u001b[0;32m    287\u001b[0m     \u001b[38;5;28;01mwith\u001b[39;00m parallel_backend(\u001b[38;5;28mself\u001b[39m\u001b[38;5;241m.\u001b[39m_backend, n_jobs\u001b[38;5;241m=\u001b[39m\u001b[38;5;28mself\u001b[39m\u001b[38;5;241m.\u001b[39m_n_jobs):\n\u001b[1;32m--> 288\u001b[0m         \u001b[38;5;28;01mreturn\u001b[39;00m [func(\u001b[38;5;241m*\u001b[39margs, \u001b[38;5;241m*\u001b[39m\u001b[38;5;241m*\u001b[39mkwargs)\n\u001b[0;32m    289\u001b[0m                 \u001b[38;5;28;01mfor\u001b[39;00m func, args, kwargs \u001b[38;5;129;01min\u001b[39;00m \u001b[38;5;28mself\u001b[39m\u001b[38;5;241m.\u001b[39mitems]\n",
      "File \u001b[1;32m~\\anaconda3\\envs\\DL\\Lib\\site-packages\\sklearn\\utils\\parallel.py:127\u001b[0m, in \u001b[0;36m_FuncWrapper.__call__\u001b[1;34m(self, *args, **kwargs)\u001b[0m\n\u001b[0;32m    125\u001b[0m     config \u001b[38;5;241m=\u001b[39m {}\n\u001b[0;32m    126\u001b[0m \u001b[38;5;28;01mwith\u001b[39;00m config_context(\u001b[38;5;241m*\u001b[39m\u001b[38;5;241m*\u001b[39mconfig):\n\u001b[1;32m--> 127\u001b[0m     \u001b[38;5;28;01mreturn\u001b[39;00m \u001b[38;5;28mself\u001b[39m\u001b[38;5;241m.\u001b[39mfunction(\u001b[38;5;241m*\u001b[39margs, \u001b[38;5;241m*\u001b[39m\u001b[38;5;241m*\u001b[39mkwargs)\n",
      "File \u001b[1;32m~\\anaconda3\\envs\\DL\\Lib\\site-packages\\sklearn\\model_selection\\_validation.py:732\u001b[0m, in \u001b[0;36m_fit_and_score\u001b[1;34m(estimator, X, y, scorer, train, test, verbose, parameters, fit_params, return_train_score, return_parameters, return_n_test_samples, return_times, return_estimator, split_progress, candidate_progress, error_score)\u001b[0m\n\u001b[0;32m    730\u001b[0m         estimator\u001b[38;5;241m.\u001b[39mfit(X_train, \u001b[38;5;241m*\u001b[39m\u001b[38;5;241m*\u001b[39mfit_params)\n\u001b[0;32m    731\u001b[0m     \u001b[38;5;28;01melse\u001b[39;00m:\n\u001b[1;32m--> 732\u001b[0m         estimator\u001b[38;5;241m.\u001b[39mfit(X_train, y_train, \u001b[38;5;241m*\u001b[39m\u001b[38;5;241m*\u001b[39mfit_params)\n\u001b[0;32m    734\u001b[0m \u001b[38;5;28;01mexcept\u001b[39;00m \u001b[38;5;167;01mException\u001b[39;00m:\n\u001b[0;32m    735\u001b[0m     \u001b[38;5;66;03m# Note fit time as time until error\u001b[39;00m\n\u001b[0;32m    736\u001b[0m     fit_time \u001b[38;5;241m=\u001b[39m time\u001b[38;5;241m.\u001b[39mtime() \u001b[38;5;241m-\u001b[39m start_time\n",
      "File \u001b[1;32m~\\anaconda3\\envs\\DL\\Lib\\site-packages\\sklearn\\base.py:1151\u001b[0m, in \u001b[0;36m_fit_context.<locals>.decorator.<locals>.wrapper\u001b[1;34m(estimator, *args, **kwargs)\u001b[0m\n\u001b[0;32m   1144\u001b[0m     estimator\u001b[38;5;241m.\u001b[39m_validate_params()\n\u001b[0;32m   1146\u001b[0m \u001b[38;5;28;01mwith\u001b[39;00m config_context(\n\u001b[0;32m   1147\u001b[0m     skip_parameter_validation\u001b[38;5;241m=\u001b[39m(\n\u001b[0;32m   1148\u001b[0m         prefer_skip_nested_validation \u001b[38;5;129;01mor\u001b[39;00m global_skip_validation\n\u001b[0;32m   1149\u001b[0m     )\n\u001b[0;32m   1150\u001b[0m ):\n\u001b[1;32m-> 1151\u001b[0m     \u001b[38;5;28;01mreturn\u001b[39;00m fit_method(estimator, \u001b[38;5;241m*\u001b[39margs, \u001b[38;5;241m*\u001b[39m\u001b[38;5;241m*\u001b[39mkwargs)\n",
      "File \u001b[1;32m~\\anaconda3\\envs\\DL\\Lib\\site-packages\\sklearn\\gaussian_process\\_gpr.py:352\u001b[0m, in \u001b[0;36mGaussianProcessRegressor.fit\u001b[1;34m(self, X, y)\u001b[0m\n\u001b[0;32m    350\u001b[0m     \u001b[38;5;28;01mraise\u001b[39;00m\n\u001b[0;32m    351\u001b[0m \u001b[38;5;66;03m# Alg 2.1, page 19, line 3 -> alpha = L^T \\ (L \\ y)\u001b[39;00m\n\u001b[1;32m--> 352\u001b[0m \u001b[38;5;28mself\u001b[39m\u001b[38;5;241m.\u001b[39malpha_ \u001b[38;5;241m=\u001b[39m cho_solve(\n\u001b[0;32m    353\u001b[0m     (\u001b[38;5;28mself\u001b[39m\u001b[38;5;241m.\u001b[39mL_, GPR_CHOLESKY_LOWER),\n\u001b[0;32m    354\u001b[0m     \u001b[38;5;28mself\u001b[39m\u001b[38;5;241m.\u001b[39my_train_,\n\u001b[0;32m    355\u001b[0m     check_finite\u001b[38;5;241m=\u001b[39m\u001b[38;5;28;01mFalse\u001b[39;00m,\n\u001b[0;32m    356\u001b[0m )\n\u001b[0;32m    357\u001b[0m \u001b[38;5;28;01mreturn\u001b[39;00m \u001b[38;5;28mself\u001b[39m\n",
      "File \u001b[1;32m~\\anaconda3\\envs\\DL\\Lib\\site-packages\\scipy\\linalg\\_decomp_cholesky.py:159\u001b[0m, in \u001b[0;36mcho_solve\u001b[1;34m(c_and_lower, b, overwrite_b, check_finite)\u001b[0m\n\u001b[0;32m    154\u001b[0m     c, lower \u001b[38;5;241m=\u001b[39m _cholesky(a, lower\u001b[38;5;241m=\u001b[39mlower, overwrite_a\u001b[38;5;241m=\u001b[39moverwrite_a, clean\u001b[38;5;241m=\u001b[39m\u001b[38;5;28;01mFalse\u001b[39;00m,\n\u001b[0;32m    155\u001b[0m                          check_finite\u001b[38;5;241m=\u001b[39mcheck_finite)\n\u001b[0;32m    156\u001b[0m     \u001b[38;5;28;01mreturn\u001b[39;00m c, lower\n\u001b[1;32m--> 159\u001b[0m \u001b[38;5;28;01mdef\u001b[39;00m \u001b[38;5;21mcho_solve\u001b[39m(c_and_lower, b, overwrite_b\u001b[38;5;241m=\u001b[39m\u001b[38;5;28;01mFalse\u001b[39;00m, check_finite\u001b[38;5;241m=\u001b[39m\u001b[38;5;28;01mTrue\u001b[39;00m):\n\u001b[0;32m    160\u001b[0m \u001b[38;5;250m    \u001b[39m\u001b[38;5;124;03m\"\"\"Solve the linear equations A x = b, given the Cholesky factorization of A.\u001b[39;00m\n\u001b[0;32m    161\u001b[0m \n\u001b[0;32m    162\u001b[0m \u001b[38;5;124;03m    Parameters\u001b[39;00m\n\u001b[1;32m   (...)\u001b[0m\n\u001b[0;32m    193\u001b[0m \n\u001b[0;32m    194\u001b[0m \u001b[38;5;124;03m    \"\"\"\u001b[39;00m\n\u001b[0;32m    195\u001b[0m     (c, lower) \u001b[38;5;241m=\u001b[39m c_and_lower\n",
      "\u001b[1;31mKeyboardInterrupt\u001b[0m: "
     ]
    }
   ],
   "source": [
    "# Creacion de listas para el guardado de los resultados de cada entrenamiento\n",
    "Model = []\n",
    "NMSE = []\n",
    "NMAE = []\n",
    "cv = KFold(10)\n",
    "\n",
    "# Guardado de los resultados del entrenamiento del algoritmo \n",
    "def input_scores(name, model, x, y):\n",
    "    Model.append(name)\n",
    "    NMSE.append(cross_val_score(model, x, y, cv=cv, scoring='neg_mean_squared_error').mean())\n",
    "    NMAE.append(cross_val_score(model, x, y, cv=cv, scoring='neg_mean_absolute_error').mean())\n",
    "\n",
    "names = ['Linear Regression', 'Lasso Regression', \n",
    "         'ElasticNet Regression', 'SVR', 'Gaussian Regressor', 'Bayesian Ridge',\n",
    "         'K Neighbors Regressor', 'Decision Tree Regressor', \n",
    "         'Random Forest Regressor', 'Gradient Boosting Regressor',\n",
    "         'Adaboost Regressor']\n",
    "models = [LinearRegression(), Lasso(), ElasticNet(),\n",
    "          SVR(), GaussianProcessRegressor(), BayesianRidge(),\n",
    "          KNeighborsRegressor(metric='wminkowski', p=2, \n",
    "                           metric_params={'w': np.random.random(R_x_train.shape[1])}), \n",
    "          DecisionTreeRegressor(),\n",
    "          RandomForestRegressor(), GradientBoostingRegressor(), \n",
    "          AdaBoostRegressor()]\n",
    "\n",
    "# Entrenamiento de cada modelo de la lista \"models\" a lo fuerza bruta\n",
    "for name, model in zip(names, models):\n",
    "    input_scores(name, model, R_x_train, np.ravel(R_y_train))\n",
    "\n",
    "# Creacion de una dataframe a partir de la informacion recolectada\n",
    "evaluation = pd.DataFrame({'Model': Model,\n",
    "                           'MSE' : NMSE,\n",
    "                           'MAE' : NMAE,})\n",
    "print(\"FOLLOWING ARE THE TRAINING SCORES FOR R VALUE: \")\n",
    "evaluation"
   ]
  },
  {
   "cell_type": "markdown",
   "id": "1197c89d",
   "metadata": {},
   "source": [
    "Dado a los resultados previos se procedera a hacer un mejor analisis a aquellos algoritmos que obtuvieron un mejor resultado:\n",
    "* K Neighbors Regressor\n",
    "* Random Forest Regressor "
   ]
  },
  {
   "cell_type": "markdown",
   "id": "a1a22c52",
   "metadata": {},
   "source": [
    "## Prediccion con K Neighbors del parametro R\n",
    "### Busqueda de los mejores hiperparametros"
   ]
  },
  {
   "cell_type": "code",
   "execution_count": null,
   "id": "a437b141",
   "metadata": {
    "scrolled": true
   },
   "outputs": [],
   "source": [
    "def objective(trial):\n",
    "    \n",
    "    # Definición de hiperparámetros a optimizar\n",
    "    n_neighbors = trial.suggest_int('n_neighbors', 2, 40)\n",
    "    weights = trial.suggest_categorical('weights', ['uniform', 'distance'])\n",
    "    metric = trial.suggest_categorical('metric', ['minkowski', 'euclidean', 'manhattan', 'chebyshev'])\n",
    "    p = 2 if metric != 'minkowski' else trial.suggest_int('p', 1, 5)  # 'p' sólo es relevante para la métrica 'minkowski'\n",
    "    metric_params = None if metric != 'wminkowski' else {'w': trial.suggest_float('w', 0.0, 1.0)}  # 'w' sólo es relevante para 'wminkowski'\n",
    "    \n",
    "    # Creación del modelo con los hiperparámetros sugeridos\n",
    "    model_knn = KNeighborsRegressor(\n",
    "        n_neighbors=n_neighbors,\n",
    "        weights=weights,\n",
    "        metric=metric,\n",
    "        p=p,\n",
    "        metric_params=metric_params\n",
    "    )\n",
    "    \n",
    "    # Se utiliza la validación cruzada para evaluar el rendimiento del modelo\n",
    "    return cross_val_score(model_knn, R_x_train, R_y_train, n_jobs=-1, cv=10, scoring='neg_mean_absolute_error').mean()\n",
    "\n",
    "# Crear un estudio de Optuna y optimizar el estudio\n",
    "study = optuna.create_study(direction='maximize')  # Maximizar porque estamos usando 'neg_mean_squared_error'\n",
    "study.optimize(objective, n_trials=100)\n",
    "\n",
    "# Resultados de la optimización\n",
    "print(f\"Valor óptimo de neg_mean_squared_error: {study.best_value}\")\n",
    "print(f\"Mejores hiperparámetros: {study.best_params}\")\n"
   ]
  },
  {
   "cell_type": "code",
   "execution_count": null,
   "id": "7486e626",
   "metadata": {},
   "outputs": [],
   "source": [
    "R_model_knn = KNeighborsRegressor(n_neighbors = 40, weights = 'distance', metric = 'minkowski', p = 1)\n",
    "R_model_knn.fit(R_x_train, R_y_train)"
   ]
  },
  {
   "cell_type": "code",
   "execution_count": null,
   "id": "febad9c8",
   "metadata": {},
   "outputs": [],
   "source": [
    "knn_pred = R_model_knn.predict(R_x_test)\n",
    "mse = mean_squared_error(R_y_test, knn_pred)\n",
    "mae = mean_absolute_error(R_y_test, knn_pred)\n",
    "print(mse, mae)"
   ]
  },
  {
   "cell_type": "markdown",
   "id": "dffe3023",
   "metadata": {},
   "source": [
    "## Prediccion con Random Forest\n",
    "### Busqueda de los mejores hiperparametros"
   ]
  },
  {
   "cell_type": "code",
   "execution_count": null,
   "id": "926d2bef",
   "metadata": {
    "scrolled": true
   },
   "outputs": [],
   "source": [
    "def objective(trial):\n",
    "    \n",
    "    # Definición de hiperparámetros a optimizar\n",
    "    n_estimators = trial.suggest_int('n_estimators', 10, 150)\n",
    "    max_depth = trial.suggest_int('max_depth', 2, 32, log=True)\n",
    "    bootstrap = trial.suggest_categorical('bootstrap', [True, False])\n",
    "\n",
    "    # Creación del modelo con los hiperparámetros sugeridos\n",
    "    model_rf = RandomForestRegressor(\n",
    "        n_estimators=n_estimators,\n",
    "        max_depth=max_depth,\n",
    "        bootstrap=bootstrap,\n",
    "        n_jobs=-1\n",
    "    )\n",
    "    \n",
    "    # Se utiliza la validación cruzada para evaluar el rendimiento del modelo\n",
    "    return cross_val_score(model_rf, R_x_train, R_y_train, n_jobs=-1, cv=10, scoring='neg_mean_absolute_error').mean()\n",
    "\n",
    "# Crear un estudio de Optuna y optimizar el estudio\n",
    "study = optuna.create_study(direction='maximize')  # Maximizar porque estamos usando 'neg_mean_squared_error'\n",
    "study.optimize(objective, n_trials=100)\n",
    "\n",
    "# Resultados de la optimización\n",
    "print(f\"Valor óptimo de neg_mean_squared_error: {study.best_value}\")\n",
    "print(f\"Mejores hiperparámetros: {study.best_params}\")\n"
   ]
  },
  {
   "cell_type": "code",
   "execution_count": null,
   "id": "da4cc623",
   "metadata": {},
   "outputs": [],
   "source": [
    "model_rf = RandomForestRegressor(n_estimators = 70, max_depth = 15, bootstrap =True, n_jobs = -1)\n",
    "model_rf.fit(R_x_train, R_y_train)"
   ]
  },
  {
   "cell_type": "code",
   "execution_count": null,
   "id": "f5a0c0a3",
   "metadata": {},
   "outputs": [],
   "source": [
    "rf_pred = model_rf.predict(R_x_test)\n",
    "mse = mean_squared_error(R_y_test, rf_pred)\n",
    "mae = mean_absolute_error(R_y_test, rf_pred)\n",
    "print(mse, mae)"
   ]
  },
  {
   "cell_type": "markdown",
   "id": "4e6fe7e9",
   "metadata": {},
   "source": [
    "# Prediccion de los demas parametros mediante un arreglo en cascada con K-Neighbors"
   ]
  },
  {
   "cell_type": "markdown",
   "id": "c6ae8a35",
   "metadata": {},
   "source": [
    "## Parametro Remb"
   ]
  },
  {
   "cell_type": "code",
   "execution_count": 17,
   "id": "2078e111",
   "metadata": {
    "scrolled": true
   },
   "outputs": [
    {
     "name": "stderr",
     "output_type": "stream",
     "text": [
      "[I 2023-10-17 09:57:08,895] A new study created in memory with name: no-name-fd27760f-7996-499f-a052-2cdd1ee9b18b\n",
      "[I 2023-10-17 09:57:12,725] Trial 0 finished with value: -0.12205924013647326 and parameters: {'n_neighbors': 27, 'weights': 'distance', 'metric': 'euclidean'}. Best is trial 0 with value: -0.12205924013647326.\n",
      "[I 2023-10-17 09:57:12,836] Trial 1 finished with value: -0.12333071164675236 and parameters: {'n_neighbors': 16, 'weights': 'uniform', 'metric': 'euclidean'}. Best is trial 0 with value: -0.12205924013647326.\n",
      "[I 2023-10-17 09:57:12,937] Trial 2 finished with value: -0.12800423486714288 and parameters: {'n_neighbors': 4, 'weights': 'uniform', 'metric': 'manhattan'}. Best is trial 0 with value: -0.12205924013647326.\n",
      "[I 2023-10-17 09:57:13,024] Trial 3 finished with value: -0.12391234537239741 and parameters: {'n_neighbors': 11, 'weights': 'uniform', 'metric': 'chebyshev'}. Best is trial 0 with value: -0.12205924013647326.\n",
      "[I 2023-10-17 09:57:13,109] Trial 4 finished with value: -0.12507730766433214 and parameters: {'n_neighbors': 8, 'weights': 'distance', 'metric': 'chebyshev'}. Best is trial 0 with value: -0.12205924013647326.\n",
      "[I 2023-10-17 09:57:13,197] Trial 5 finished with value: -0.12348862847320433 and parameters: {'n_neighbors': 26, 'weights': 'uniform', 'metric': 'manhattan'}. Best is trial 0 with value: -0.12205924013647326.\n",
      "[I 2023-10-17 09:57:13,292] Trial 6 finished with value: -0.12205114957365312 and parameters: {'n_neighbors': 23, 'weights': 'distance', 'metric': 'euclidean'}. Best is trial 6 with value: -0.12205114957365312.\n",
      "[I 2023-10-17 09:57:13,365] Trial 7 finished with value: -0.12920735151852725 and parameters: {'n_neighbors': 4, 'weights': 'distance', 'metric': 'manhattan'}. Best is trial 6 with value: -0.12205114957365312.\n",
      "[I 2023-10-17 09:57:13,439] Trial 8 finished with value: -0.12774147555486134 and parameters: {'n_neighbors': 5, 'weights': 'distance', 'metric': 'minkowski', 'p': 2}. Best is trial 6 with value: -0.12205114957365312.\n",
      "[I 2023-10-17 09:57:13,545] Trial 9 finished with value: -0.12457497297603967 and parameters: {'n_neighbors': 38, 'weights': 'uniform', 'metric': 'chebyshev'}. Best is trial 6 with value: -0.12205114957365312.\n",
      "[I 2023-10-17 09:57:13,659] Trial 10 finished with value: -0.12204189973007913 and parameters: {'n_neighbors': 35, 'weights': 'distance', 'metric': 'euclidean'}. Best is trial 10 with value: -0.12204189973007913.\n",
      "[I 2023-10-17 09:57:13,764] Trial 11 finished with value: -0.12200933557658253 and parameters: {'n_neighbors': 38, 'weights': 'distance', 'metric': 'euclidean'}. Best is trial 11 with value: -0.12200933557658253.\n",
      "[I 2023-10-17 09:57:13,887] Trial 12 finished with value: -0.12200250857221677 and parameters: {'n_neighbors': 40, 'weights': 'distance', 'metric': 'euclidean'}. Best is trial 12 with value: -0.12200250857221677.\n",
      "[I 2023-10-17 09:57:13,999] Trial 13 finished with value: -0.12206696165390174 and parameters: {'n_neighbors': 33, 'weights': 'distance', 'metric': 'euclidean'}. Best is trial 12 with value: -0.12200250857221677.\n",
      "[I 2023-10-17 09:57:14,216] Trial 14 finished with value: -0.12218895950552829 and parameters: {'n_neighbors': 40, 'weights': 'distance', 'metric': 'minkowski', 'p': 5}. Best is trial 12 with value: -0.12200250857221677.\n",
      "[I 2023-10-17 09:57:14,323] Trial 15 finished with value: -0.12206303065184654 and parameters: {'n_neighbors': 32, 'weights': 'distance', 'metric': 'euclidean'}. Best is trial 12 with value: -0.12200250857221677.\n",
      "[I 2023-10-17 09:57:14,423] Trial 16 finished with value: -0.12206020670197296 and parameters: {'n_neighbors': 28, 'weights': 'distance', 'metric': 'euclidean'}. Best is trial 12 with value: -0.12200250857221677.\n",
      "[I 2023-10-17 09:57:14,519] Trial 17 finished with value: -0.1222710711636524 and parameters: {'n_neighbors': 19, 'weights': 'distance', 'metric': 'euclidean'}. Best is trial 12 with value: -0.12200250857221677.\n",
      "[I 2023-10-17 09:57:14,639] Trial 18 finished with value: -0.12188259353060593 and parameters: {'n_neighbors': 37, 'weights': 'distance', 'metric': 'minkowski', 'p': 1}. Best is trial 18 with value: -0.12188259353060593.\n",
      "[I 2023-10-17 09:57:14,753] Trial 19 finished with value: -0.12192799916399755 and parameters: {'n_neighbors': 31, 'weights': 'distance', 'metric': 'minkowski', 'p': 1}. Best is trial 18 with value: -0.12188259353060593.\n",
      "[I 2023-10-17 09:57:14,873] Trial 20 finished with value: -0.12192799916399755 and parameters: {'n_neighbors': 31, 'weights': 'distance', 'metric': 'minkowski', 'p': 1}. Best is trial 18 with value: -0.12188259353060593.\n",
      "[I 2023-10-17 09:57:14,986] Trial 21 finished with value: -0.12191481566973272 and parameters: {'n_neighbors': 30, 'weights': 'distance', 'metric': 'minkowski', 'p': 1}. Best is trial 18 with value: -0.12188259353060593.\n",
      "[I 2023-10-17 09:57:15,100] Trial 22 finished with value: -0.12189208905337719 and parameters: {'n_neighbors': 35, 'weights': 'distance', 'metric': 'minkowski', 'p': 1}. Best is trial 18 with value: -0.12188259353060593.\n",
      "[I 2023-10-17 09:57:15,210] Trial 23 finished with value: -0.12189208905337719 and parameters: {'n_neighbors': 35, 'weights': 'distance', 'metric': 'minkowski', 'p': 1}. Best is trial 18 with value: -0.12188259353060593.\n",
      "[I 2023-10-17 09:57:15,421] Trial 24 finished with value: -0.12213473880955097 and parameters: {'n_neighbors': 35, 'weights': 'distance', 'metric': 'minkowski', 'p': 3}. Best is trial 18 with value: -0.12188259353060593.\n",
      "[I 2023-10-17 09:57:15,534] Trial 25 finished with value: -0.12202523366651052 and parameters: {'n_neighbors': 36, 'weights': 'distance', 'metric': 'minkowski', 'p': 2}. Best is trial 18 with value: -0.12188259353060593.\n",
      "[I 2023-10-17 09:57:15,628] Trial 26 finished with value: -0.12324764637786371 and parameters: {'n_neighbors': 23, 'weights': 'uniform', 'metric': 'minkowski', 'p': 1}. Best is trial 18 with value: -0.12188259353060593.\n",
      "[I 2023-10-17 09:57:15,738] Trial 27 finished with value: -0.12204189973007913 and parameters: {'n_neighbors': 35, 'weights': 'distance', 'metric': 'minkowski', 'p': 2}. Best is trial 18 with value: -0.12188259353060593.\n",
      "[I 2023-10-17 09:57:15,838] Trial 28 finished with value: -0.1229806491978169 and parameters: {'n_neighbors': 14, 'weights': 'distance', 'metric': 'minkowski', 'p': 2}. Best is trial 18 with value: -0.12188259353060593.\n",
      "[I 2023-10-17 09:57:16,019] Trial 29 finished with value: -0.12226556147146558 and parameters: {'n_neighbors': 26, 'weights': 'distance', 'metric': 'minkowski', 'p': 5}. Best is trial 18 with value: -0.12188259353060593.\n",
      "[I 2023-10-17 09:57:16,130] Trial 30 finished with value: -0.12191598255123996 and parameters: {'n_neighbors': 28, 'weights': 'distance', 'metric': 'minkowski', 'p': 1}. Best is trial 18 with value: -0.12188259353060593.\n",
      "[I 2023-10-17 09:57:16,245] Trial 31 finished with value: -0.12191481566973272 and parameters: {'n_neighbors': 30, 'weights': 'distance', 'metric': 'minkowski', 'p': 1}. Best is trial 18 with value: -0.12188259353060593.\n",
      "[I 2023-10-17 09:57:16,367] Trial 32 finished with value: -0.12188259353060593 and parameters: {'n_neighbors': 37, 'weights': 'distance', 'metric': 'minkowski', 'p': 1}. Best is trial 18 with value: -0.12188259353060593.\n",
      "[I 2023-10-17 09:57:16,485] Trial 33 finished with value: -0.12188259353060593 and parameters: {'n_neighbors': 37, 'weights': 'distance', 'metric': 'minkowski', 'p': 1}. Best is trial 18 with value: -0.12188259353060593.\n",
      "[I 2023-10-17 09:57:16,596] Trial 34 finished with value: -0.12418287584726868 and parameters: {'n_neighbors': 38, 'weights': 'uniform', 'metric': 'minkowski', 'p': 2}. Best is trial 18 with value: -0.12188259353060593.\n",
      "[I 2023-10-17 09:57:16,714] Trial 35 finished with value: -0.12191887477861259 and parameters: {'n_neighbors': 40, 'weights': 'distance', 'metric': 'manhattan'}. Best is trial 18 with value: -0.12188259353060593.\n",
      "[I 2023-10-17 09:57:16,823] Trial 36 finished with value: -0.12441674156692746 and parameters: {'n_neighbors': 33, 'weights': 'uniform', 'metric': 'chebyshev'}. Best is trial 18 with value: -0.12188259353060593.\n",
      "[I 2023-10-17 09:57:17,050] Trial 37 finished with value: -0.12211625077154334 and parameters: {'n_neighbors': 37, 'weights': 'distance', 'metric': 'minkowski', 'p': 3}. Best is trial 18 with value: -0.12188259353060593.\n"
     ]
    },
    {
     "name": "stderr",
     "output_type": "stream",
     "text": [
      "[I 2023-10-17 09:57:17,156] Trial 38 finished with value: -0.12372786649111389 and parameters: {'n_neighbors': 33, 'weights': 'uniform', 'metric': 'manhattan'}. Best is trial 18 with value: -0.12188259353060593.\n",
      "[I 2023-10-17 09:57:17,250] Trial 39 finished with value: -0.12255220695382012 and parameters: {'n_neighbors': 20, 'weights': 'distance', 'metric': 'chebyshev'}. Best is trial 18 with value: -0.12188259353060593.\n",
      "[I 2023-10-17 09:57:17,447] Trial 40 finished with value: -0.12223612867205806 and parameters: {'n_neighbors': 23, 'weights': 'distance', 'metric': 'minkowski', 'p': 4}. Best is trial 18 with value: -0.12188259353060593.\n",
      "[I 2023-10-17 09:57:17,558] Trial 41 finished with value: -0.12186960092066394 and parameters: {'n_neighbors': 36, 'weights': 'distance', 'metric': 'minkowski', 'p': 1}. Best is trial 41 with value: -0.12186960092066394.\n",
      "[I 2023-10-17 09:57:17,683] Trial 42 finished with value: -0.12188259353060593 and parameters: {'n_neighbors': 37, 'weights': 'distance', 'metric': 'minkowski', 'p': 1}. Best is trial 41 with value: -0.12186960092066394.\n",
      "[I 2023-10-17 09:57:17,806] Trial 43 finished with value: -0.12191426720536436 and parameters: {'n_neighbors': 39, 'weights': 'distance', 'metric': 'minkowski', 'p': 1}. Best is trial 41 with value: -0.12186960092066394.\n",
      "[I 2023-10-17 09:57:17,925] Trial 44 finished with value: -0.12203295716454521 and parameters: {'n_neighbors': 37, 'weights': 'distance', 'metric': 'minkowski', 'p': 2}. Best is trial 41 with value: -0.12186960092066394.\n",
      "[I 2023-10-17 09:57:18,043] Trial 45 finished with value: -0.12190330547433345 and parameters: {'n_neighbors': 38, 'weights': 'distance', 'metric': 'manhattan'}. Best is trial 41 with value: -0.12186960092066394.\n",
      "[I 2023-10-17 09:57:18,155] Trial 46 finished with value: -0.1218794339089307 and parameters: {'n_neighbors': 34, 'weights': 'distance', 'metric': 'minkowski', 'p': 1}. Best is trial 41 with value: -0.12186960092066394.\n",
      "[I 2023-10-17 09:57:18,262] Trial 47 finished with value: -0.12441674156692746 and parameters: {'n_neighbors': 33, 'weights': 'uniform', 'metric': 'chebyshev'}. Best is trial 41 with value: -0.12186960092066394.\n",
      "[I 2023-10-17 09:57:18,397] Trial 48 finished with value: -0.12191887477861259 and parameters: {'n_neighbors': 40, 'weights': 'distance', 'metric': 'minkowski', 'p': 1}. Best is trial 41 with value: -0.12186960092066394.\n",
      "[I 2023-10-17 09:57:18,513] Trial 49 finished with value: -0.12204750841854192 and parameters: {'n_neighbors': 29, 'weights': 'distance', 'metric': 'minkowski', 'p': 2}. Best is trial 41 with value: -0.12186960092066394.\n",
      "[I 2023-10-17 09:57:18,621] Trial 50 finished with value: -0.12204310772549702 and parameters: {'n_neighbors': 25, 'weights': 'distance', 'metric': 'minkowski', 'p': 1}. Best is trial 41 with value: -0.12186960092066394.\n",
      "[I 2023-10-17 09:57:18,741] Trial 51 finished with value: -0.12188259353060593 and parameters: {'n_neighbors': 37, 'weights': 'distance', 'metric': 'minkowski', 'p': 1}. Best is trial 41 with value: -0.12186960092066394.\n",
      "[I 2023-10-17 09:57:18,836] Trial 52 finished with value: -0.13843034030890483 and parameters: {'n_neighbors': 2, 'weights': 'distance', 'metric': 'minkowski', 'p': 1}. Best is trial 41 with value: -0.12186960092066394.\n",
      "[I 2023-10-17 09:57:18,963] Trial 53 finished with value: -0.1218794339089307 and parameters: {'n_neighbors': 34, 'weights': 'distance', 'metric': 'minkowski', 'p': 1}. Best is trial 41 with value: -0.12186960092066394.\n",
      "[I 2023-10-17 09:57:19,079] Trial 54 finished with value: -0.12205256175012576 and parameters: {'n_neighbors': 34, 'weights': 'distance', 'metric': 'minkowski', 'p': 2}. Best is trial 41 with value: -0.12186960092066394.\n",
      "[I 2023-10-17 09:57:19,193] Trial 55 finished with value: -0.12191991133422893 and parameters: {'n_neighbors': 32, 'weights': 'distance', 'metric': 'minkowski', 'p': 1}. Best is trial 41 with value: -0.12186960092066394.\n",
      "[I 2023-10-17 09:57:19,279] Trial 56 finished with value: -0.12356457872913398 and parameters: {'n_neighbors': 11, 'weights': 'distance', 'metric': 'manhattan'}. Best is trial 41 with value: -0.12186960092066394.\n",
      "[I 2023-10-17 09:57:19,396] Trial 57 finished with value: -0.12186960092066394 and parameters: {'n_neighbors': 36, 'weights': 'distance', 'metric': 'minkowski', 'p': 1}. Best is trial 41 with value: -0.12186960092066394.\n",
      "[I 2023-10-17 09:57:19,505] Trial 58 finished with value: -0.1223397278903727 and parameters: {'n_neighbors': 34, 'weights': 'distance', 'metric': 'chebyshev'}. Best is trial 41 with value: -0.12186960092066394.\n",
      "[I 2023-10-17 09:57:19,628] Trial 59 finished with value: -0.12200143339470451 and parameters: {'n_neighbors': 39, 'weights': 'distance', 'metric': 'minkowski', 'p': 2}. Best is trial 41 with value: -0.12186960092066394.\n",
      "[I 2023-10-17 09:57:19,729] Trial 60 finished with value: -0.12317893054974613 and parameters: {'n_neighbors': 17, 'weights': 'uniform', 'metric': 'euclidean'}. Best is trial 41 with value: -0.12186960092066394.\n",
      "[I 2023-10-17 09:57:19,852] Trial 61 finished with value: -0.12186960092066394 and parameters: {'n_neighbors': 36, 'weights': 'distance', 'metric': 'minkowski', 'p': 1}. Best is trial 41 with value: -0.12186960092066394.\n",
      "[I 2023-10-17 09:57:19,969] Trial 62 finished with value: -0.12186960092066394 and parameters: {'n_neighbors': 36, 'weights': 'distance', 'metric': 'minkowski', 'p': 1}. Best is trial 41 with value: -0.12186960092066394.\n",
      "[I 2023-10-17 09:57:20,094] Trial 63 finished with value: -0.12192799916399755 and parameters: {'n_neighbors': 31, 'weights': 'distance', 'metric': 'minkowski', 'p': 1}. Best is trial 41 with value: -0.12186960092066394.\n",
      "[I 2023-10-17 09:57:20,225] Trial 64 finished with value: -0.12186960092066394 and parameters: {'n_neighbors': 36, 'weights': 'distance', 'metric': 'minkowski', 'p': 1}. Best is trial 41 with value: -0.12186960092066394.\n",
      "[I 2023-10-17 09:57:20,336] Trial 65 finished with value: -0.1218794339089307 and parameters: {'n_neighbors': 34, 'weights': 'distance', 'metric': 'minkowski', 'p': 1}. Best is trial 41 with value: -0.12186960092066394.\n",
      "[I 2023-10-17 09:57:20,452] Trial 66 finished with value: -0.12186960092066394 and parameters: {'n_neighbors': 36, 'weights': 'distance', 'metric': 'minkowski', 'p': 1}. Best is trial 41 with value: -0.12186960092066394.\n",
      "[I 2023-10-17 09:57:20,567] Trial 67 finished with value: -0.12186960092066394 and parameters: {'n_neighbors': 36, 'weights': 'distance', 'metric': 'minkowski', 'p': 1}. Best is trial 41 with value: -0.12186960092066394.\n",
      "[I 2023-10-17 09:57:20,693] Trial 68 finished with value: -0.12186960092066394 and parameters: {'n_neighbors': 36, 'weights': 'distance', 'metric': 'minkowski', 'p': 1}. Best is trial 41 with value: -0.12186960092066394.\n",
      "[I 2023-10-17 09:57:20,825] Trial 69 finished with value: -0.12191426720536436 and parameters: {'n_neighbors': 39, 'weights': 'distance', 'metric': 'minkowski', 'p': 1}. Best is trial 41 with value: -0.12186960092066394.\n",
      "[I 2023-10-17 09:57:20,972] Trial 70 finished with value: -0.12202523366651052 and parameters: {'n_neighbors': 36, 'weights': 'distance', 'metric': 'euclidean'}. Best is trial 41 with value: -0.12186960092066394.\n",
      "[I 2023-10-17 09:57:21,118] Trial 71 finished with value: -0.12186960092066394 and parameters: {'n_neighbors': 36, 'weights': 'distance', 'metric': 'minkowski', 'p': 1}. Best is trial 41 with value: -0.12186960092066394.\n",
      "[I 2023-10-17 09:57:21,240] Trial 72 finished with value: -0.12191991133422893 and parameters: {'n_neighbors': 32, 'weights': 'distance', 'metric': 'minkowski', 'p': 1}. Best is trial 41 with value: -0.12186960092066394.\n",
      "[I 2023-10-17 09:57:21,360] Trial 73 finished with value: -0.12186960092066394 and parameters: {'n_neighbors': 36, 'weights': 'distance', 'metric': 'minkowski', 'p': 1}. Best is trial 41 with value: -0.12186960092066394.\n",
      "[I 2023-10-17 09:57:21,476] Trial 74 finished with value: -0.12189208905337719 and parameters: {'n_neighbors': 35, 'weights': 'distance', 'metric': 'minkowski', 'p': 1}. Best is trial 41 with value: -0.12186960092066394.\n",
      "[I 2023-10-17 09:57:21,599] Trial 75 finished with value: -0.12191426720536436 and parameters: {'n_neighbors': 39, 'weights': 'distance', 'metric': 'minkowski', 'p': 1}. Best is trial 41 with value: -0.12186960092066394.\n"
     ]
    },
    {
     "name": "stderr",
     "output_type": "stream",
     "text": [
      "[I 2023-10-17 09:57:21,719] Trial 76 finished with value: -0.12206303065184654 and parameters: {'n_neighbors': 32, 'weights': 'distance', 'metric': 'minkowski', 'p': 2}. Best is trial 41 with value: -0.12186960092066394.\n",
      "[I 2023-10-17 09:57:21,843] Trial 77 finished with value: -0.12190330547433345 and parameters: {'n_neighbors': 38, 'weights': 'distance', 'metric': 'minkowski', 'p': 1}. Best is trial 41 with value: -0.12186960092066394.\n",
      "[I 2023-10-17 09:57:21,953] Trial 78 finished with value: -0.12363737533201044 and parameters: {'n_neighbors': 30, 'weights': 'uniform', 'metric': 'minkowski', 'p': 1}. Best is trial 41 with value: -0.12186960092066394.\n",
      "[I 2023-10-17 09:57:22,071] Trial 79 finished with value: -0.12186960092066394 and parameters: {'n_neighbors': 36, 'weights': 'distance', 'metric': 'manhattan'}. Best is trial 41 with value: -0.12186960092066394.\n",
      "[I 2023-10-17 09:57:22,225] Trial 80 finished with value: -0.12554613698228717 and parameters: {'n_neighbors': 7, 'weights': 'distance', 'metric': 'minkowski', 'p': 4}. Best is trial 41 with value: -0.12186960092066394.\n",
      "[I 2023-10-17 09:57:22,339] Trial 81 finished with value: -0.12186960092066394 and parameters: {'n_neighbors': 36, 'weights': 'distance', 'metric': 'minkowski', 'p': 1}. Best is trial 41 with value: -0.12186960092066394.\n",
      "[I 2023-10-17 09:57:22,453] Trial 82 finished with value: -0.12190330547433345 and parameters: {'n_neighbors': 38, 'weights': 'distance', 'metric': 'minkowski', 'p': 1}. Best is trial 41 with value: -0.12186960092066394.\n",
      "[I 2023-10-17 09:57:22,571] Trial 83 finished with value: -0.12189208905337719 and parameters: {'n_neighbors': 35, 'weights': 'distance', 'metric': 'minkowski', 'p': 1}. Best is trial 41 with value: -0.12186960092066394.\n",
      "[I 2023-10-17 09:57:22,692] Trial 84 finished with value: -0.12186960092066394 and parameters: {'n_neighbors': 36, 'weights': 'distance', 'metric': 'minkowski', 'p': 1}. Best is trial 41 with value: -0.12186960092066394.\n",
      "[I 2023-10-17 09:57:22,799] Trial 85 finished with value: -0.12232998203888643 and parameters: {'n_neighbors': 33, 'weights': 'distance', 'metric': 'chebyshev'}. Best is trial 41 with value: -0.12186960092066394.\n",
      "[I 2023-10-17 09:57:22,924] Trial 86 finished with value: -0.12191887477861259 and parameters: {'n_neighbors': 40, 'weights': 'distance', 'metric': 'minkowski', 'p': 1}. Best is trial 41 with value: -0.12186960092066394.\n",
      "[I 2023-10-17 09:57:23,052] Trial 87 finished with value: -0.12189208905337719 and parameters: {'n_neighbors': 35, 'weights': 'distance', 'metric': 'minkowski', 'p': 1}. Best is trial 41 with value: -0.12186960092066394.\n",
      "[I 2023-10-17 09:57:23,170] Trial 88 finished with value: -0.12200933557658253 and parameters: {'n_neighbors': 38, 'weights': 'distance', 'metric': 'minkowski', 'p': 2}. Best is trial 41 with value: -0.12186960092066394.\n",
      "[I 2023-10-17 09:57:23,292] Trial 89 finished with value: -0.12206696165390174 and parameters: {'n_neighbors': 33, 'weights': 'distance', 'metric': 'euclidean'}. Best is trial 41 with value: -0.12186960092066394.\n",
      "[I 2023-10-17 09:57:23,414] Trial 90 finished with value: -0.12370972088827022 and parameters: {'n_neighbors': 31, 'weights': 'uniform', 'metric': 'minkowski', 'p': 1}. Best is trial 41 with value: -0.12186960092066394.\n",
      "[I 2023-10-17 09:57:23,532] Trial 91 finished with value: -0.12186960092066394 and parameters: {'n_neighbors': 36, 'weights': 'distance', 'metric': 'minkowski', 'p': 1}. Best is trial 41 with value: -0.12186960092066394.\n",
      "[I 2023-10-17 09:57:23,648] Trial 92 finished with value: -0.12188259353060593 and parameters: {'n_neighbors': 37, 'weights': 'distance', 'metric': 'minkowski', 'p': 1}. Best is trial 41 with value: -0.12186960092066394.\n",
      "[I 2023-10-17 09:57:23,773] Trial 93 finished with value: -0.12186960092066394 and parameters: {'n_neighbors': 36, 'weights': 'distance', 'metric': 'minkowski', 'p': 1}. Best is trial 41 with value: -0.12186960092066394.\n",
      "[I 2023-10-17 09:57:23,907] Trial 94 finished with value: -0.12190330547433345 and parameters: {'n_neighbors': 38, 'weights': 'distance', 'metric': 'minkowski', 'p': 1}. Best is trial 41 with value: -0.12186960092066394.\n",
      "[I 2023-10-17 09:57:24,017] Trial 95 finished with value: -0.1218794339089307 and parameters: {'n_neighbors': 34, 'weights': 'distance', 'metric': 'minkowski', 'p': 1}. Best is trial 41 with value: -0.12186960092066394.\n",
      "[I 2023-10-17 09:57:24,141] Trial 96 finished with value: -0.12191426720536436 and parameters: {'n_neighbors': 39, 'weights': 'distance', 'metric': 'minkowski', 'p': 1}. Best is trial 41 with value: -0.12186960092066394.\n",
      "[I 2023-10-17 09:57:24,261] Trial 97 finished with value: -0.12189208905337719 and parameters: {'n_neighbors': 35, 'weights': 'distance', 'metric': 'minkowski', 'p': 1}. Best is trial 41 with value: -0.12186960092066394.\n",
      "[I 2023-10-17 09:57:24,373] Trial 98 finished with value: -0.12189208905337719 and parameters: {'n_neighbors': 35, 'weights': 'distance', 'metric': 'manhattan'}. Best is trial 41 with value: -0.12186960092066394.\n",
      "[I 2023-10-17 09:57:24,499] Trial 99 finished with value: -0.12187946235251526 and parameters: {'n_neighbors': 33, 'weights': 'distance', 'metric': 'minkowski', 'p': 1}. Best is trial 41 with value: -0.12186960092066394.\n"
     ]
    },
    {
     "name": "stdout",
     "output_type": "stream",
     "text": [
      "Valor óptimo de neg_mean_squared_error: -0.12186960092066394\n",
      "Mejores hiperparámetros: {'n_neighbors': 36, 'weights': 'distance', 'metric': 'minkowski', 'p': 1}\n"
     ]
    }
   ],
   "source": [
    "def objective(trial):\n",
    "    \n",
    "    # Definición de hiperparámetros a optimizar\n",
    "    n_neighbors = trial.suggest_int('n_neighbors', 2, 40)\n",
    "    weights = trial.suggest_categorical('weights', ['uniform', 'distance'])\n",
    "    metric = trial.suggest_categorical('metric', ['minkowski', 'euclidean', 'manhattan', 'chebyshev'])\n",
    "    p = 2 if metric != 'minkowski' else trial.suggest_int('p', 1, 5)  # 'p' sólo es relevante para la métrica 'minkowski'\n",
    "    metric_params = None if metric != 'wminkowski' else {'w': trial.suggest_float('w', 0.0, 1.0)}  # 'w' sólo es relevante para 'wminkowski'\n",
    "    \n",
    "    # Creación del modelo con los hiperparámetros sugeridos\n",
    "    model_knn = KNeighborsRegressor(\n",
    "        n_neighbors=n_neighbors,\n",
    "        weights=weights,\n",
    "        metric=metric,\n",
    "        p=p,\n",
    "        metric_params=metric_params\n",
    "    )\n",
    "    \n",
    "    # Se utiliza la validación cruzada para evaluar el rendimiento del modelo\n",
    "    return cross_val_score(model_knn, Remb_x_train, Remb_y_train, n_jobs=-1, cv=10, scoring='neg_mean_absolute_error').mean()\n",
    "\n",
    "# Crear un estudio de Optuna y optimizar el estudio\n",
    "study = optuna.create_study(direction='maximize')  # Maximizar porque estamos usando 'neg_mean_squared_error'\n",
    "study.optimize(objective, n_trials=100)\n",
    "\n",
    "# Resultados de la optimización\n",
    "print(f\"Valor óptimo de neg_mean_squared_error: {study.best_value}\")\n",
    "print(f\"Mejores hiperparámetros: {study.best_params}\")\n"
   ]
  },
  {
   "cell_type": "code",
   "execution_count": 31,
   "id": "6ea2fdbd",
   "metadata": {},
   "outputs": [
    {
     "data": {
      "text/html": [
       "<style>#sk-container-id-5 {color: black;}#sk-container-id-5 pre{padding: 0;}#sk-container-id-5 div.sk-toggleable {background-color: white;}#sk-container-id-5 label.sk-toggleable__label {cursor: pointer;display: block;width: 100%;margin-bottom: 0;padding: 0.3em;box-sizing: border-box;text-align: center;}#sk-container-id-5 label.sk-toggleable__label-arrow:before {content: \"▸\";float: left;margin-right: 0.25em;color: #696969;}#sk-container-id-5 label.sk-toggleable__label-arrow:hover:before {color: black;}#sk-container-id-5 div.sk-estimator:hover label.sk-toggleable__label-arrow:before {color: black;}#sk-container-id-5 div.sk-toggleable__content {max-height: 0;max-width: 0;overflow: hidden;text-align: left;background-color: #f0f8ff;}#sk-container-id-5 div.sk-toggleable__content pre {margin: 0.2em;color: black;border-radius: 0.25em;background-color: #f0f8ff;}#sk-container-id-5 input.sk-toggleable__control:checked~div.sk-toggleable__content {max-height: 200px;max-width: 100%;overflow: auto;}#sk-container-id-5 input.sk-toggleable__control:checked~label.sk-toggleable__label-arrow:before {content: \"▾\";}#sk-container-id-5 div.sk-estimator input.sk-toggleable__control:checked~label.sk-toggleable__label {background-color: #d4ebff;}#sk-container-id-5 div.sk-label input.sk-toggleable__control:checked~label.sk-toggleable__label {background-color: #d4ebff;}#sk-container-id-5 input.sk-hidden--visually {border: 0;clip: rect(1px 1px 1px 1px);clip: rect(1px, 1px, 1px, 1px);height: 1px;margin: -1px;overflow: hidden;padding: 0;position: absolute;width: 1px;}#sk-container-id-5 div.sk-estimator {font-family: monospace;background-color: #f0f8ff;border: 1px dotted black;border-radius: 0.25em;box-sizing: border-box;margin-bottom: 0.5em;}#sk-container-id-5 div.sk-estimator:hover {background-color: #d4ebff;}#sk-container-id-5 div.sk-parallel-item::after {content: \"\";width: 100%;border-bottom: 1px solid gray;flex-grow: 1;}#sk-container-id-5 div.sk-label:hover label.sk-toggleable__label {background-color: #d4ebff;}#sk-container-id-5 div.sk-serial::before {content: \"\";position: absolute;border-left: 1px solid gray;box-sizing: border-box;top: 0;bottom: 0;left: 50%;z-index: 0;}#sk-container-id-5 div.sk-serial {display: flex;flex-direction: column;align-items: center;background-color: white;padding-right: 0.2em;padding-left: 0.2em;position: relative;}#sk-container-id-5 div.sk-item {position: relative;z-index: 1;}#sk-container-id-5 div.sk-parallel {display: flex;align-items: stretch;justify-content: center;background-color: white;position: relative;}#sk-container-id-5 div.sk-item::before, #sk-container-id-5 div.sk-parallel-item::before {content: \"\";position: absolute;border-left: 1px solid gray;box-sizing: border-box;top: 0;bottom: 0;left: 50%;z-index: -1;}#sk-container-id-5 div.sk-parallel-item {display: flex;flex-direction: column;z-index: 1;position: relative;background-color: white;}#sk-container-id-5 div.sk-parallel-item:first-child::after {align-self: flex-end;width: 50%;}#sk-container-id-5 div.sk-parallel-item:last-child::after {align-self: flex-start;width: 50%;}#sk-container-id-5 div.sk-parallel-item:only-child::after {width: 0;}#sk-container-id-5 div.sk-dashed-wrapped {border: 1px dashed gray;margin: 0 0.4em 0.5em 0.4em;box-sizing: border-box;padding-bottom: 0.4em;background-color: white;}#sk-container-id-5 div.sk-label label {font-family: monospace;font-weight: bold;display: inline-block;line-height: 1.2em;}#sk-container-id-5 div.sk-label-container {text-align: center;}#sk-container-id-5 div.sk-container {/* jupyter's `normalize.less` sets `[hidden] { display: none; }` but bootstrap.min.css set `[hidden] { display: none !important; }` so we also need the `!important` here to be able to override the default hidden behavior on the sphinx rendered scikit-learn.org. See: https://github.com/scikit-learn/scikit-learn/issues/21755 */display: inline-block !important;position: relative;}#sk-container-id-5 div.sk-text-repr-fallback {display: none;}</style><div id=\"sk-container-id-5\" class=\"sk-top-container\"><div class=\"sk-text-repr-fallback\"><pre>KNeighborsRegressor(metric=&#x27;manhattan&#x27;, n_neighbors=36, weights=&#x27;distance&#x27;)</pre><b>In a Jupyter environment, please rerun this cell to show the HTML representation or trust the notebook. <br />On GitHub, the HTML representation is unable to render, please try loading this page with nbviewer.org.</b></div><div class=\"sk-container\" hidden><div class=\"sk-item\"><div class=\"sk-estimator sk-toggleable\"><input class=\"sk-toggleable__control sk-hidden--visually\" id=\"sk-estimator-id-5\" type=\"checkbox\" checked><label for=\"sk-estimator-id-5\" class=\"sk-toggleable__label sk-toggleable__label-arrow\">KNeighborsRegressor</label><div class=\"sk-toggleable__content\"><pre>KNeighborsRegressor(metric=&#x27;manhattan&#x27;, n_neighbors=36, weights=&#x27;distance&#x27;)</pre></div></div></div></div></div>"
      ],
      "text/plain": [
       "KNeighborsRegressor(metric='manhattan', n_neighbors=36, weights='distance')"
      ]
     },
     "execution_count": 31,
     "metadata": {},
     "output_type": "execute_result"
    }
   ],
   "source": [
    "Remb_model_knn = KNeighborsRegressor(n_neighbors = 36, weights = 'distance', metric = 'manhattan',)\n",
    "Remb_model_knn.fit(Remb_x_train, Remb_y_train)"
   ]
  },
  {
   "cell_type": "code",
   "execution_count": 32,
   "id": "d098b515",
   "metadata": {},
   "outputs": [
    {
     "name": "stdout",
     "output_type": "stream",
     "text": [
      "0.0271597848546 0.1216493975\n"
     ]
    }
   ],
   "source": [
    "remb_knn_pred = Remb_model_knn.predict(Remb_x_test)\n",
    "mse = mean_squared_error(Remb_y_test, remb_knn_pred)\n",
    "mae = mean_absolute_error(Remb_y_test, remb_knn_pred)\n",
    "print(mse, mae)"
   ]
  },
  {
   "cell_type": "markdown",
   "id": "ec34fdd2",
   "metadata": {},
   "source": [
    "## Parametro R"
   ]
  },
  {
   "cell_type": "code",
   "execution_count": 20,
   "id": "261d9a72",
   "metadata": {},
   "outputs": [
    {
     "data": {
      "text/html": [
       "<div>\n",
       "<style scoped>\n",
       "    .dataframe tbody tr th:only-of-type {\n",
       "        vertical-align: middle;\n",
       "    }\n",
       "\n",
       "    .dataframe tbody tr th {\n",
       "        vertical-align: top;\n",
       "    }\n",
       "\n",
       "    .dataframe thead th {\n",
       "        text-align: right;\n",
       "    }\n",
       "</style>\n",
       "<table border=\"1\" class=\"dataframe\">\n",
       "  <thead>\n",
       "    <tr style=\"text-align: right;\">\n",
       "      <th></th>\n",
       "      <th>r</th>\n",
       "      <th>g</th>\n",
       "      <th>b</th>\n",
       "      <th>Remb_pred</th>\n",
       "    </tr>\n",
       "  </thead>\n",
       "  <tbody>\n",
       "    <tr>\n",
       "      <th>15648</th>\n",
       "      <td>0.536358</td>\n",
       "      <td>0.627044</td>\n",
       "      <td>0.626174</td>\n",
       "      <td>0.719651</td>\n",
       "    </tr>\n",
       "    <tr>\n",
       "      <th>22634</th>\n",
       "      <td>0.536441</td>\n",
       "      <td>0.599472</td>\n",
       "      <td>0.652045</td>\n",
       "      <td>0.736800</td>\n",
       "    </tr>\n",
       "    <tr>\n",
       "      <th>20727</th>\n",
       "      <td>0.652510</td>\n",
       "      <td>0.634633</td>\n",
       "      <td>0.555233</td>\n",
       "      <td>0.709246</td>\n",
       "    </tr>\n",
       "    <tr>\n",
       "      <th>5500</th>\n",
       "      <td>0.754260</td>\n",
       "      <td>0.598938</td>\n",
       "      <td>0.520384</td>\n",
       "      <td>0.517995</td>\n",
       "    </tr>\n",
       "    <tr>\n",
       "      <th>12921</th>\n",
       "      <td>0.640387</td>\n",
       "      <td>0.671966</td>\n",
       "      <td>0.515780</td>\n",
       "      <td>0.563600</td>\n",
       "    </tr>\n",
       "  </tbody>\n",
       "</table>\n",
       "</div>"
      ],
      "text/plain": [
       "              r         g         b  Remb_pred\n",
       "15648  0.536358  0.627044  0.626174   0.719651\n",
       "22634  0.536441  0.599472  0.652045   0.736800\n",
       "20727  0.652510  0.634633  0.555233   0.709246\n",
       "5500   0.754260  0.598938  0.520384   0.517995\n",
       "12921  0.640387  0.671966  0.515780   0.563600"
      ]
     },
     "execution_count": 20,
     "metadata": {},
     "output_type": "execute_result"
    }
   ],
   "source": [
    "R_x_train['Remb_pred'] = Remb_model_knn.predict(R_x_train)\n",
    "R_x_test['Remb_pred'] = Remb_model_knn.predict(R_x_test)\n",
    "R_x_train.head()"
   ]
  },
  {
   "cell_type": "code",
   "execution_count": 21,
   "id": "0acc4baa",
   "metadata": {},
   "outputs": [
    {
     "name": "stderr",
     "output_type": "stream",
     "text": [
      "[I 2023-10-17 09:57:24,812] A new study created in memory with name: no-name-deba7c26-73b2-4a06-bad4-42fc976fd4d1\n",
      "[I 2023-10-17 09:57:24,956] Trial 0 finished with value: -0.14242623419676026 and parameters: {'n_neighbors': 37, 'weights': 'distance', 'metric': 'chebyshev'}. Best is trial 0 with value: -0.14242623419676026.\n",
      "[I 2023-10-17 09:57:25,068] Trial 1 finished with value: -0.14072544497184963 and parameters: {'n_neighbors': 20, 'weights': 'uniform', 'metric': 'euclidean'}. Best is trial 1 with value: -0.14072544497184963.\n",
      "[I 2023-10-17 09:57:25,201] Trial 2 finished with value: -0.13728755718892852 and parameters: {'n_neighbors': 29, 'weights': 'distance', 'metric': 'manhattan'}. Best is trial 2 with value: -0.13728755718892852.\n",
      "[I 2023-10-17 09:57:25,311] Trial 3 finished with value: -0.1389257064219532 and parameters: {'n_neighbors': 13, 'weights': 'distance', 'metric': 'chebyshev'}. Best is trial 2 with value: -0.13728755718892852.\n",
      "[I 2023-10-17 09:57:25,426] Trial 4 finished with value: -0.1427751546599912 and parameters: {'n_neighbors': 18, 'weights': 'uniform', 'metric': 'chebyshev'}. Best is trial 2 with value: -0.13728755718892852.\n",
      "[I 2023-10-17 09:57:25,523] Trial 5 finished with value: -0.1396369498085314 and parameters: {'n_neighbors': 5, 'weights': 'uniform', 'metric': 'euclidean'}. Best is trial 2 with value: -0.13728755718892852.\n",
      "[I 2023-10-17 09:57:25,640] Trial 6 finished with value: -0.13597396635799722 and parameters: {'n_neighbors': 18, 'weights': 'distance', 'metric': 'manhattan'}. Best is trial 6 with value: -0.13597396635799722.\n",
      "[I 2023-10-17 09:57:25,766] Trial 7 finished with value: -0.1365706059779989 and parameters: {'n_neighbors': 23, 'weights': 'distance', 'metric': 'manhattan'}. Best is trial 6 with value: -0.13597396635799722.\n",
      "[I 2023-10-17 09:57:25,913] Trial 8 finished with value: -0.14266346818511727 and parameters: {'n_neighbors': 38, 'weights': 'uniform', 'metric': 'minkowski', 'p': 1}. Best is trial 6 with value: -0.13597396635799722.\n",
      "[I 2023-10-17 09:57:26,052] Trial 9 finished with value: -0.14200473227979443 and parameters: {'n_neighbors': 34, 'weights': 'uniform', 'metric': 'manhattan'}. Best is trial 6 with value: -0.13597396635799722.\n",
      "[I 2023-10-17 09:57:26,235] Trial 10 finished with value: -0.14917096808873653 and parameters: {'n_neighbors': 2, 'weights': 'distance', 'metric': 'minkowski', 'p': 5}. Best is trial 6 with value: -0.13597396635799722.\n",
      "[I 2023-10-17 09:57:26,374] Trial 11 finished with value: -0.13687967656743547 and parameters: {'n_neighbors': 26, 'weights': 'distance', 'metric': 'manhattan'}. Best is trial 6 with value: -0.13597396635799722.\n",
      "[I 2023-10-17 09:57:26,492] Trial 12 finished with value: -0.13572771246146104 and parameters: {'n_neighbors': 12, 'weights': 'distance', 'metric': 'manhattan'}. Best is trial 12 with value: -0.13572771246146104.\n",
      "[I 2023-10-17 09:57:26,612] Trial 13 finished with value: -0.13572771246146104 and parameters: {'n_neighbors': 12, 'weights': 'distance', 'metric': 'manhattan'}. Best is trial 12 with value: -0.13572771246146104.\n",
      "[I 2023-10-17 09:57:26,734] Trial 14 finished with value: -0.135650108802356 and parameters: {'n_neighbors': 10, 'weights': 'distance', 'metric': 'manhattan'}. Best is trial 14 with value: -0.135650108802356.\n",
      "[I 2023-10-17 09:57:26,851] Trial 15 finished with value: -0.13576882484942496 and parameters: {'n_neighbors': 9, 'weights': 'distance', 'metric': 'manhattan'}. Best is trial 14 with value: -0.135650108802356.\n",
      "[I 2023-10-17 09:57:26,969] Trial 16 finished with value: -0.13589199969998841 and parameters: {'n_neighbors': 8, 'weights': 'distance', 'metric': 'manhattan'}. Best is trial 14 with value: -0.135650108802356.\n",
      "[I 2023-10-17 09:57:27,239] Trial 17 finished with value: -0.13756979750884873 and parameters: {'n_neighbors': 15, 'weights': 'distance', 'metric': 'minkowski', 'p': 3}. Best is trial 14 with value: -0.135650108802356.\n",
      "[I 2023-10-17 09:57:27,352] Trial 18 finished with value: -0.13684515815931653 and parameters: {'n_neighbors': 9, 'weights': 'distance', 'metric': 'euclidean'}. Best is trial 14 with value: -0.135650108802356.\n",
      "[I 2023-10-17 09:57:27,455] Trial 19 finished with value: -0.14643526753367608 and parameters: {'n_neighbors': 2, 'weights': 'distance', 'metric': 'manhattan'}. Best is trial 14 with value: -0.135650108802356.\n",
      "[I 2023-10-17 09:57:27,579] Trial 20 finished with value: -0.1358628685372566 and parameters: {'n_neighbors': 16, 'weights': 'distance', 'metric': 'manhattan'}. Best is trial 14 with value: -0.135650108802356.\n",
      "[I 2023-10-17 09:57:27,701] Trial 21 finished with value: -0.1357394576192135 and parameters: {'n_neighbors': 11, 'weights': 'distance', 'metric': 'manhattan'}. Best is trial 14 with value: -0.135650108802356.\n",
      "[I 2023-10-17 09:57:27,811] Trial 22 finished with value: -0.13637626102834485 and parameters: {'n_neighbors': 6, 'weights': 'distance', 'metric': 'manhattan'}. Best is trial 14 with value: -0.135650108802356.\n",
      "[I 2023-10-17 09:57:27,933] Trial 23 finished with value: -0.13583808858751192 and parameters: {'n_neighbors': 13, 'weights': 'distance', 'metric': 'manhattan'}. Best is trial 14 with value: -0.135650108802356.\n",
      "[I 2023-10-17 09:57:28,056] Trial 24 finished with value: -0.13572771246146104 and parameters: {'n_neighbors': 12, 'weights': 'distance', 'metric': 'manhattan'}. Best is trial 14 with value: -0.135650108802356.\n",
      "[I 2023-10-17 09:57:28,169] Trial 25 finished with value: -0.13699552586972824 and parameters: {'n_neighbors': 5, 'weights': 'distance', 'metric': 'manhattan'}. Best is trial 14 with value: -0.135650108802356.\n",
      "[I 2023-10-17 09:57:28,306] Trial 26 finished with value: -0.13959768715820714 and parameters: {'n_neighbors': 22, 'weights': 'uniform', 'metric': 'minkowski', 'p': 1}. Best is trial 14 with value: -0.135650108802356.\n",
      "[I 2023-10-17 09:57:28,427] Trial 27 finished with value: -0.13687767150259458 and parameters: {'n_neighbors': 15, 'weights': 'distance', 'metric': 'euclidean'}. Best is trial 14 with value: -0.135650108802356.\n",
      "[I 2023-10-17 09:57:28,544] Trial 28 finished with value: -0.13878932689842313 and parameters: {'n_neighbors': 11, 'weights': 'distance', 'metric': 'chebyshev'}. Best is trial 14 with value: -0.135650108802356.\n",
      "[I 2023-10-17 09:57:28,660] Trial 29 finished with value: -0.1392701088113307 and parameters: {'n_neighbors': 7, 'weights': 'distance', 'metric': 'chebyshev'}. Best is trial 14 with value: -0.135650108802356.\n",
      "[I 2023-10-17 09:57:28,803] Trial 30 finished with value: -0.13678093552599205 and parameters: {'n_neighbors': 25, 'weights': 'distance', 'metric': 'manhattan'}. Best is trial 14 with value: -0.135650108802356.\n",
      "[I 2023-10-17 09:57:28,922] Trial 31 finished with value: -0.13572771246146104 and parameters: {'n_neighbors': 12, 'weights': 'distance', 'metric': 'manhattan'}. Best is trial 14 with value: -0.135650108802356.\n",
      "[I 2023-10-17 09:57:29,057] Trial 32 finished with value: -0.13597396635799722 and parameters: {'n_neighbors': 18, 'weights': 'distance', 'metric': 'manhattan'}. Best is trial 14 with value: -0.135650108802356.\n",
      "[I 2023-10-17 09:57:29,207] Trial 33 finished with value: -0.13620561322223237 and parameters: {'n_neighbors': 20, 'weights': 'distance', 'metric': 'manhattan'}. Best is trial 14 with value: -0.135650108802356.\n",
      "[I 2023-10-17 09:57:29,333] Trial 34 finished with value: -0.135650108802356 and parameters: {'n_neighbors': 10, 'weights': 'distance', 'metric': 'manhattan'}. Best is trial 14 with value: -0.135650108802356.\n",
      "[I 2023-10-17 09:57:29,450] Trial 35 finished with value: -0.13885744463789196 and parameters: {'n_neighbors': 9, 'weights': 'uniform', 'metric': 'euclidean'}. Best is trial 14 with value: -0.135650108802356.\n",
      "[I 2023-10-17 09:57:29,573] Trial 36 finished with value: -0.139019692857371 and parameters: {'n_neighbors': 14, 'weights': 'distance', 'metric': 'chebyshev'}. Best is trial 14 with value: -0.135650108802356.\n",
      "[I 2023-10-17 09:57:29,683] Trial 37 finished with value: -0.13823417316811676 and parameters: {'n_neighbors': 4, 'weights': 'distance', 'metric': 'manhattan'}. Best is trial 14 with value: -0.135650108802356.\n",
      "[I 2023-10-17 09:57:29,811] Trial 38 finished with value: -0.1386175247493579 and parameters: {'n_neighbors': 17, 'weights': 'uniform', 'metric': 'manhattan'}. Best is trial 14 with value: -0.135650108802356.\n"
     ]
    },
    {
     "name": "stderr",
     "output_type": "stream",
     "text": [
      "[I 2023-10-17 09:57:29,957] Trial 39 finished with value: -0.13784641634237313 and parameters: {'n_neighbors': 33, 'weights': 'distance', 'metric': 'manhattan'}. Best is trial 14 with value: -0.135650108802356.\n",
      "[I 2023-10-17 09:57:30,072] Trial 40 finished with value: -0.1390081027942101 and parameters: {'n_neighbors': 11, 'weights': 'uniform', 'metric': 'euclidean'}. Best is trial 14 with value: -0.135650108802356.\n",
      "[I 2023-10-17 09:57:30,207] Trial 41 finished with value: -0.13583808858751192 and parameters: {'n_neighbors': 13, 'weights': 'distance', 'metric': 'manhattan'}. Best is trial 14 with value: -0.135650108802356.\n",
      "[I 2023-10-17 09:57:30,343] Trial 42 finished with value: -0.13620561322223237 and parameters: {'n_neighbors': 20, 'weights': 'distance', 'metric': 'manhattan'}. Best is trial 14 with value: -0.135650108802356.\n",
      "[I 2023-10-17 09:57:30,464] Trial 43 finished with value: -0.135650108802356 and parameters: {'n_neighbors': 10, 'weights': 'distance', 'metric': 'manhattan'}. Best is trial 14 with value: -0.135650108802356.\n",
      "[I 2023-10-17 09:57:30,589] Trial 44 finished with value: -0.135650108802356 and parameters: {'n_neighbors': 10, 'weights': 'distance', 'metric': 'manhattan'}. Best is trial 14 with value: -0.135650108802356.\n",
      "[I 2023-10-17 09:57:30,794] Trial 45 finished with value: -0.14099997597590241 and parameters: {'n_neighbors': 4, 'weights': 'distance', 'metric': 'minkowski', 'p': 5}. Best is trial 14 with value: -0.135650108802356.\n",
      "[I 2023-10-17 09:57:30,907] Trial 46 finished with value: -0.1359517268182938 and parameters: {'n_neighbors': 7, 'weights': 'distance', 'metric': 'manhattan'}. Best is trial 14 with value: -0.135650108802356.\n",
      "[I 2023-10-17 09:57:31,024] Trial 47 finished with value: -0.135650108802356 and parameters: {'n_neighbors': 10, 'weights': 'distance', 'metric': 'manhattan'}. Best is trial 14 with value: -0.135650108802356.\n",
      "[I 2023-10-17 09:57:31,143] Trial 48 finished with value: -0.13884734616808928 and parameters: {'n_neighbors': 10, 'weights': 'distance', 'metric': 'chebyshev'}. Best is trial 14 with value: -0.135650108802356.\n",
      "[I 2023-10-17 09:57:31,268] Trial 49 finished with value: -0.13763099519478567 and parameters: {'n_neighbors': 8, 'weights': 'uniform', 'metric': 'manhattan'}. Best is trial 14 with value: -0.135650108802356.\n",
      "[I 2023-10-17 09:57:31,380] Trial 50 finished with value: -0.13823417316811676 and parameters: {'n_neighbors': 4, 'weights': 'distance', 'metric': 'manhattan'}. Best is trial 14 with value: -0.135650108802356.\n",
      "[I 2023-10-17 09:57:31,500] Trial 51 finished with value: -0.135650108802356 and parameters: {'n_neighbors': 10, 'weights': 'distance', 'metric': 'manhattan'}. Best is trial 14 with value: -0.135650108802356.\n",
      "[I 2023-10-17 09:57:31,624] Trial 52 finished with value: -0.135650108802356 and parameters: {'n_neighbors': 10, 'weights': 'distance', 'metric': 'manhattan'}. Best is trial 14 with value: -0.135650108802356.\n",
      "[I 2023-10-17 09:57:31,737] Trial 53 finished with value: -0.1359517268182938 and parameters: {'n_neighbors': 7, 'weights': 'distance', 'metric': 'manhattan'}. Best is trial 14 with value: -0.135650108802356.\n",
      "[I 2023-10-17 09:57:31,862] Trial 54 finished with value: -0.13573616709422773 and parameters: {'n_neighbors': 14, 'weights': 'distance', 'metric': 'manhattan'}. Best is trial 14 with value: -0.135650108802356.\n",
      "[I 2023-10-17 09:57:32,097] Trial 55 finished with value: -0.1377105435756671 and parameters: {'n_neighbors': 9, 'weights': 'distance', 'metric': 'minkowski', 'p': 3}. Best is trial 14 with value: -0.135650108802356.\n",
      "[I 2023-10-17 09:57:32,204] Trial 56 finished with value: -0.13637626102834485 and parameters: {'n_neighbors': 6, 'weights': 'distance', 'metric': 'manhattan'}. Best is trial 14 with value: -0.135650108802356.\n",
      "[I 2023-10-17 09:57:32,326] Trial 57 finished with value: -0.1358628685372566 and parameters: {'n_neighbors': 16, 'weights': 'distance', 'metric': 'manhattan'}. Best is trial 14 with value: -0.135650108802356.\n",
      "[I 2023-10-17 09:57:32,447] Trial 58 finished with value: -0.135650108802356 and parameters: {'n_neighbors': 10, 'weights': 'distance', 'metric': 'manhattan'}. Best is trial 14 with value: -0.135650108802356.\n",
      "[I 2023-10-17 09:57:32,549] Trial 59 finished with value: -0.14643526753367608 and parameters: {'n_neighbors': 2, 'weights': 'distance', 'metric': 'manhattan'}. Best is trial 14 with value: -0.135650108802356.\n",
      "[I 2023-10-17 09:57:32,672] Trial 60 finished with value: -0.13686943498181778 and parameters: {'n_neighbors': 14, 'weights': 'distance', 'metric': 'euclidean'}. Best is trial 14 with value: -0.135650108802356.\n",
      "[I 2023-10-17 09:57:32,796] Trial 61 finished with value: -0.135650108802356 and parameters: {'n_neighbors': 10, 'weights': 'distance', 'metric': 'manhattan'}. Best is trial 14 with value: -0.135650108802356.\n",
      "[I 2023-10-17 09:57:32,955] Trial 62 finished with value: -0.13866344993376772 and parameters: {'n_neighbors': 40, 'weights': 'distance', 'metric': 'manhattan'}. Best is trial 14 with value: -0.135650108802356.\n",
      "[I 2023-10-17 09:57:33,075] Trial 63 finished with value: -0.1357394576192135 and parameters: {'n_neighbors': 11, 'weights': 'distance', 'metric': 'manhattan'}. Best is trial 14 with value: -0.135650108802356.\n",
      "[I 2023-10-17 09:57:33,190] Trial 64 finished with value: -0.13589199969998841 and parameters: {'n_neighbors': 8, 'weights': 'distance', 'metric': 'manhattan'}. Best is trial 14 with value: -0.135650108802356.\n",
      "[I 2023-10-17 09:57:33,300] Trial 65 finished with value: -0.13637626102834485 and parameters: {'n_neighbors': 6, 'weights': 'distance', 'metric': 'manhattan'}. Best is trial 14 with value: -0.135650108802356.\n",
      "[I 2023-10-17 09:57:33,420] Trial 66 finished with value: -0.13583808858751192 and parameters: {'n_neighbors': 13, 'weights': 'distance', 'metric': 'manhattan'}. Best is trial 14 with value: -0.135650108802356.\n",
      "[I 2023-10-17 09:57:33,538] Trial 67 finished with value: -0.13695717645155328 and parameters: {'n_neighbors': 8, 'weights': 'distance', 'metric': 'minkowski', 'p': 2}. Best is trial 14 with value: -0.135650108802356.\n",
      "[I 2023-10-17 09:57:33,679] Trial 68 finished with value: -0.14095040695749778 and parameters: {'n_neighbors': 29, 'weights': 'uniform', 'metric': 'manhattan'}. Best is trial 14 with value: -0.135650108802356.\n",
      "[I 2023-10-17 09:57:33,798] Trial 69 finished with value: -0.1388381729316816 and parameters: {'n_neighbors': 12, 'weights': 'distance', 'metric': 'chebyshev'}. Best is trial 14 with value: -0.135650108802356.\n",
      "[I 2023-10-17 09:57:33,914] Trial 70 finished with value: -0.135650108802356 and parameters: {'n_neighbors': 10, 'weights': 'distance', 'metric': 'manhattan'}. Best is trial 14 with value: -0.135650108802356.\n",
      "[I 2023-10-17 09:57:34,027] Trial 71 finished with value: -0.13576882484942496 and parameters: {'n_neighbors': 9, 'weights': 'distance', 'metric': 'manhattan'}. Best is trial 14 with value: -0.135650108802356.\n",
      "[I 2023-10-17 09:57:34,147] Trial 72 finished with value: -0.135650108802356 and parameters: {'n_neighbors': 10, 'weights': 'distance', 'metric': 'manhattan'}. Best is trial 14 with value: -0.135650108802356.\n",
      "[I 2023-10-17 09:57:34,271] Trial 73 finished with value: -0.13576446143794263 and parameters: {'n_neighbors': 15, 'weights': 'distance', 'metric': 'manhattan'}. Best is trial 14 with value: -0.135650108802356.\n",
      "[I 2023-10-17 09:57:34,391] Trial 74 finished with value: -0.1357394576192135 and parameters: {'n_neighbors': 11, 'weights': 'distance', 'metric': 'manhattan'}. Best is trial 14 with value: -0.135650108802356.\n",
      "[I 2023-10-17 09:57:34,509] Trial 75 finished with value: -0.13572771246146104 and parameters: {'n_neighbors': 12, 'weights': 'distance', 'metric': 'manhattan'}. Best is trial 14 with value: -0.135650108802356.\n",
      "[I 2023-10-17 09:57:34,618] Trial 76 finished with value: -0.13699552586972824 and parameters: {'n_neighbors': 5, 'weights': 'distance', 'metric': 'manhattan'}. Best is trial 14 with value: -0.135650108802356.\n",
      "[I 2023-10-17 09:57:34,727] Trial 77 finished with value: -0.13749312666953833 and parameters: {'n_neighbors': 7, 'weights': 'distance', 'metric': 'euclidean'}. Best is trial 14 with value: -0.135650108802356.\n"
     ]
    },
    {
     "name": "stderr",
     "output_type": "stream",
     "text": [
      "[I 2023-10-17 09:57:34,860] Trial 78 finished with value: -0.13597396635799722 and parameters: {'n_neighbors': 18, 'weights': 'distance', 'metric': 'manhattan'}. Best is trial 14 with value: -0.135650108802356.\n",
      "[I 2023-10-17 09:57:34,981] Trial 79 finished with value: -0.1382787654787572 and parameters: {'n_neighbors': 13, 'weights': 'uniform', 'metric': 'manhattan'}. Best is trial 14 with value: -0.135650108802356.\n",
      "[I 2023-10-17 09:57:35,151] Trial 80 finished with value: -0.13576882484942496 and parameters: {'n_neighbors': 9, 'weights': 'distance', 'metric': 'manhattan'}. Best is trial 14 with value: -0.135650108802356.\n",
      "[I 2023-10-17 09:57:35,304] Trial 81 finished with value: -0.135650108802356 and parameters: {'n_neighbors': 10, 'weights': 'distance', 'metric': 'manhattan'}. Best is trial 14 with value: -0.135650108802356.\n",
      "[I 2023-10-17 09:57:35,417] Trial 82 finished with value: -0.13589199969998841 and parameters: {'n_neighbors': 8, 'weights': 'distance', 'metric': 'manhattan'}. Best is trial 14 with value: -0.135650108802356.\n",
      "[I 2023-10-17 09:57:35,535] Trial 83 finished with value: -0.135650108802356 and parameters: {'n_neighbors': 10, 'weights': 'distance', 'metric': 'manhattan'}. Best is trial 14 with value: -0.135650108802356.\n",
      "[I 2023-10-17 09:57:35,673] Trial 84 finished with value: -0.1357394576192135 and parameters: {'n_neighbors': 11, 'weights': 'distance', 'metric': 'manhattan'}. Best is trial 14 with value: -0.135650108802356.\n",
      "[I 2023-10-17 09:57:35,801] Trial 85 finished with value: -0.1388381729316816 and parameters: {'n_neighbors': 12, 'weights': 'distance', 'metric': 'chebyshev'}. Best is trial 14 with value: -0.135650108802356.\n",
      "[I 2023-10-17 09:57:35,924] Trial 86 finished with value: -0.13589199969998841 and parameters: {'n_neighbors': 8, 'weights': 'distance', 'metric': 'manhattan'}. Best is trial 14 with value: -0.135650108802356.\n",
      "[I 2023-10-17 09:57:36,151] Trial 87 finished with value: -0.13883823460626496 and parameters: {'n_neighbors': 6, 'weights': 'distance', 'metric': 'minkowski', 'p': 4}. Best is trial 14 with value: -0.135650108802356.\n",
      "[I 2023-10-17 09:57:36,257] Trial 88 finished with value: -0.14085781058477354 and parameters: {'n_neighbors': 3, 'weights': 'distance', 'metric': 'manhattan'}. Best is trial 14 with value: -0.135650108802356.\n",
      "[I 2023-10-17 09:57:36,391] Trial 89 finished with value: -0.13583808858751192 and parameters: {'n_neighbors': 13, 'weights': 'distance', 'metric': 'manhattan'}. Best is trial 14 with value: -0.135650108802356.\n",
      "[I 2023-10-17 09:57:36,519] Trial 90 finished with value: -0.13860251821712752 and parameters: {'n_neighbors': 16, 'weights': 'uniform', 'metric': 'manhattan'}. Best is trial 14 with value: -0.135650108802356.\n",
      "[I 2023-10-17 09:57:36,643] Trial 91 finished with value: -0.135650108802356 and parameters: {'n_neighbors': 10, 'weights': 'distance', 'metric': 'manhattan'}. Best is trial 14 with value: -0.135650108802356.\n",
      "[I 2023-10-17 09:57:36,759] Trial 92 finished with value: -0.135650108802356 and parameters: {'n_neighbors': 10, 'weights': 'distance', 'metric': 'manhattan'}. Best is trial 14 with value: -0.135650108802356.\n",
      "[I 2023-10-17 09:57:36,874] Trial 93 finished with value: -0.1357394576192135 and parameters: {'n_neighbors': 11, 'weights': 'distance', 'metric': 'manhattan'}. Best is trial 14 with value: -0.135650108802356.\n",
      "[I 2023-10-17 09:57:36,987] Trial 94 finished with value: -0.13576882484942496 and parameters: {'n_neighbors': 9, 'weights': 'distance', 'metric': 'manhattan'}. Best is trial 14 with value: -0.135650108802356.\n",
      "[I 2023-10-17 09:57:37,114] Trial 95 finished with value: -0.13573616709422773 and parameters: {'n_neighbors': 14, 'weights': 'distance', 'metric': 'manhattan'}. Best is trial 14 with value: -0.135650108802356.\n",
      "[I 2023-10-17 09:57:37,229] Trial 96 finished with value: -0.13749312666953833 and parameters: {'n_neighbors': 7, 'weights': 'distance', 'metric': 'euclidean'}. Best is trial 14 with value: -0.135650108802356.\n",
      "[I 2023-10-17 09:57:37,348] Trial 97 finished with value: -0.13572771246146104 and parameters: {'n_neighbors': 12, 'weights': 'distance', 'metric': 'manhattan'}. Best is trial 14 with value: -0.135650108802356.\n",
      "[I 2023-10-17 09:57:37,464] Trial 98 finished with value: -0.13576882484942496 and parameters: {'n_neighbors': 9, 'weights': 'distance', 'metric': 'manhattan'}. Best is trial 14 with value: -0.135650108802356.\n",
      "[I 2023-10-17 09:57:37,572] Trial 99 finished with value: -0.13699552586972824 and parameters: {'n_neighbors': 5, 'weights': 'distance', 'metric': 'manhattan'}. Best is trial 14 with value: -0.135650108802356.\n"
     ]
    },
    {
     "name": "stdout",
     "output_type": "stream",
     "text": [
      "Valor óptimo de neg_mean_squared_error: -0.135650108802356\n",
      "Mejores hiperparámetros: {'n_neighbors': 10, 'weights': 'distance', 'metric': 'manhattan'}\n"
     ]
    }
   ],
   "source": [
    "def objective(trial):\n",
    "    \n",
    "    # Definición de hiperparámetros a optimizar\n",
    "    n_neighbors = trial.suggest_int('n_neighbors', 2, 40)\n",
    "    weights = trial.suggest_categorical('weights', ['uniform', 'distance'])\n",
    "    metric = trial.suggest_categorical('metric', ['minkowski', 'euclidean', 'manhattan', 'chebyshev'])\n",
    "    p = 2 if metric != 'minkowski' else trial.suggest_int('p', 1, 5)  # 'p' sólo es relevante para la métrica 'minkowski'\n",
    "    metric_params = None if metric != 'wminkowski' else {'w': trial.suggest_float('w', 0.0, 1.0)}  # 'w' sólo es relevante para 'wminkowski'\n",
    "    \n",
    "    # Creación del modelo con los hiperparámetros sugeridos\n",
    "    model_knn = KNeighborsRegressor(\n",
    "        n_neighbors=n_neighbors,\n",
    "        weights=weights,\n",
    "        metric=metric,\n",
    "        p=p,\n",
    "        metric_params=metric_params\n",
    "    )\n",
    "    \n",
    "    # Se utiliza la validación cruzada para evaluar el rendimiento del modelo\n",
    "    return cross_val_score(model_knn, R_x_train, R_y_train, n_jobs=-1, cv=10, scoring='neg_mean_absolute_error').mean()\n",
    "\n",
    "# Crear un estudio de Optuna y optimizar el estudio\n",
    "study = optuna.create_study(direction='maximize')  # Maximizar porque estamos usando 'neg_mean_squared_error'\n",
    "study.optimize(objective, n_trials=100)\n",
    "\n",
    "# Resultados de la optimización\n",
    "print(f\"Valor óptimo de neg_mean_squared_error: {study.best_value}\")\n",
    "print(f\"Mejores hiperparámetros: {study.best_params}\")\n"
   ]
  },
  {
   "cell_type": "code",
   "execution_count": 22,
   "id": "b4e67e2e",
   "metadata": {},
   "outputs": [
    {
     "data": {
      "text/html": [
       "<style>#sk-container-id-2 {color: black;}#sk-container-id-2 pre{padding: 0;}#sk-container-id-2 div.sk-toggleable {background-color: white;}#sk-container-id-2 label.sk-toggleable__label {cursor: pointer;display: block;width: 100%;margin-bottom: 0;padding: 0.3em;box-sizing: border-box;text-align: center;}#sk-container-id-2 label.sk-toggleable__label-arrow:before {content: \"▸\";float: left;margin-right: 0.25em;color: #696969;}#sk-container-id-2 label.sk-toggleable__label-arrow:hover:before {color: black;}#sk-container-id-2 div.sk-estimator:hover label.sk-toggleable__label-arrow:before {color: black;}#sk-container-id-2 div.sk-toggleable__content {max-height: 0;max-width: 0;overflow: hidden;text-align: left;background-color: #f0f8ff;}#sk-container-id-2 div.sk-toggleable__content pre {margin: 0.2em;color: black;border-radius: 0.25em;background-color: #f0f8ff;}#sk-container-id-2 input.sk-toggleable__control:checked~div.sk-toggleable__content {max-height: 200px;max-width: 100%;overflow: auto;}#sk-container-id-2 input.sk-toggleable__control:checked~label.sk-toggleable__label-arrow:before {content: \"▾\";}#sk-container-id-2 div.sk-estimator input.sk-toggleable__control:checked~label.sk-toggleable__label {background-color: #d4ebff;}#sk-container-id-2 div.sk-label input.sk-toggleable__control:checked~label.sk-toggleable__label {background-color: #d4ebff;}#sk-container-id-2 input.sk-hidden--visually {border: 0;clip: rect(1px 1px 1px 1px);clip: rect(1px, 1px, 1px, 1px);height: 1px;margin: -1px;overflow: hidden;padding: 0;position: absolute;width: 1px;}#sk-container-id-2 div.sk-estimator {font-family: monospace;background-color: #f0f8ff;border: 1px dotted black;border-radius: 0.25em;box-sizing: border-box;margin-bottom: 0.5em;}#sk-container-id-2 div.sk-estimator:hover {background-color: #d4ebff;}#sk-container-id-2 div.sk-parallel-item::after {content: \"\";width: 100%;border-bottom: 1px solid gray;flex-grow: 1;}#sk-container-id-2 div.sk-label:hover label.sk-toggleable__label {background-color: #d4ebff;}#sk-container-id-2 div.sk-serial::before {content: \"\";position: absolute;border-left: 1px solid gray;box-sizing: border-box;top: 0;bottom: 0;left: 50%;z-index: 0;}#sk-container-id-2 div.sk-serial {display: flex;flex-direction: column;align-items: center;background-color: white;padding-right: 0.2em;padding-left: 0.2em;position: relative;}#sk-container-id-2 div.sk-item {position: relative;z-index: 1;}#sk-container-id-2 div.sk-parallel {display: flex;align-items: stretch;justify-content: center;background-color: white;position: relative;}#sk-container-id-2 div.sk-item::before, #sk-container-id-2 div.sk-parallel-item::before {content: \"\";position: absolute;border-left: 1px solid gray;box-sizing: border-box;top: 0;bottom: 0;left: 50%;z-index: -1;}#sk-container-id-2 div.sk-parallel-item {display: flex;flex-direction: column;z-index: 1;position: relative;background-color: white;}#sk-container-id-2 div.sk-parallel-item:first-child::after {align-self: flex-end;width: 50%;}#sk-container-id-2 div.sk-parallel-item:last-child::after {align-self: flex-start;width: 50%;}#sk-container-id-2 div.sk-parallel-item:only-child::after {width: 0;}#sk-container-id-2 div.sk-dashed-wrapped {border: 1px dashed gray;margin: 0 0.4em 0.5em 0.4em;box-sizing: border-box;padding-bottom: 0.4em;background-color: white;}#sk-container-id-2 div.sk-label label {font-family: monospace;font-weight: bold;display: inline-block;line-height: 1.2em;}#sk-container-id-2 div.sk-label-container {text-align: center;}#sk-container-id-2 div.sk-container {/* jupyter's `normalize.less` sets `[hidden] { display: none; }` but bootstrap.min.css set `[hidden] { display: none !important; }` so we also need the `!important` here to be able to override the default hidden behavior on the sphinx rendered scikit-learn.org. See: https://github.com/scikit-learn/scikit-learn/issues/21755 */display: inline-block !important;position: relative;}#sk-container-id-2 div.sk-text-repr-fallback {display: none;}</style><div id=\"sk-container-id-2\" class=\"sk-top-container\"><div class=\"sk-text-repr-fallback\"><pre>KNeighborsRegressor(metric=&#x27;manhattan&#x27;, n_neighbors=10, weights=&#x27;distance&#x27;)</pre><b>In a Jupyter environment, please rerun this cell to show the HTML representation or trust the notebook. <br />On GitHub, the HTML representation is unable to render, please try loading this page with nbviewer.org.</b></div><div class=\"sk-container\" hidden><div class=\"sk-item\"><div class=\"sk-estimator sk-toggleable\"><input class=\"sk-toggleable__control sk-hidden--visually\" id=\"sk-estimator-id-2\" type=\"checkbox\" checked><label for=\"sk-estimator-id-2\" class=\"sk-toggleable__label sk-toggleable__label-arrow\">KNeighborsRegressor</label><div class=\"sk-toggleable__content\"><pre>KNeighborsRegressor(metric=&#x27;manhattan&#x27;, n_neighbors=10, weights=&#x27;distance&#x27;)</pre></div></div></div></div></div>"
      ],
      "text/plain": [
       "KNeighborsRegressor(metric='manhattan', n_neighbors=10, weights='distance')"
      ]
     },
     "execution_count": 22,
     "metadata": {},
     "output_type": "execute_result"
    }
   ],
   "source": [
    "R_model_knn = KNeighborsRegressor(n_neighbors = 10, weights = 'distance', metric = 'manhattan', )\n",
    "R_model_knn.fit(R_x_train, R_y_train)"
   ]
  },
  {
   "cell_type": "code",
   "execution_count": 23,
   "id": "3708278e",
   "metadata": {},
   "outputs": [
    {
     "name": "stdout",
     "output_type": "stream",
     "text": [
      "0.0399131404576 0.138093167896\n"
     ]
    }
   ],
   "source": [
    "knn_pred = R_model_knn.predict(R_x_test)\n",
    "mse = mean_squared_error(R_y_test, knn_pred)\n",
    "mae = mean_absolute_error(R_y_test, knn_pred)\n",
    "print(mse, mae)"
   ]
  },
  {
   "cell_type": "markdown",
   "id": "3d05a00d",
   "metadata": {},
   "source": [
    "## Parametro DEE"
   ]
  },
  {
   "cell_type": "markdown",
   "id": "d1ad2472",
   "metadata": {},
   "source": [
    "### Busqueda de los mejores hiperparametros (Sin arreglo en cascada)"
   ]
  },
  {
   "cell_type": "code",
   "execution_count": 24,
   "id": "00f3271c",
   "metadata": {
    "scrolled": true
   },
   "outputs": [
    {
     "name": "stderr",
     "output_type": "stream",
     "text": [
      "[I 2023-10-17 09:57:37,678] A new study created in memory with name: no-name-79b32859-a7fc-482e-b042-307d1352524f\n",
      "[I 2023-10-17 09:57:37,769] Trial 0 finished with value: -0.1755655822442533 and parameters: {'n_neighbors': 22, 'weights': 'uniform', 'metric': 'manhattan'}. Best is trial 0 with value: -0.1755655822442533.\n",
      "[I 2023-10-17 09:57:37,855] Trial 1 finished with value: -0.17597704163312636 and parameters: {'n_neighbors': 18, 'weights': 'uniform', 'metric': 'chebyshev'}. Best is trial 0 with value: -0.1755655822442533.\n",
      "[I 2023-10-17 09:57:37,926] Trial 2 finished with value: -0.18423412298749267 and parameters: {'n_neighbors': 4, 'weights': 'uniform', 'metric': 'euclidean'}. Best is trial 0 with value: -0.1755655822442533.\n",
      "[I 2023-10-17 09:57:38,019] Trial 3 finished with value: -0.17524958047330141 and parameters: {'n_neighbors': 32, 'weights': 'distance', 'metric': 'chebyshev'}. Best is trial 3 with value: -0.17524958047330141.\n",
      "[I 2023-10-17 09:57:38,115] Trial 4 finished with value: -0.17468435280452965 and parameters: {'n_neighbors': 32, 'weights': 'distance', 'metric': 'manhattan'}. Best is trial 4 with value: -0.17468435280452965.\n",
      "[I 2023-10-17 09:57:38,184] Trial 5 finished with value: -0.18872069185930768 and parameters: {'n_neighbors': 3, 'weights': 'uniform', 'metric': 'manhattan'}. Best is trial 4 with value: -0.17468435280452965.\n",
      "[I 2023-10-17 09:57:38,280] Trial 6 finished with value: -0.17670065418804198 and parameters: {'n_neighbors': 37, 'weights': 'uniform', 'metric': 'chebyshev'}. Best is trial 4 with value: -0.17468435280452965.\n",
      "[I 2023-10-17 09:57:38,384] Trial 7 finished with value: -0.17552938479065605 and parameters: {'n_neighbors': 25, 'weights': 'distance', 'metric': 'chebyshev'}. Best is trial 4 with value: -0.17468435280452965.\n",
      "[I 2023-10-17 09:57:38,455] Trial 8 finished with value: -0.18030621824185034 and parameters: {'n_neighbors': 6, 'weights': 'uniform', 'metric': 'manhattan'}. Best is trial 4 with value: -0.17468435280452965.\n",
      "[I 2023-10-17 09:57:38,540] Trial 9 finished with value: -0.1752127368196342 and parameters: {'n_neighbors': 22, 'weights': 'distance', 'metric': 'minkowski', 'p': 1}. Best is trial 4 with value: -0.17468435280452965.\n",
      "[I 2023-10-17 09:57:38,763] Trial 10 finished with value: -0.1749868202295258 and parameters: {'n_neighbors': 39, 'weights': 'distance', 'metric': 'minkowski', 'p': 5}. Best is trial 4 with value: -0.17468435280452965.\n",
      "[I 2023-10-17 09:57:38,973] Trial 11 finished with value: -0.1749543342927564 and parameters: {'n_neighbors': 40, 'weights': 'distance', 'metric': 'minkowski', 'p': 5}. Best is trial 4 with value: -0.17468435280452965.\n",
      "[I 2023-10-17 09:57:39,167] Trial 12 finished with value: -0.17515580376248904 and parameters: {'n_neighbors': 31, 'weights': 'distance', 'metric': 'minkowski', 'p': 5}. Best is trial 4 with value: -0.17468435280452965.\n",
      "[I 2023-10-17 09:57:39,270] Trial 13 finished with value: -0.1749370608944724 and parameters: {'n_neighbors': 32, 'weights': 'distance', 'metric': 'euclidean'}. Best is trial 4 with value: -0.17468435280452965.\n",
      "[I 2023-10-17 09:57:39,366] Trial 14 finished with value: -0.1750394010867074 and parameters: {'n_neighbors': 29, 'weights': 'distance', 'metric': 'euclidean'}. Best is trial 4 with value: -0.17468435280452965.\n",
      "[I 2023-10-17 09:57:39,454] Trial 15 finished with value: -0.17621925539625066 and parameters: {'n_neighbors': 15, 'weights': 'distance', 'metric': 'euclidean'}. Best is trial 4 with value: -0.17468435280452965.\n",
      "[I 2023-10-17 09:57:39,560] Trial 16 finished with value: -0.17458758359946636 and parameters: {'n_neighbors': 35, 'weights': 'distance', 'metric': 'manhattan'}. Best is trial 16 with value: -0.17458758359946636.\n",
      "[I 2023-10-17 09:57:39,662] Trial 17 finished with value: -0.17458758359946636 and parameters: {'n_neighbors': 35, 'weights': 'distance', 'metric': 'manhattan'}. Best is trial 16 with value: -0.17458758359946636.\n",
      "[I 2023-10-17 09:57:39,763] Trial 18 finished with value: -0.17457867736268715 and parameters: {'n_neighbors': 36, 'weights': 'distance', 'metric': 'manhattan'}. Best is trial 18 with value: -0.17457867736268715.\n",
      "[I 2023-10-17 09:57:39,861] Trial 19 finished with value: -0.17486824211581511 and parameters: {'n_neighbors': 27, 'weights': 'distance', 'metric': 'manhattan'}. Best is trial 18 with value: -0.17457867736268715.\n",
      "[I 2023-10-17 09:57:39,947] Trial 20 finished with value: -0.1771022523625473 and parameters: {'n_neighbors': 12, 'weights': 'distance', 'metric': 'manhattan'}. Best is trial 18 with value: -0.17457867736268715.\n",
      "[I 2023-10-17 09:57:40,053] Trial 21 finished with value: -0.17458758359946636 and parameters: {'n_neighbors': 35, 'weights': 'distance', 'metric': 'manhattan'}. Best is trial 18 with value: -0.17457867736268715.\n",
      "[I 2023-10-17 09:57:40,157] Trial 22 finished with value: -0.17458758359946636 and parameters: {'n_neighbors': 35, 'weights': 'distance', 'metric': 'manhattan'}. Best is trial 18 with value: -0.17457867736268715.\n",
      "[I 2023-10-17 09:57:40,257] Trial 23 finished with value: -0.17457867736268715 and parameters: {'n_neighbors': 36, 'weights': 'distance', 'metric': 'manhattan'}. Best is trial 18 with value: -0.17457867736268715.\n",
      "[I 2023-10-17 09:57:40,367] Trial 24 finished with value: -0.17469062894844498 and parameters: {'n_neighbors': 40, 'weights': 'distance', 'metric': 'manhattan'}. Best is trial 18 with value: -0.17457867736268715.\n",
      "[I 2023-10-17 09:57:40,470] Trial 25 finished with value: -0.1748168697536885 and parameters: {'n_neighbors': 28, 'weights': 'distance', 'metric': 'manhattan'}. Best is trial 18 with value: -0.17457867736268715.\n",
      "[I 2023-10-17 09:57:40,572] Trial 26 finished with value: -0.17458835533615913 and parameters: {'n_neighbors': 37, 'weights': 'distance', 'metric': 'manhattan'}. Best is trial 18 with value: -0.17457867736268715.\n",
      "[I 2023-10-17 09:57:40,670] Trial 27 finished with value: -0.1750685068249121 and parameters: {'n_neighbors': 25, 'weights': 'distance', 'metric': 'manhattan'}. Best is trial 18 with value: -0.17457867736268715.\n",
      "[I 2023-10-17 09:57:40,778] Trial 28 finished with value: -0.17457867736268715 and parameters: {'n_neighbors': 36, 'weights': 'distance', 'metric': 'manhattan'}. Best is trial 18 with value: -0.17457867736268715.\n",
      "[I 2023-10-17 09:57:40,876] Trial 29 finished with value: -0.175723833496123 and parameters: {'n_neighbors': 30, 'weights': 'uniform', 'metric': 'manhattan'}. Best is trial 18 with value: -0.17457867736268715.\n",
      "[I 2023-10-17 09:57:40,967] Trial 30 finished with value: -0.17551228260726118 and parameters: {'n_neighbors': 19, 'weights': 'distance', 'metric': 'manhattan'}. Best is trial 18 with value: -0.17457867736268715.\n",
      "[I 2023-10-17 09:57:41,076] Trial 31 finished with value: -0.17458835533615913 and parameters: {'n_neighbors': 37, 'weights': 'distance', 'metric': 'manhattan'}. Best is trial 18 with value: -0.17457867736268715.\n",
      "[I 2023-10-17 09:57:41,181] Trial 32 finished with value: -0.17457574227031344 and parameters: {'n_neighbors': 34, 'weights': 'distance', 'metric': 'manhattan'}. Best is trial 32 with value: -0.17457574227031344.\n",
      "[I 2023-10-17 09:57:41,282] Trial 33 finished with value: -0.17463808726111651 and parameters: {'n_neighbors': 33, 'weights': 'distance', 'metric': 'manhattan'}. Best is trial 32 with value: -0.17457574227031344.\n",
      "[I 2023-10-17 09:57:41,383] Trial 34 finished with value: -0.17679117399341257 and parameters: {'n_neighbors': 38, 'weights': 'uniform', 'metric': 'chebyshev'}. Best is trial 32 with value: -0.17457574227031344.\n",
      "[I 2023-10-17 09:57:41,484] Trial 35 finished with value: -0.17457574227031344 and parameters: {'n_neighbors': 34, 'weights': 'distance', 'metric': 'manhattan'}. Best is trial 32 with value: -0.17457574227031344.\n",
      "[I 2023-10-17 09:57:41,579] Trial 36 finished with value: -0.1750685068249121 and parameters: {'n_neighbors': 25, 'weights': 'distance', 'metric': 'manhattan'}. Best is trial 32 with value: -0.17457574227031344.\n",
      "[I 2023-10-17 09:57:41,676] Trial 37 finished with value: -0.17618734235980926 and parameters: {'n_neighbors': 33, 'weights': 'uniform', 'metric': 'euclidean'}. Best is trial 32 with value: -0.17457574227031344.\n",
      "[I 2023-10-17 09:57:41,774] Trial 38 finished with value: -0.17549889855137807 and parameters: {'n_neighbors': 27, 'weights': 'distance', 'metric': 'chebyshev'}. Best is trial 32 with value: -0.17457574227031344.\n"
     ]
    },
    {
     "name": "stderr",
     "output_type": "stream",
     "text": [
      "[I 2023-10-17 09:57:41,874] Trial 39 finished with value: -0.17581862720501087 and parameters: {'n_neighbors': 34, 'weights': 'uniform', 'metric': 'manhattan'}. Best is trial 32 with value: -0.17457574227031344.\n",
      "[I 2023-10-17 09:57:41,974] Trial 40 finished with value: -0.17471689931279766 and parameters: {'n_neighbors': 31, 'weights': 'distance', 'metric': 'manhattan'}. Best is trial 32 with value: -0.17457574227031344.\n",
      "[I 2023-10-17 09:57:42,079] Trial 41 finished with value: -0.17458835533615913 and parameters: {'n_neighbors': 37, 'weights': 'distance', 'metric': 'manhattan'}. Best is trial 32 with value: -0.17457574227031344.\n",
      "[I 2023-10-17 09:57:42,186] Trial 42 finished with value: -0.17464693128422223 and parameters: {'n_neighbors': 38, 'weights': 'distance', 'metric': 'manhattan'}. Best is trial 32 with value: -0.17457574227031344.\n",
      "[I 2023-10-17 09:57:42,292] Trial 43 finished with value: -0.17457867736268715 and parameters: {'n_neighbors': 36, 'weights': 'distance', 'metric': 'manhattan'}. Best is trial 32 with value: -0.17457574227031344.\n",
      "[I 2023-10-17 09:57:42,407] Trial 44 finished with value: -0.17469062894844498 and parameters: {'n_neighbors': 40, 'weights': 'distance', 'metric': 'minkowski', 'p': 1}. Best is trial 32 with value: -0.17457574227031344.\n",
      "[I 2023-10-17 09:57:42,506] Trial 45 finished with value: -0.17526926496246678 and parameters: {'n_neighbors': 33, 'weights': 'distance', 'metric': 'chebyshev'}. Best is trial 32 with value: -0.17457574227031344.\n",
      "[I 2023-10-17 09:57:42,596] Trial 46 finished with value: -0.17876464814217197 and parameters: {'n_neighbors': 9, 'weights': 'distance', 'metric': 'manhattan'}. Best is trial 32 with value: -0.17457574227031344.\n",
      "[I 2023-10-17 09:57:42,687] Trial 47 finished with value: -0.1755655822442533 and parameters: {'n_neighbors': 22, 'weights': 'uniform', 'metric': 'manhattan'}. Best is trial 32 with value: -0.17457574227031344.\n",
      "[I 2023-10-17 09:57:42,884] Trial 48 finished with value: -0.17512713899183124 and parameters: {'n_neighbors': 30, 'weights': 'distance', 'metric': 'minkowski', 'p': 3}. Best is trial 32 with value: -0.17457574227031344.\n",
      "[I 2023-10-17 09:57:43,004] Trial 49 finished with value: -0.1747559620334316 and parameters: {'n_neighbors': 39, 'weights': 'distance', 'metric': 'euclidean'}. Best is trial 32 with value: -0.17457574227031344.\n",
      "[I 2023-10-17 09:57:43,114] Trial 50 finished with value: -0.17468435280452965 and parameters: {'n_neighbors': 32, 'weights': 'distance', 'metric': 'manhattan'}. Best is trial 32 with value: -0.17457574227031344.\n",
      "[I 2023-10-17 09:57:43,228] Trial 51 finished with value: -0.17457867736268715 and parameters: {'n_neighbors': 36, 'weights': 'distance', 'metric': 'manhattan'}. Best is trial 32 with value: -0.17457574227031344.\n",
      "[I 2023-10-17 09:57:43,336] Trial 52 finished with value: -0.17457574227031344 and parameters: {'n_neighbors': 34, 'weights': 'distance', 'metric': 'manhattan'}. Best is trial 32 with value: -0.17457574227031344.\n",
      "[I 2023-10-17 09:57:43,442] Trial 53 finished with value: -0.17457574227031344 and parameters: {'n_neighbors': 34, 'weights': 'distance', 'metric': 'manhattan'}. Best is trial 32 with value: -0.17457574227031344.\n",
      "[I 2023-10-17 09:57:43,546] Trial 54 finished with value: -0.17457574227031344 and parameters: {'n_neighbors': 34, 'weights': 'distance', 'metric': 'manhattan'}. Best is trial 32 with value: -0.17457574227031344.\n",
      "[I 2023-10-17 09:57:43,646] Trial 55 finished with value: -0.17457574227031344 and parameters: {'n_neighbors': 34, 'weights': 'distance', 'metric': 'manhattan'}. Best is trial 32 with value: -0.17457574227031344.\n",
      "[I 2023-10-17 09:57:43,747] Trial 56 finished with value: -0.17476950905274324 and parameters: {'n_neighbors': 29, 'weights': 'distance', 'metric': 'manhattan'}. Best is trial 32 with value: -0.17457574227031344.\n",
      "[I 2023-10-17 09:57:43,954] Trial 57 finished with value: -0.17494597218594327 and parameters: {'n_neighbors': 34, 'weights': 'distance', 'metric': 'minkowski', 'p': 3}. Best is trial 32 with value: -0.17457574227031344.\n",
      "[I 2023-10-17 09:57:44,059] Trial 58 finished with value: -0.17524958047330141 and parameters: {'n_neighbors': 32, 'weights': 'distance', 'metric': 'chebyshev'}. Best is trial 32 with value: -0.17457574227031344.\n",
      "[I 2023-10-17 09:57:44,157] Trial 59 finished with value: -0.17507712154027966 and parameters: {'n_neighbors': 27, 'weights': 'distance', 'metric': 'euclidean'}. Best is trial 32 with value: -0.17457574227031344.\n",
      "[I 2023-10-17 09:57:44,257] Trial 60 finished with value: -0.17471689931279766 and parameters: {'n_neighbors': 31, 'weights': 'distance', 'metric': 'manhattan'}. Best is trial 32 with value: -0.17457574227031344.\n",
      "[I 2023-10-17 09:57:44,361] Trial 61 finished with value: -0.17457574227031344 and parameters: {'n_neighbors': 34, 'weights': 'distance', 'metric': 'manhattan'}. Best is trial 32 with value: -0.17457574227031344.\n",
      "[I 2023-10-17 09:57:44,471] Trial 62 finished with value: -0.17457574227031344 and parameters: {'n_neighbors': 34, 'weights': 'distance', 'metric': 'manhattan'}. Best is trial 32 with value: -0.17457574227031344.\n",
      "[I 2023-10-17 09:57:44,550] Trial 63 finished with value: -0.19916588801367355 and parameters: {'n_neighbors': 2, 'weights': 'distance', 'metric': 'manhattan'}. Best is trial 32 with value: -0.17457574227031344.\n",
      "[I 2023-10-17 09:57:44,650] Trial 64 finished with value: -0.17474327717542396 and parameters: {'n_neighbors': 30, 'weights': 'distance', 'metric': 'manhattan'}. Best is trial 32 with value: -0.17457574227031344.\n",
      "[I 2023-10-17 09:57:44,754] Trial 65 finished with value: -0.17457574227031344 and parameters: {'n_neighbors': 34, 'weights': 'distance', 'metric': 'manhattan'}. Best is trial 32 with value: -0.17457574227031344.\n",
      "[I 2023-10-17 09:57:44,865] Trial 66 finished with value: -0.17464693128422223 and parameters: {'n_neighbors': 38, 'weights': 'distance', 'metric': 'manhattan'}. Best is trial 32 with value: -0.17457574227031344.\n",
      "[I 2023-10-17 09:57:44,964] Trial 67 finished with value: -0.17575569584716602 and parameters: {'n_neighbors': 31, 'weights': 'uniform', 'metric': 'manhattan'}. Best is trial 32 with value: -0.17457574227031344.\n",
      "[I 2023-10-17 09:57:45,070] Trial 68 finished with value: -0.17463808726111651 and parameters: {'n_neighbors': 33, 'weights': 'distance', 'metric': 'manhattan'}. Best is trial 32 with value: -0.17457574227031344.\n",
      "[I 2023-10-17 09:57:45,176] Trial 69 finished with value: -0.17476950905274324 and parameters: {'n_neighbors': 29, 'weights': 'distance', 'metric': 'manhattan'}. Best is trial 32 with value: -0.17457574227031344.\n",
      "[I 2023-10-17 09:57:45,269] Trial 70 finished with value: -0.17661405566236998 and parameters: {'n_neighbors': 14, 'weights': 'distance', 'metric': 'manhattan'}. Best is trial 32 with value: -0.17457574227031344.\n",
      "[I 2023-10-17 09:57:45,372] Trial 71 finished with value: -0.17457574227031344 and parameters: {'n_neighbors': 34, 'weights': 'distance', 'metric': 'manhattan'}. Best is trial 32 with value: -0.17457574227031344.\n",
      "[I 2023-10-17 09:57:45,476] Trial 72 finished with value: -0.17458758359946636 and parameters: {'n_neighbors': 35, 'weights': 'distance', 'metric': 'manhattan'}. Best is trial 32 with value: -0.17457574227031344.\n",
      "[I 2023-10-17 09:57:45,579] Trial 73 finished with value: -0.17468435280452965 and parameters: {'n_neighbors': 32, 'weights': 'distance', 'metric': 'manhattan'}. Best is trial 32 with value: -0.17457574227031344.\n",
      "[I 2023-10-17 09:57:45,684] Trial 74 finished with value: -0.17457574227031344 and parameters: {'n_neighbors': 34, 'weights': 'distance', 'metric': 'manhattan'}. Best is trial 32 with value: -0.17457574227031344.\n",
      "[I 2023-10-17 09:57:45,789] Trial 75 finished with value: -0.17458758359946636 and parameters: {'n_neighbors': 35, 'weights': 'distance', 'metric': 'manhattan'}. Best is trial 32 with value: -0.17457574227031344.\n",
      "[I 2023-10-17 09:57:45,907] Trial 76 finished with value: -0.17464693128422223 and parameters: {'n_neighbors': 38, 'weights': 'distance', 'metric': 'manhattan'}. Best is trial 32 with value: -0.17457574227031344.\n",
      "[I 2023-10-17 09:57:46,030] Trial 77 finished with value: -0.17479907376977927 and parameters: {'n_neighbors': 37, 'weights': 'distance', 'metric': 'euclidean'}. Best is trial 32 with value: -0.17457574227031344.\n"
     ]
    },
    {
     "name": "stderr",
     "output_type": "stream",
     "text": [
      "[I 2023-10-17 09:57:46,134] Trial 78 finished with value: -0.17586752973252986 and parameters: {'n_neighbors': 33, 'weights': 'uniform', 'metric': 'manhattan'}. Best is trial 32 with value: -0.17457574227031344.\n",
      "[I 2023-10-17 09:57:46,256] Trial 79 finished with value: -0.1747559620334316 and parameters: {'n_neighbors': 39, 'weights': 'distance', 'metric': 'minkowski', 'p': 2}. Best is trial 32 with value: -0.17457574227031344.\n",
      "[I 2023-10-17 09:57:46,371] Trial 80 finished with value: -0.17545143355402704 and parameters: {'n_neighbors': 28, 'weights': 'distance', 'metric': 'chebyshev'}. Best is trial 32 with value: -0.17457574227031344.\n",
      "[I 2023-10-17 09:57:46,483] Trial 81 finished with value: -0.17457574227031344 and parameters: {'n_neighbors': 34, 'weights': 'distance', 'metric': 'manhattan'}. Best is trial 32 with value: -0.17457574227031344.\n",
      "[I 2023-10-17 09:57:46,597] Trial 82 finished with value: -0.17457867736268715 and parameters: {'n_neighbors': 36, 'weights': 'distance', 'metric': 'manhattan'}. Best is trial 32 with value: -0.17457574227031344.\n",
      "[I 2023-10-17 09:57:46,706] Trial 83 finished with value: -0.17471689931279766 and parameters: {'n_neighbors': 31, 'weights': 'distance', 'metric': 'manhattan'}. Best is trial 32 with value: -0.17457574227031344.\n",
      "[I 2023-10-17 09:57:46,817] Trial 84 finished with value: -0.17458758359946636 and parameters: {'n_neighbors': 35, 'weights': 'distance', 'metric': 'manhattan'}. Best is trial 32 with value: -0.17457574227031344.\n",
      "[I 2023-10-17 09:57:46,921] Trial 85 finished with value: -0.17463808726111651 and parameters: {'n_neighbors': 33, 'weights': 'distance', 'metric': 'manhattan'}. Best is trial 32 with value: -0.17457574227031344.\n",
      "[I 2023-10-17 09:57:47,032] Trial 86 finished with value: -0.17468435280452965 and parameters: {'n_neighbors': 32, 'weights': 'distance', 'metric': 'manhattan'}. Best is trial 32 with value: -0.17457574227031344.\n",
      "[I 2023-10-17 09:57:47,144] Trial 87 finished with value: -0.17457574227031344 and parameters: {'n_neighbors': 34, 'weights': 'distance', 'metric': 'manhattan'}. Best is trial 32 with value: -0.17457574227031344.\n",
      "[I 2023-10-17 09:57:47,230] Trial 88 finished with value: -0.18371013612804662 and parameters: {'n_neighbors': 5, 'weights': 'distance', 'metric': 'manhattan'}. Best is trial 32 with value: -0.17457574227031344.\n",
      "[I 2023-10-17 09:57:47,325] Trial 89 finished with value: -0.17542633741060903 and parameters: {'n_neighbors': 20, 'weights': 'distance', 'metric': 'manhattan'}. Best is trial 32 with value: -0.17457574227031344.\n",
      "[I 2023-10-17 09:57:47,432] Trial 90 finished with value: -0.175974571893724 and parameters: {'n_neighbors': 36, 'weights': 'uniform', 'metric': 'manhattan'}. Best is trial 32 with value: -0.17457574227031344.\n",
      "[I 2023-10-17 09:57:47,538] Trial 91 finished with value: -0.17457574227031344 and parameters: {'n_neighbors': 34, 'weights': 'distance', 'metric': 'manhattan'}. Best is trial 32 with value: -0.17457574227031344.\n",
      "[I 2023-10-17 09:57:47,646] Trial 92 finished with value: -0.17458758359946636 and parameters: {'n_neighbors': 35, 'weights': 'distance', 'metric': 'manhattan'}. Best is trial 32 with value: -0.17457574227031344.\n",
      "[I 2023-10-17 09:57:47,757] Trial 93 finished with value: -0.17458835533615913 and parameters: {'n_neighbors': 37, 'weights': 'distance', 'metric': 'manhattan'}. Best is trial 32 with value: -0.17457574227031344.\n",
      "[I 2023-10-17 09:57:47,857] Trial 94 finished with value: -0.17588195881300772 and parameters: {'n_neighbors': 17, 'weights': 'distance', 'metric': 'manhattan'}. Best is trial 32 with value: -0.17457574227031344.\n",
      "[I 2023-10-17 09:57:47,969] Trial 95 finished with value: -0.17468435280452965 and parameters: {'n_neighbors': 32, 'weights': 'distance', 'metric': 'manhattan'}. Best is trial 32 with value: -0.17457574227031344.\n",
      "[I 2023-10-17 09:57:48,081] Trial 96 finished with value: -0.17499879480088654 and parameters: {'n_neighbors': 30, 'weights': 'distance', 'metric': 'euclidean'}. Best is trial 32 with value: -0.17457574227031344.\n",
      "[I 2023-10-17 09:57:48,202] Trial 97 finished with value: -0.17463808726111651 and parameters: {'n_neighbors': 33, 'weights': 'distance', 'metric': 'manhattan'}. Best is trial 32 with value: -0.17457574227031344.\n",
      "[I 2023-10-17 09:57:48,436] Trial 98 finished with value: -0.1748737383398448 and parameters: {'n_neighbors': 37, 'weights': 'distance', 'metric': 'minkowski', 'p': 4}. Best is trial 32 with value: -0.17457574227031344.\n",
      "[I 2023-10-17 09:57:48,543] Trial 99 finished with value: -0.1752181819100746 and parameters: {'n_neighbors': 34, 'weights': 'distance', 'metric': 'chebyshev'}. Best is trial 32 with value: -0.17457574227031344.\n"
     ]
    },
    {
     "name": "stdout",
     "output_type": "stream",
     "text": [
      "Valor óptimo de neg_mean_squared_error: -0.17457574227031344\n",
      "Mejores hiperparámetros: {'n_neighbors': 34, 'weights': 'distance', 'metric': 'manhattan'}\n"
     ]
    }
   ],
   "source": [
    "def objective(trial):\n",
    "    \n",
    "    # Definición de hiperparámetros a optimizar\n",
    "    n_neighbors = trial.suggest_int('n_neighbors', 2, 40)\n",
    "    weights = trial.suggest_categorical('weights', ['uniform', 'distance'])\n",
    "    metric = trial.suggest_categorical('metric', ['minkowski', 'euclidean', 'manhattan', 'chebyshev'])\n",
    "    p = 2 if metric != 'minkowski' else trial.suggest_int('p', 1, 5)  # 'p' sólo es relevante para la métrica 'minkowski'\n",
    "    metric_params = None if metric != 'wminkowski' else {'w': trial.suggest_float('w', 0.0, 1.0)}  # 'w' sólo es relevante para 'wminkowski'\n",
    "    \n",
    "    # Creación del modelo con los hiperparámetros sugeridos\n",
    "    model_knn = KNeighborsRegressor(\n",
    "        n_neighbors=n_neighbors,\n",
    "        weights=weights,\n",
    "        metric=metric,\n",
    "        p=p,\n",
    "        metric_params=metric_params\n",
    "    )\n",
    "    \n",
    "    # Se utiliza la validación cruzada para evaluar el rendimiento del modelo\n",
    "    return cross_val_score(model_knn, DEE_x_train, DEE_y_train, n_jobs=-1, cv=10, scoring='neg_mean_absolute_error').mean()\n",
    "\n",
    "# Crear un estudio de Optuna y optimizar el estudio\n",
    "study = optuna.create_study(direction='maximize')  # Maximizar porque estamos usando 'neg_mean_squared_error'\n",
    "study.optimize(objective, n_trials=100)\n",
    "\n",
    "# Resultados de la optimización\n",
    "print(f\"Valor óptimo de neg_mean_squared_error: {study.best_value}\")\n",
    "print(f\"Mejores hiperparámetros: {study.best_params}\")\n"
   ]
  },
  {
   "cell_type": "markdown",
   "id": "281fd460",
   "metadata": {},
   "source": [
    "En este caso los resultados no fueron los esperados. Se decidio empezar con el parametro Remb debido a que era el que presentaba menor error que los demas, a continuacion se realizara el en entrenamiento tomando en cuenta los datos del modelo anterior."
   ]
  },
  {
   "cell_type": "code",
   "execution_count": 25,
   "id": "7d92d7e6",
   "metadata": {
    "scrolled": true
   },
   "outputs": [
    {
     "data": {
      "text/html": [
       "<div>\n",
       "<style scoped>\n",
       "    .dataframe tbody tr th:only-of-type {\n",
       "        vertical-align: middle;\n",
       "    }\n",
       "\n",
       "    .dataframe tbody tr th {\n",
       "        vertical-align: top;\n",
       "    }\n",
       "\n",
       "    .dataframe thead th {\n",
       "        text-align: right;\n",
       "    }\n",
       "</style>\n",
       "<table border=\"1\" class=\"dataframe\">\n",
       "  <thead>\n",
       "    <tr style=\"text-align: right;\">\n",
       "      <th></th>\n",
       "      <th>r</th>\n",
       "      <th>g</th>\n",
       "      <th>b</th>\n",
       "      <th>Remb_pred</th>\n",
       "      <th>R_pred</th>\n",
       "    </tr>\n",
       "  </thead>\n",
       "  <tbody>\n",
       "    <tr>\n",
       "      <th>21327</th>\n",
       "      <td>0.659095</td>\n",
       "      <td>0.672347</td>\n",
       "      <td>0.501537</td>\n",
       "      <td>0.692132</td>\n",
       "      <td>0.803371</td>\n",
       "    </tr>\n",
       "    <tr>\n",
       "      <th>21854</th>\n",
       "      <td>0.536662</td>\n",
       "      <td>0.626007</td>\n",
       "      <td>0.627068</td>\n",
       "      <td>0.481487</td>\n",
       "      <td>0.589252</td>\n",
       "    </tr>\n",
       "    <tr>\n",
       "      <th>11124</th>\n",
       "      <td>0.742727</td>\n",
       "      <td>0.496929</td>\n",
       "      <td>0.624686</td>\n",
       "      <td>0.690840</td>\n",
       "      <td>1.000000</td>\n",
       "    </tr>\n",
       "    <tr>\n",
       "      <th>18619</th>\n",
       "      <td>0.580653</td>\n",
       "      <td>0.569367</td>\n",
       "      <td>0.658496</td>\n",
       "      <td>0.722400</td>\n",
       "      <td>0.355401</td>\n",
       "    </tr>\n",
       "    <tr>\n",
       "      <th>6491</th>\n",
       "      <td>0.586275</td>\n",
       "      <td>0.672386</td>\n",
       "      <td>0.549918</td>\n",
       "      <td>0.594298</td>\n",
       "      <td>1.000000</td>\n",
       "    </tr>\n",
       "  </tbody>\n",
       "</table>\n",
       "</div>"
      ],
      "text/plain": [
       "              r         g         b  Remb_pred    R_pred\n",
       "21327  0.659095  0.672347  0.501537   0.692132  0.803371\n",
       "21854  0.536662  0.626007  0.627068   0.481487  0.589252\n",
       "11124  0.742727  0.496929  0.624686   0.690840  1.000000\n",
       "18619  0.580653  0.569367  0.658496   0.722400  0.355401\n",
       "6491   0.586275  0.672386  0.549918   0.594298  1.000000"
      ]
     },
     "execution_count": 25,
     "metadata": {},
     "output_type": "execute_result"
    }
   ],
   "source": [
    "DEE_x_train['Remb_pred'] = Remb_model_knn.predict(DEE_x_train)\n",
    "DEE_x_test['Remb_pred'] = Remb_model_knn.predict(DEE_x_test)\n",
    "DEE_x_train['R_pred'] = R_model_knn.predict(DEE_x_train)\n",
    "DEE_x_test['R_pred'] = R_model_knn.predict(DEE_x_test)\n",
    "DEE_x_train.head()"
   ]
  },
  {
   "cell_type": "markdown",
   "id": "48f8ca0b",
   "metadata": {},
   "source": [
    "### Busqueda de hiperparametros tomando en cuenta el modelo anterior"
   ]
  },
  {
   "cell_type": "code",
   "execution_count": 26,
   "id": "29531d27",
   "metadata": {
    "scrolled": true
   },
   "outputs": [
    {
     "name": "stderr",
     "output_type": "stream",
     "text": [
      "[I 2023-10-17 09:57:48,899] A new study created in memory with name: no-name-cb44e2e2-aa16-4ed1-b960-276e9b55cacf\n",
      "[I 2023-10-17 09:57:49,039] Trial 0 finished with value: -0.1568302623407831 and parameters: {'n_neighbors': 9, 'weights': 'uniform', 'metric': 'euclidean'}. Best is trial 0 with value: -0.1568302623407831.\n",
      "[I 2023-10-17 09:57:49,218] Trial 1 finished with value: -0.1555717044437937 and parameters: {'n_neighbors': 32, 'weights': 'distance', 'metric': 'minkowski', 'p': 2}. Best is trial 1 with value: -0.1555717044437937.\n",
      "[I 2023-10-17 09:57:49,440] Trial 2 finished with value: -0.1560225153754245 and parameters: {'n_neighbors': 37, 'weights': 'distance', 'metric': 'minkowski', 'p': 2}. Best is trial 1 with value: -0.1555717044437937.\n",
      "[I 2023-10-17 09:57:49,926] Trial 3 finished with value: -0.16154126291028723 and parameters: {'n_neighbors': 28, 'weights': 'uniform', 'metric': 'minkowski', 'p': 5}. Best is trial 1 with value: -0.1555717044437937.\n",
      "[I 2023-10-17 09:57:50,113] Trial 4 finished with value: -0.15871426699730734 and parameters: {'n_neighbors': 40, 'weights': 'distance', 'metric': 'chebyshev'}. Best is trial 1 with value: -0.1555717044437937.\n",
      "[I 2023-10-17 09:57:50,319] Trial 5 finished with value: -0.15351587365475955 and parameters: {'n_neighbors': 9, 'weights': 'distance', 'metric': 'euclidean'}. Best is trial 5 with value: -0.15351587365475955.\n",
      "[I 2023-10-17 09:57:50,534] Trial 6 finished with value: -0.15571760552130737 and parameters: {'n_neighbors': 33, 'weights': 'distance', 'metric': 'euclidean'}. Best is trial 5 with value: -0.15351587365475955.\n",
      "[I 2023-10-17 09:57:50,716] Trial 7 finished with value: -0.15399759781939487 and parameters: {'n_neighbors': 17, 'weights': 'distance', 'metric': 'euclidean'}. Best is trial 5 with value: -0.15351587365475955.\n",
      "[I 2023-10-17 09:57:51,008] Trial 8 finished with value: -0.158610579226161 and parameters: {'n_neighbors': 32, 'weights': 'uniform', 'metric': 'minkowski', 'p': 1}. Best is trial 5 with value: -0.15351587365475955.\n",
      "[I 2023-10-17 09:57:51,223] Trial 9 finished with value: -0.1551843696163327 and parameters: {'n_neighbors': 29, 'weights': 'distance', 'metric': 'euclidean'}. Best is trial 5 with value: -0.15351587365475955.\n",
      "[I 2023-10-17 09:57:51,359] Trial 10 finished with value: -0.16205448313539608 and parameters: {'n_neighbors': 2, 'weights': 'uniform', 'metric': 'manhattan'}. Best is trial 5 with value: -0.15351587365475955.\n",
      "[I 2023-10-17 09:57:51,523] Trial 11 finished with value: -0.15399759781939487 and parameters: {'n_neighbors': 17, 'weights': 'distance', 'metric': 'euclidean'}. Best is trial 5 with value: -0.15351587365475955.\n",
      "[I 2023-10-17 09:57:51,674] Trial 12 finished with value: -0.15399759781939487 and parameters: {'n_neighbors': 17, 'weights': 'distance', 'metric': 'euclidean'}. Best is trial 5 with value: -0.15351587365475955.\n",
      "[I 2023-10-17 09:57:51,824] Trial 13 finished with value: -0.1559822410417197 and parameters: {'n_neighbors': 10, 'weights': 'distance', 'metric': 'chebyshev'}. Best is trial 5 with value: -0.15351587365475955.\n",
      "[I 2023-10-17 09:57:52,024] Trial 14 finished with value: -0.15201290842754353 and parameters: {'n_neighbors': 21, 'weights': 'distance', 'metric': 'manhattan'}. Best is trial 14 with value: -0.15201290842754353.\n",
      "[I 2023-10-17 09:57:52,214] Trial 15 finished with value: -0.15236083265882094 and parameters: {'n_neighbors': 23, 'weights': 'distance', 'metric': 'manhattan'}. Best is trial 14 with value: -0.15201290842754353.\n",
      "[I 2023-10-17 09:57:52,395] Trial 16 finished with value: -0.15236083265882094 and parameters: {'n_neighbors': 23, 'weights': 'distance', 'metric': 'manhattan'}. Best is trial 14 with value: -0.15201290842754353.\n",
      "[I 2023-10-17 09:57:52,595] Trial 17 finished with value: -0.15201290842754353 and parameters: {'n_neighbors': 21, 'weights': 'distance', 'metric': 'manhattan'}. Best is trial 14 with value: -0.15201290842754353.\n",
      "[I 2023-10-17 09:57:52,770] Trial 18 finished with value: -0.1567290178403051 and parameters: {'n_neighbors': 21, 'weights': 'uniform', 'metric': 'manhattan'}. Best is trial 14 with value: -0.15201290842754353.\n",
      "[I 2023-10-17 09:57:52,947] Trial 19 finished with value: -0.1510576858846378 and parameters: {'n_neighbors': 13, 'weights': 'distance', 'metric': 'manhattan'}. Best is trial 19 with value: -0.1510576858846378.\n",
      "[I 2023-10-17 09:57:53,111] Trial 20 finished with value: -0.1511493114288146 and parameters: {'n_neighbors': 12, 'weights': 'distance', 'metric': 'manhattan'}. Best is trial 19 with value: -0.1510576858846378.\n",
      "[I 2023-10-17 09:57:53,281] Trial 21 finished with value: -0.1510576858846378 and parameters: {'n_neighbors': 13, 'weights': 'distance', 'metric': 'manhattan'}. Best is trial 19 with value: -0.1510576858846378.\n",
      "[I 2023-10-17 09:57:53,452] Trial 22 finished with value: -0.1510576858846378 and parameters: {'n_neighbors': 13, 'weights': 'distance', 'metric': 'manhattan'}. Best is trial 19 with value: -0.1510576858846378.\n",
      "[I 2023-10-17 09:57:53,602] Trial 23 finished with value: -0.15392611981492144 and parameters: {'n_neighbors': 4, 'weights': 'distance', 'metric': 'manhattan'}. Best is trial 19 with value: -0.1510576858846378.\n",
      "[I 2023-10-17 09:57:53,769] Trial 24 finished with value: -0.1510576858846378 and parameters: {'n_neighbors': 13, 'weights': 'distance', 'metric': 'manhattan'}. Best is trial 19 with value: -0.1510576858846378.\n",
      "[I 2023-10-17 09:57:53,936] Trial 25 finished with value: -0.1519875042303453 and parameters: {'n_neighbors': 6, 'weights': 'distance', 'metric': 'manhattan'}. Best is trial 19 with value: -0.1510576858846378.\n",
      "[I 2023-10-17 09:57:54,097] Trial 26 finished with value: -0.1597730134438343 and parameters: {'n_neighbors': 15, 'weights': 'uniform', 'metric': 'chebyshev'}. Best is trial 19 with value: -0.1510576858846378.\n",
      "[I 2023-10-17 09:57:54,262] Trial 27 finished with value: -0.1519875042303453 and parameters: {'n_neighbors': 6, 'weights': 'distance', 'metric': 'manhattan'}. Best is trial 19 with value: -0.1510576858846378.\n",
      "[I 2023-10-17 09:57:54,448] Trial 28 finished with value: -0.1510576858846378 and parameters: {'n_neighbors': 13, 'weights': 'distance', 'metric': 'manhattan'}. Best is trial 19 with value: -0.1510576858846378.\n",
      "[I 2023-10-17 09:57:54,605] Trial 29 finished with value: -0.15471041535107738 and parameters: {'n_neighbors': 7, 'weights': 'uniform', 'metric': 'manhattan'}. Best is trial 19 with value: -0.1510576858846378.\n",
      "[I 2023-10-17 09:57:54,788] Trial 30 finished with value: -0.1510710910633308 and parameters: {'n_neighbors': 11, 'weights': 'distance', 'metric': 'manhattan'}. Best is trial 19 with value: -0.1510576858846378.\n",
      "[I 2023-10-17 09:57:54,959] Trial 31 finished with value: -0.15127675761301176 and parameters: {'n_neighbors': 14, 'weights': 'distance', 'metric': 'manhattan'}. Best is trial 19 with value: -0.1510576858846378.\n",
      "[I 2023-10-17 09:57:55,128] Trial 32 finished with value: -0.15139264425112628 and parameters: {'n_neighbors': 15, 'weights': 'distance', 'metric': 'manhattan'}. Best is trial 19 with value: -0.1510576858846378.\n",
      "[I 2023-10-17 09:57:55,295] Trial 33 finished with value: -0.15143099561701054 and parameters: {'n_neighbors': 8, 'weights': 'distance', 'metric': 'manhattan'}. Best is trial 19 with value: -0.1510576858846378.\n",
      "[I 2023-10-17 09:57:55,764] Trial 34 finished with value: -0.15550167575076307 and parameters: {'n_neighbors': 19, 'weights': 'distance', 'metric': 'minkowski', 'p': 5}. Best is trial 19 with value: -0.1510576858846378.\n",
      "[I 2023-10-17 09:57:55,927] Trial 35 finished with value: -0.1557356394014513 and parameters: {'n_neighbors': 11, 'weights': 'distance', 'metric': 'chebyshev'}. Best is trial 19 with value: -0.1510576858846378.\n",
      "[I 2023-10-17 09:57:56,105] Trial 36 finished with value: -0.1510576858846378 and parameters: {'n_neighbors': 13, 'weights': 'distance', 'metric': 'manhattan'}. Best is trial 19 with value: -0.1510576858846378.\n",
      "[I 2023-10-17 09:57:56,613] Trial 37 finished with value: -0.15603946031611543 and parameters: {'n_neighbors': 25, 'weights': 'distance', 'metric': 'minkowski', 'p': 4}. Best is trial 19 with value: -0.1510576858846378.\n",
      "[I 2023-10-17 09:57:56,796] Trial 38 finished with value: -0.15627545894811973 and parameters: {'n_neighbors': 18, 'weights': 'uniform', 'metric': 'manhattan'}. Best is trial 19 with value: -0.1510576858846378.\n"
     ]
    },
    {
     "name": "stderr",
     "output_type": "stream",
     "text": [
      "[I 2023-10-17 09:57:56,957] Trial 39 finished with value: -0.15111864274497983 and parameters: {'n_neighbors': 9, 'weights': 'distance', 'metric': 'manhattan'}. Best is trial 19 with value: -0.1510576858846378.\n",
      "[I 2023-10-17 09:57:57,115] Trial 40 finished with value: -0.1558526304642211 and parameters: {'n_neighbors': 15, 'weights': 'distance', 'metric': 'chebyshev'}. Best is trial 19 with value: -0.1510576858846378.\n",
      "[I 2023-10-17 09:57:57,282] Trial 41 finished with value: -0.1510576858846378 and parameters: {'n_neighbors': 13, 'weights': 'distance', 'metric': 'manhattan'}. Best is trial 19 with value: -0.1510576858846378.\n",
      "[I 2023-10-17 09:57:57,441] Trial 42 finished with value: -0.15096739717511148 and parameters: {'n_neighbors': 10, 'weights': 'distance', 'metric': 'manhattan'}. Best is trial 42 with value: -0.15096739717511148.\n",
      "[I 2023-10-17 09:57:57,603] Trial 43 finished with value: -0.15096739717511148 and parameters: {'n_neighbors': 10, 'weights': 'distance', 'metric': 'manhattan'}. Best is trial 42 with value: -0.15096739717511148.\n",
      "[I 2023-10-17 09:57:57,874] Trial 44 finished with value: -0.16070995833403953 and parameters: {'n_neighbors': 3, 'weights': 'distance', 'metric': 'minkowski', 'p': 3}. Best is trial 42 with value: -0.15096739717511148.\n",
      "[I 2023-10-17 09:57:58,036] Trial 45 finished with value: -0.15275169019166776 and parameters: {'n_neighbors': 5, 'weights': 'distance', 'metric': 'manhattan'}. Best is trial 42 with value: -0.15096739717511148.\n",
      "[I 2023-10-17 09:57:58,205] Trial 46 finished with value: -0.15351587365475955 and parameters: {'n_neighbors': 9, 'weights': 'distance', 'metric': 'euclidean'}. Best is trial 42 with value: -0.15096739717511148.\n",
      "[I 2023-10-17 09:57:58,370] Trial 47 finished with value: -0.154382441757892 and parameters: {'n_neighbors': 10, 'weights': 'uniform', 'metric': 'manhattan'}. Best is trial 42 with value: -0.15096739717511148.\n",
      "[I 2023-10-17 09:57:58,592] Trial 48 finished with value: -0.15402635675172885 and parameters: {'n_neighbors': 38, 'weights': 'distance', 'metric': 'manhattan'}. Best is trial 42 with value: -0.15096739717511148.\n",
      "[I 2023-10-17 09:57:58,745] Trial 49 finished with value: -0.15143099561701054 and parameters: {'n_neighbors': 8, 'weights': 'distance', 'metric': 'manhattan'}. Best is trial 42 with value: -0.15096739717511148.\n",
      "[I 2023-10-17 09:57:58,912] Trial 50 finished with value: -0.15371846599607747 and parameters: {'n_neighbors': 16, 'weights': 'distance', 'metric': 'euclidean'}. Best is trial 42 with value: -0.15096739717511148.\n",
      "[I 2023-10-17 09:57:59,087] Trial 51 finished with value: -0.1510710910633308 and parameters: {'n_neighbors': 11, 'weights': 'distance', 'metric': 'manhattan'}. Best is trial 42 with value: -0.15096739717511148.\n",
      "[I 2023-10-17 09:57:59,275] Trial 52 finished with value: -0.1517854671073286 and parameters: {'n_neighbors': 19, 'weights': 'distance', 'metric': 'manhattan'}. Best is trial 42 with value: -0.15096739717511148.\n",
      "[I 2023-10-17 09:57:59,451] Trial 53 finished with value: -0.1511493114288146 and parameters: {'n_neighbors': 12, 'weights': 'distance', 'metric': 'manhattan'}. Best is trial 42 with value: -0.15096739717511148.\n",
      "[I 2023-10-17 09:57:59,631] Trial 54 finished with value: -0.15127675761301176 and parameters: {'n_neighbors': 14, 'weights': 'distance', 'metric': 'manhattan'}. Best is trial 42 with value: -0.15096739717511148.\n",
      "[I 2023-10-17 09:57:59,816] Trial 55 finished with value: -0.15155559030552943 and parameters: {'n_neighbors': 17, 'weights': 'distance', 'metric': 'manhattan'}. Best is trial 42 with value: -0.15096739717511148.\n",
      "[I 2023-10-17 09:57:59,993] Trial 56 finished with value: -0.15096739717511148 and parameters: {'n_neighbors': 10, 'weights': 'distance', 'metric': 'minkowski', 'p': 1}. Best is trial 42 with value: -0.15096739717511148.\n",
      "[I 2023-10-17 09:58:00,158] Trial 57 finished with value: -0.15143099561701054 and parameters: {'n_neighbors': 8, 'weights': 'distance', 'metric': 'minkowski', 'p': 1}. Best is trial 42 with value: -0.15096739717511148.\n",
      "[I 2023-10-17 09:58:00,577] Trial 58 finished with value: -0.15802961443777216 and parameters: {'n_neighbors': 10, 'weights': 'uniform', 'metric': 'minkowski', 'p': 3}. Best is trial 42 with value: -0.15096739717511148.\n",
      "[I 2023-10-17 09:58:00,717] Trial 59 finished with value: -0.1641906269748951 and parameters: {'n_neighbors': 2, 'weights': 'distance', 'metric': 'minkowski', 'p': 2}. Best is trial 42 with value: -0.15096739717511148.\n",
      "[I 2023-10-17 09:58:00,879] Trial 60 finished with value: -0.15275169019166776 and parameters: {'n_neighbors': 5, 'weights': 'distance', 'metric': 'minkowski', 'p': 1}. Best is trial 42 with value: -0.15096739717511148.\n",
      "[I 2023-10-17 09:58:01,036] Trial 61 finished with value: -0.1556857284998944 and parameters: {'n_neighbors': 12, 'weights': 'distance', 'metric': 'chebyshev'}. Best is trial 42 with value: -0.15096739717511148.\n",
      "[I 2023-10-17 09:58:01,191] Trial 62 finished with value: -0.1517186030335048 and parameters: {'n_neighbors': 7, 'weights': 'distance', 'metric': 'manhattan'}. Best is trial 42 with value: -0.15096739717511148.\n",
      "[I 2023-10-17 09:58:01,369] Trial 63 finished with value: -0.15127675761301176 and parameters: {'n_neighbors': 14, 'weights': 'distance', 'metric': 'manhattan'}. Best is trial 42 with value: -0.15096739717511148.\n",
      "[I 2023-10-17 09:58:01,542] Trial 64 finished with value: -0.15143193877534777 and parameters: {'n_neighbors': 16, 'weights': 'distance', 'metric': 'manhattan'}. Best is trial 42 with value: -0.15096739717511148.\n",
      "[I 2023-10-17 09:58:01,697] Trial 65 finished with value: -0.15344764342714753 and parameters: {'n_neighbors': 10, 'weights': 'distance', 'metric': 'euclidean'}. Best is trial 42 with value: -0.15096739717511148.\n",
      "[I 2023-10-17 09:58:02,077] Trial 66 finished with value: -0.15476893946772502 and parameters: {'n_neighbors': 12, 'weights': 'distance', 'metric': 'minkowski', 'p': 4}. Best is trial 42 with value: -0.15096739717511148.\n",
      "[I 2023-10-17 09:58:02,237] Trial 67 finished with value: -0.1510710910633308 and parameters: {'n_neighbors': 11, 'weights': 'distance', 'metric': 'manhattan'}. Best is trial 42 with value: -0.15096739717511148.\n",
      "[I 2023-10-17 09:58:02,445] Trial 68 finished with value: -0.15636111185831011 and parameters: {'n_neighbors': 19, 'weights': 'uniform', 'metric': 'manhattan'}. Best is trial 42 with value: -0.15096739717511148.\n",
      "[I 2023-10-17 09:58:02,658] Trial 69 finished with value: -0.15312743749462462 and parameters: {'n_neighbors': 31, 'weights': 'distance', 'metric': 'manhattan'}. Best is trial 42 with value: -0.15096739717511148.\n",
      "[I 2023-10-17 09:58:02,816] Trial 70 finished with value: -0.15668265687728217 and parameters: {'n_neighbors': 7, 'weights': 'distance', 'metric': 'chebyshev'}. Best is trial 42 with value: -0.15096739717511148.\n",
      "[I 2023-10-17 09:58:03,002] Trial 71 finished with value: -0.1510576858846378 and parameters: {'n_neighbors': 13, 'weights': 'distance', 'metric': 'manhattan'}. Best is trial 42 with value: -0.15096739717511148.\n",
      "[I 2023-10-17 09:58:03,169] Trial 72 finished with value: -0.15127675761301176 and parameters: {'n_neighbors': 14, 'weights': 'distance', 'metric': 'manhattan'}. Best is trial 42 with value: -0.15096739717511148.\n",
      "[I 2023-10-17 09:58:03,341] Trial 73 finished with value: -0.15111864274497983 and parameters: {'n_neighbors': 9, 'weights': 'distance', 'metric': 'manhattan'}. Best is trial 42 with value: -0.15096739717511148.\n",
      "[I 2023-10-17 09:58:03,580] Trial 74 finished with value: -0.15143193877534777 and parameters: {'n_neighbors': 16, 'weights': 'distance', 'metric': 'manhattan'}. Best is trial 42 with value: -0.15096739717511148.\n",
      "[I 2023-10-17 09:58:03,756] Trial 75 finished with value: -0.1510576858846378 and parameters: {'n_neighbors': 13, 'weights': 'distance', 'metric': 'manhattan'}. Best is trial 42 with value: -0.15096739717511148.\n",
      "[I 2023-10-17 09:58:03,926] Trial 76 finished with value: -0.1510710910633308 and parameters: {'n_neighbors': 11, 'weights': 'distance', 'metric': 'manhattan'}. Best is trial 42 with value: -0.15096739717511148.\n",
      "[I 2023-10-17 09:58:04,106] Trial 77 finished with value: -0.15363458630564997 and parameters: {'n_neighbors': 15, 'weights': 'distance', 'metric': 'minkowski', 'p': 2}. Best is trial 42 with value: -0.15096739717511148.\n"
     ]
    },
    {
     "name": "stderr",
     "output_type": "stream",
     "text": [
      "[I 2023-10-17 09:58:04,255] Trial 78 finished with value: -0.15143099561701054 and parameters: {'n_neighbors': 8, 'weights': 'distance', 'metric': 'manhattan'}. Best is trial 42 with value: -0.15096739717511148.\n",
      "[I 2023-10-17 09:58:04,421] Trial 79 finished with value: -0.154382441757892 and parameters: {'n_neighbors': 10, 'weights': 'uniform', 'metric': 'manhattan'}. Best is trial 42 with value: -0.15096739717511148.\n",
      "[I 2023-10-17 09:58:04,610] Trial 80 finished with value: -0.15423506657786226 and parameters: {'n_neighbors': 18, 'weights': 'distance', 'metric': 'euclidean'}. Best is trial 42 with value: -0.15096739717511148.\n",
      "[I 2023-10-17 09:58:04,787] Trial 81 finished with value: -0.1510576858846378 and parameters: {'n_neighbors': 13, 'weights': 'distance', 'metric': 'manhattan'}. Best is trial 42 with value: -0.15096739717511148.\n",
      "[I 2023-10-17 09:58:04,965] Trial 82 finished with value: -0.1510576858846378 and parameters: {'n_neighbors': 13, 'weights': 'distance', 'metric': 'manhattan'}. Best is trial 42 with value: -0.15096739717511148.\n",
      "[I 2023-10-17 09:58:05,137] Trial 83 finished with value: -0.1511493114288146 and parameters: {'n_neighbors': 12, 'weights': 'distance', 'metric': 'manhattan'}. Best is trial 42 with value: -0.15096739717511148.\n",
      "[I 2023-10-17 09:58:05,313] Trial 84 finished with value: -0.15139264425112628 and parameters: {'n_neighbors': 15, 'weights': 'distance', 'metric': 'manhattan'}. Best is trial 42 with value: -0.15096739717511148.\n",
      "[I 2023-10-17 09:58:05,480] Trial 85 finished with value: -0.15111864274497983 and parameters: {'n_neighbors': 9, 'weights': 'distance', 'metric': 'manhattan'}. Best is trial 42 with value: -0.15096739717511148.\n",
      "[I 2023-10-17 09:58:05,642] Trial 86 finished with value: -0.1510710910633308 and parameters: {'n_neighbors': 11, 'weights': 'distance', 'metric': 'manhattan'}. Best is trial 42 with value: -0.15096739717511148.\n",
      "[I 2023-10-17 09:58:05,785] Trial 87 finished with value: -0.1519875042303453 and parameters: {'n_neighbors': 6, 'weights': 'distance', 'metric': 'manhattan'}. Best is trial 42 with value: -0.15096739717511148.\n",
      "[I 2023-10-17 09:58:05,940] Trial 88 finished with value: -0.15603877652944995 and parameters: {'n_neighbors': 16, 'weights': 'distance', 'metric': 'chebyshev'}. Best is trial 42 with value: -0.15096739717511148.\n",
      "[I 2023-10-17 09:58:06,441] Trial 89 finished with value: -0.156289948848344 and parameters: {'n_neighbors': 27, 'weights': 'distance', 'metric': 'minkowski', 'p': 4}. Best is trial 42 with value: -0.15096739717511148.\n",
      "[I 2023-10-17 09:58:06,616] Trial 90 finished with value: -0.15127675761301176 and parameters: {'n_neighbors': 14, 'weights': 'distance', 'metric': 'manhattan'}. Best is trial 42 with value: -0.15096739717511148.\n",
      "[I 2023-10-17 09:58:06,804] Trial 91 finished with value: -0.1510576858846378 and parameters: {'n_neighbors': 13, 'weights': 'distance', 'metric': 'manhattan'}. Best is trial 42 with value: -0.15096739717511148.\n",
      "[I 2023-10-17 09:58:06,987] Trial 92 finished with value: -0.1511493114288146 and parameters: {'n_neighbors': 12, 'weights': 'distance', 'metric': 'manhattan'}. Best is trial 42 with value: -0.15096739717511148.\n",
      "[I 2023-10-17 09:58:07,145] Trial 93 finished with value: -0.15096739717511148 and parameters: {'n_neighbors': 10, 'weights': 'distance', 'metric': 'manhattan'}. Best is trial 42 with value: -0.15096739717511148.\n",
      "[I 2023-10-17 09:58:07,309] Trial 94 finished with value: -0.15096739717511148 and parameters: {'n_neighbors': 10, 'weights': 'distance', 'metric': 'manhattan'}. Best is trial 42 with value: -0.15096739717511148.\n",
      "[I 2023-10-17 09:58:07,466] Trial 95 finished with value: -0.15096739717511148 and parameters: {'n_neighbors': 10, 'weights': 'distance', 'metric': 'manhattan'}. Best is trial 42 with value: -0.15096739717511148.\n",
      "[I 2023-10-17 09:58:07,629] Trial 96 finished with value: -0.15096739717511148 and parameters: {'n_neighbors': 10, 'weights': 'distance', 'metric': 'manhattan'}. Best is trial 42 with value: -0.15096739717511148.\n",
      "[I 2023-10-17 09:58:07,793] Trial 97 finished with value: -0.15096739717511148 and parameters: {'n_neighbors': 10, 'weights': 'distance', 'metric': 'manhattan'}. Best is trial 42 with value: -0.15096739717511148.\n",
      "[I 2023-10-17 09:58:07,940] Trial 98 finished with value: -0.15471041535107738 and parameters: {'n_neighbors': 7, 'weights': 'uniform', 'metric': 'manhattan'}. Best is trial 42 with value: -0.15096739717511148.\n",
      "[I 2023-10-17 09:58:08,102] Trial 99 finished with value: -0.15111864274497983 and parameters: {'n_neighbors': 9, 'weights': 'distance', 'metric': 'manhattan'}. Best is trial 42 with value: -0.15096739717511148.\n"
     ]
    },
    {
     "name": "stdout",
     "output_type": "stream",
     "text": [
      "Valor óptimo de neg_mean_squared_error: -0.15096739717511148\n",
      "Mejores hiperparámetros: {'n_neighbors': 10, 'weights': 'distance', 'metric': 'manhattan'}\n"
     ]
    }
   ],
   "source": [
    "def objective(trial):\n",
    "    \n",
    "    # Definición de hiperparámetros a optimizar\n",
    "    n_neighbors = trial.suggest_int('n_neighbors', 2, 40)\n",
    "    weights = trial.suggest_categorical('weights', ['uniform', 'distance'])\n",
    "    metric = trial.suggest_categorical('metric', ['minkowski', 'euclidean', 'manhattan', 'chebyshev'])\n",
    "    p = 2 if metric != 'minkowski' else trial.suggest_int('p', 1, 5)  # 'p' sólo es relevante para la métrica 'minkowski'\n",
    "    metric_params = None if metric != 'wminkowski' else {'w': trial.suggest_float('w', 0.0, 1.0)}  # 'w' sólo es relevante para 'wminkowski'\n",
    "    \n",
    "    # Creación del modelo con los hiperparámetros sugeridos\n",
    "    model_knn = KNeighborsRegressor(\n",
    "        n_neighbors=n_neighbors,\n",
    "        weights=weights,\n",
    "        metric=metric,\n",
    "        p=p,\n",
    "        metric_params=metric_params\n",
    "    )\n",
    "    \n",
    "    # Se utiliza la validación cruzada para evaluar el rendimiento del modelo\n",
    "    return cross_val_score(model_knn, DEE_x_train, DEE_y_train, n_jobs=-1, cv=10, scoring='neg_mean_absolute_error').mean()\n",
    "\n",
    "# Crear un estudio de Optuna y optimizar el estudio\n",
    "study = optuna.create_study(direction='maximize')  # Maximizar porque estamos usando 'neg_mean_squared_error'\n",
    "study.optimize(objective, n_trials=100)\n",
    "\n",
    "# Resultados de la optimización\n",
    "print(f\"Valor óptimo de neg_mean_squared_error: {study.best_value}\")\n",
    "print(f\"Mejores hiperparámetros: {study.best_params}\")\n"
   ]
  },
  {
   "cell_type": "code",
   "execution_count": 27,
   "id": "b2717dcd",
   "metadata": {},
   "outputs": [
    {
     "data": {
      "text/html": [
       "<style>#sk-container-id-3 {color: black;}#sk-container-id-3 pre{padding: 0;}#sk-container-id-3 div.sk-toggleable {background-color: white;}#sk-container-id-3 label.sk-toggleable__label {cursor: pointer;display: block;width: 100%;margin-bottom: 0;padding: 0.3em;box-sizing: border-box;text-align: center;}#sk-container-id-3 label.sk-toggleable__label-arrow:before {content: \"▸\";float: left;margin-right: 0.25em;color: #696969;}#sk-container-id-3 label.sk-toggleable__label-arrow:hover:before {color: black;}#sk-container-id-3 div.sk-estimator:hover label.sk-toggleable__label-arrow:before {color: black;}#sk-container-id-3 div.sk-toggleable__content {max-height: 0;max-width: 0;overflow: hidden;text-align: left;background-color: #f0f8ff;}#sk-container-id-3 div.sk-toggleable__content pre {margin: 0.2em;color: black;border-radius: 0.25em;background-color: #f0f8ff;}#sk-container-id-3 input.sk-toggleable__control:checked~div.sk-toggleable__content {max-height: 200px;max-width: 100%;overflow: auto;}#sk-container-id-3 input.sk-toggleable__control:checked~label.sk-toggleable__label-arrow:before {content: \"▾\";}#sk-container-id-3 div.sk-estimator input.sk-toggleable__control:checked~label.sk-toggleable__label {background-color: #d4ebff;}#sk-container-id-3 div.sk-label input.sk-toggleable__control:checked~label.sk-toggleable__label {background-color: #d4ebff;}#sk-container-id-3 input.sk-hidden--visually {border: 0;clip: rect(1px 1px 1px 1px);clip: rect(1px, 1px, 1px, 1px);height: 1px;margin: -1px;overflow: hidden;padding: 0;position: absolute;width: 1px;}#sk-container-id-3 div.sk-estimator {font-family: monospace;background-color: #f0f8ff;border: 1px dotted black;border-radius: 0.25em;box-sizing: border-box;margin-bottom: 0.5em;}#sk-container-id-3 div.sk-estimator:hover {background-color: #d4ebff;}#sk-container-id-3 div.sk-parallel-item::after {content: \"\";width: 100%;border-bottom: 1px solid gray;flex-grow: 1;}#sk-container-id-3 div.sk-label:hover label.sk-toggleable__label {background-color: #d4ebff;}#sk-container-id-3 div.sk-serial::before {content: \"\";position: absolute;border-left: 1px solid gray;box-sizing: border-box;top: 0;bottom: 0;left: 50%;z-index: 0;}#sk-container-id-3 div.sk-serial {display: flex;flex-direction: column;align-items: center;background-color: white;padding-right: 0.2em;padding-left: 0.2em;position: relative;}#sk-container-id-3 div.sk-item {position: relative;z-index: 1;}#sk-container-id-3 div.sk-parallel {display: flex;align-items: stretch;justify-content: center;background-color: white;position: relative;}#sk-container-id-3 div.sk-item::before, #sk-container-id-3 div.sk-parallel-item::before {content: \"\";position: absolute;border-left: 1px solid gray;box-sizing: border-box;top: 0;bottom: 0;left: 50%;z-index: -1;}#sk-container-id-3 div.sk-parallel-item {display: flex;flex-direction: column;z-index: 1;position: relative;background-color: white;}#sk-container-id-3 div.sk-parallel-item:first-child::after {align-self: flex-end;width: 50%;}#sk-container-id-3 div.sk-parallel-item:last-child::after {align-self: flex-start;width: 50%;}#sk-container-id-3 div.sk-parallel-item:only-child::after {width: 0;}#sk-container-id-3 div.sk-dashed-wrapped {border: 1px dashed gray;margin: 0 0.4em 0.5em 0.4em;box-sizing: border-box;padding-bottom: 0.4em;background-color: white;}#sk-container-id-3 div.sk-label label {font-family: monospace;font-weight: bold;display: inline-block;line-height: 1.2em;}#sk-container-id-3 div.sk-label-container {text-align: center;}#sk-container-id-3 div.sk-container {/* jupyter's `normalize.less` sets `[hidden] { display: none; }` but bootstrap.min.css set `[hidden] { display: none !important; }` so we also need the `!important` here to be able to override the default hidden behavior on the sphinx rendered scikit-learn.org. See: https://github.com/scikit-learn/scikit-learn/issues/21755 */display: inline-block !important;position: relative;}#sk-container-id-3 div.sk-text-repr-fallback {display: none;}</style><div id=\"sk-container-id-3\" class=\"sk-top-container\"><div class=\"sk-text-repr-fallback\"><pre>KNeighborsRegressor(metric=&#x27;manhattan&#x27;, n_neighbors=10, weights=&#x27;distance&#x27;)</pre><b>In a Jupyter environment, please rerun this cell to show the HTML representation or trust the notebook. <br />On GitHub, the HTML representation is unable to render, please try loading this page with nbviewer.org.</b></div><div class=\"sk-container\" hidden><div class=\"sk-item\"><div class=\"sk-estimator sk-toggleable\"><input class=\"sk-toggleable__control sk-hidden--visually\" id=\"sk-estimator-id-3\" type=\"checkbox\" checked><label for=\"sk-estimator-id-3\" class=\"sk-toggleable__label sk-toggleable__label-arrow\">KNeighborsRegressor</label><div class=\"sk-toggleable__content\"><pre>KNeighborsRegressor(metric=&#x27;manhattan&#x27;, n_neighbors=10, weights=&#x27;distance&#x27;)</pre></div></div></div></div></div>"
      ],
      "text/plain": [
       "KNeighborsRegressor(metric='manhattan', n_neighbors=10, weights='distance')"
      ]
     },
     "execution_count": 27,
     "metadata": {},
     "output_type": "execute_result"
    }
   ],
   "source": [
    "DEE_model_knn = KNeighborsRegressor(n_neighbors = 10, weights = 'distance', metric = 'manhattan',)\n",
    "DEE_model_knn.fit(DEE_x_train, DEE_y_train)"
   ]
  },
  {
   "cell_type": "code",
   "execution_count": 28,
   "id": "b0a7c655",
   "metadata": {},
   "outputs": [
    {
     "name": "stdout",
     "output_type": "stream",
     "text": [
      "0.0470152373868 0.150625347394\n"
     ]
    }
   ],
   "source": [
    "dee_knn_pred = DEE_model_knn.predict(DEE_x_test)\n",
    "mse = mean_squared_error(DEE_y_test, dee_knn_pred)\n",
    "mae = mean_absolute_error(DEE_y_test, dee_knn_pred)\n",
    "print(mse, mae)"
   ]
  },
  {
   "cell_type": "markdown",
   "id": "3e5a8064",
   "metadata": {},
   "source": [
    "### Busqueda de hiperparametros tomando en cuenta modelos anteriores"
   ]
  },
  {
   "cell_type": "markdown",
   "id": "9e62e269",
   "metadata": {},
   "source": [
    "# Resultado:  \n",
    "\n",
    "* MAE Parametro Remb = 0.1216493975  \n",
    "\n",
    "* MAE Parametro R =   0.138093167896 \n",
    "\n",
    "* MAE Parametro DEE = 0.150625347394  \n",
    "\n",
    "**Promedio**   =      0.1367  \n",
    "**Rango**: 0 ≤ MAE <∞  "
   ]
  },
  {
   "cell_type": "code",
   "execution_count": null,
   "id": "56501ed3",
   "metadata": {},
   "outputs": [],
   "source": []
  }
 ],
 "metadata": {
  "kernelspec": {
   "display_name": "Python 3 (ipykernel)",
   "language": "python",
   "name": "python3"
  },
  "language_info": {
   "codemirror_mode": {
    "name": "ipython",
    "version": 3
   },
   "file_extension": ".py",
   "mimetype": "text/x-python",
   "name": "python",
   "nbconvert_exporter": "python",
   "pygments_lexer": "ipython3",
   "version": "3.11.2"
  }
 },
 "nbformat": 4,
 "nbformat_minor": 5
}
